{
 "cells": [
  {
   "cell_type": "code",
   "execution_count": 28,
   "metadata": {},
   "outputs": [],
   "source": [
    "%matplotlib inline"
   ]
  },
  {
   "cell_type": "markdown",
   "metadata": {},
   "source": [
    "# Módulo 4 - Aula 2: Grid Search\n",
    "\n",
    "Professora: Esther Colombini -- esther@ic.unicamp.br\n",
    "\n",
    "Monitores: Alana Santana -- alana.correia@ic.unicamp.br\n",
    "           Hudson Bruno -- hudson.bruno@ic.unicamp.br\n",
    "\n",
    "Este *notebook* faz parte da disciplina INF-0616 no curso de extensão MDC.  \n",
    "Demais artefatos podem ser encontrados no moodle da disciplina: \n",
    "[moodle.lab.ic.unicamp.br/456](https://moodle.lab.ic.unicamp.br/moodle/course/view.php?id=456)\n",
    "\n",
    "Instituto de Computação - Unicamp 2021\n"
   ]
  },
  {
   "cell_type": "markdown",
   "metadata": {},
   "source": [
    "**Busca de parametros com ``GridSearchCV`` e ``RandomSearchCV``**\n",
    "\n",
    "*Fonte: [Introduction to machine learning with scikit-learn](https://github.com/justmarkham/scikit-learn-videos)*"
   ]
  },
  {
   "cell_type": "markdown",
   "metadata": {},
   "source": [
    "## Parameter tuning com `cross_val_score`"
   ]
  },
  {
   "cell_type": "code",
   "execution_count": 25,
   "metadata": {},
   "outputs": [],
   "source": [
    "from sklearn.datasets import load_iris\n",
    "from sklearn.svm import SVC\n",
    "from sklearn.model_selection import cross_val_score\n",
    "import matplotlib.pyplot as plt\n",
    "import numpy as np"
   ]
  },
  {
   "cell_type": "code",
   "execution_count": 26,
   "metadata": {},
   "outputs": [],
   "source": [
    "# Carrega o dataset\n",
    "iris = load_iris()\n",
    "X = iris.data\n",
    "y = iris.target"
   ]
  },
  {
   "cell_type": "code",
   "execution_count": 22,
   "metadata": {},
   "outputs": [
    {
     "name": "stdout",
     "output_type": "stream",
     "text": [
      "[0.93333333 0.93333333 0.93333333 0.93333333 0.93333333 0.8\n",
      " 1.         0.93333333 1.         0.93333333]\n"
     ]
    },
    {
     "name": "stderr",
     "output_type": "stream",
     "text": [
      "[Parallel(n_jobs=1)]: Using backend SequentialBackend with 1 concurrent workers.\n",
      "[Parallel(n_jobs=1)]: Done  10 out of  10 | elapsed:    0.0s finished\n"
     ]
    }
   ],
   "source": [
    "# 10-fold cross-validation com C=1.0\n",
    "svm = SVC(kernel='rbf', C=0.1)\n",
    "scores = cross_val_score(svm, X, y, cv=10, scoring='accuracy', verbose=1)\n",
    "print(scores)"
   ]
  },
  {
   "cell_type": "code",
   "execution_count": 23,
   "metadata": {},
   "outputs": [
    {
     "name": "stdout",
     "output_type": "stream",
     "text": [
      "0.9333333333333333\n"
     ]
    }
   ],
   "source": [
    "# acurácia média dos 10-folds\n",
    "print(scores.mean())"
   ]
  },
  {
   "cell_type": "code",
   "execution_count": 28,
   "metadata": {},
   "outputs": [
    {
     "name": "stderr",
     "output_type": "stream",
     "text": [
      "[Parallel(n_jobs=1)]: Using backend SequentialBackend with 1 concurrent workers.\n",
      "[Parallel(n_jobs=1)]: Done  10 out of  10 | elapsed:    0.0s finished\n",
      "[Parallel(n_jobs=1)]: Using backend SequentialBackend with 1 concurrent workers.\n",
      "[Parallel(n_jobs=1)]: Done  10 out of  10 | elapsed:    0.0s finished\n",
      "[Parallel(n_jobs=1)]: Using backend SequentialBackend with 1 concurrent workers.\n",
      "[Parallel(n_jobs=1)]: Done  10 out of  10 | elapsed:    0.0s finished\n",
      "[Parallel(n_jobs=1)]: Using backend SequentialBackend with 1 concurrent workers.\n",
      "[Parallel(n_jobs=1)]: Done  10 out of  10 | elapsed:    0.0s finished\n",
      "[Parallel(n_jobs=1)]: Using backend SequentialBackend with 1 concurrent workers.\n",
      "[Parallel(n_jobs=1)]: Done  10 out of  10 | elapsed:    0.1s finished\n",
      "[Parallel(n_jobs=1)]: Using backend SequentialBackend with 1 concurrent workers.\n"
     ]
    },
    {
     "name": "stdout",
     "output_type": "stream",
     "text": [
      "[1.00000000e-02 5.17947468e-01 2.68269580e+01 1.38949549e+03\n",
      " 7.19685673e+04 3.72759372e+06 1.93069773e+08 1.00000000e+10]\n",
      "[0.9266666666666667, 0.9533333333333334, 0.9733333333333334, 0.96, 0.9333333333333333, 0.9333333333333333, 0.9333333333333333, 0.9333333333333333]\n"
     ]
    },
    {
     "name": "stderr",
     "output_type": "stream",
     "text": [
      "[Parallel(n_jobs=1)]: Done  10 out of  10 | elapsed:    0.1s finished\n",
      "[Parallel(n_jobs=1)]: Using backend SequentialBackend with 1 concurrent workers.\n",
      "[Parallel(n_jobs=1)]: Done  10 out of  10 | elapsed:    0.1s finished\n",
      "[Parallel(n_jobs=1)]: Using backend SequentialBackend with 1 concurrent workers.\n",
      "[Parallel(n_jobs=1)]: Done  10 out of  10 | elapsed:    0.1s finished\n"
     ]
    }
   ],
   "source": [
    "# busca o melhor valor de C\n",
    "C_range = np.logspace(-2, 10, 8)\n",
    "C_scores = []\n",
    "for C in C_range:\n",
    "    svm = SVC(kernel='rbf', C=C)\n",
    "    scores = cross_val_score(svm, X, y, cv=10, scoring='accuracy',verbose=1)\n",
    "    C_scores.append(scores.mean())\n",
    "print(C_range)\n",
    "print(C_scores)"
   ]
  },
  {
   "cell_type": "markdown",
   "metadata": {},
   "source": [
    "## Parameter tuning com `GridSearchCV` (mais eficiente)"
   ]
  },
  {
   "cell_type": "code",
   "execution_count": 36,
   "metadata": {},
   "outputs": [],
   "source": [
    "from sklearn.model_selection import GridSearchCV"
   ]
  },
  {
   "cell_type": "code",
   "execution_count": 37,
   "metadata": {},
   "outputs": [
    {
     "name": "stdout",
     "output_type": "stream",
     "text": [
      "[1.00000000e-02 5.17947468e-01 2.68269580e+01 1.38949549e+03\n",
      " 7.19685673e+04 3.72759372e+06 1.93069773e+08 1.00000000e+10]\n"
     ]
    }
   ],
   "source": [
    "# define os valores do parametro \n",
    "C_range = np.logspace(-2, 10, 8)\n",
    "gamma_range = np.logspace(-2, 10, 8)\n",
    "print(C_range)"
   ]
  },
  {
   "cell_type": "code",
   "execution_count": 38,
   "metadata": {},
   "outputs": [
    {
     "name": "stdout",
     "output_type": "stream",
     "text": [
      "{'C': array([1.00000000e-02, 5.17947468e-01, 2.68269580e+01, 1.38949549e+03,\n",
      "       7.19685673e+04, 3.72759372e+06, 1.93069773e+08, 1.00000000e+10]), 'gamma': array([1.00000000e-02, 5.17947468e-01, 2.68269580e+01, 1.38949549e+03,\n",
      "       7.19685673e+04, 3.72759372e+06, 1.93069773e+08, 1.00000000e+10])}\n"
     ]
    }
   ],
   "source": [
    "# cria o grid do parametro\n",
    "param_grid = dict(C=C_range, gamma=gamma_range)\n",
    "print(param_grid)"
   ]
  },
  {
   "cell_type": "code",
   "execution_count": 39,
   "metadata": {},
   "outputs": [],
   "source": [
    "# instantiate the grid\n",
    "grid = GridSearchCV(svm, param_grid, cv=10, scoring='accuracy',verbose=1)"
   ]
  },
  {
   "cell_type": "markdown",
   "metadata": {},
   "source": [
    "- Você pode usar **`n_jobs = -1`** para executar em paralelo (se suportado pelo computador/SO)"
   ]
  },
  {
   "cell_type": "code",
   "execution_count": 40,
   "metadata": {},
   "outputs": [
    {
     "name": "stdout",
     "output_type": "stream",
     "text": [
      "Fitting 10 folds for each of 64 candidates, totalling 640 fits\n"
     ]
    },
    {
     "name": "stderr",
     "output_type": "stream",
     "text": [
      "[Parallel(n_jobs=1)]: Using backend SequentialBackend with 1 concurrent workers.\n",
      "[Parallel(n_jobs=1)]: Done 640 out of 640 | elapsed:    3.8s finished\n"
     ]
    },
    {
     "data": {
      "text/plain": [
       "GridSearchCV(cv=10, error_score=nan,\n",
       "             estimator=SVC(C=10000000000.0, break_ties=False, cache_size=200,\n",
       "                           class_weight=None, coef0=0.0,\n",
       "                           decision_function_shape='ovr', degree=3,\n",
       "                           gamma='scale', kernel='rbf', max_iter=-1,\n",
       "                           probability=False, random_state=None, shrinking=True,\n",
       "                           tol=0.001, verbose=False),\n",
       "             iid='deprecated', n_jobs=None,\n",
       "             param_grid={'C': array([1.00000000e-02, 5.17947468e-01, 2.68269580e+01, 1.38949549e+03,\n",
       "       7.19685673e+04, 3.72759372e+06, 1.93069773e+08, 1.00000000e+10]),\n",
       "                         'gamma': array([1.00000000e-02, 5.17947468e-01, 2.68269580e+01, 1.38949549e+03,\n",
       "       7.19685673e+04, 3.72759372e+06, 1.93069773e+08, 1.00000000e+10])},\n",
       "             pre_dispatch='2*n_jobs', refit=True, return_train_score=False,\n",
       "             scoring='accuracy', verbose=1)"
      ]
     },
     "execution_count": 40,
     "metadata": {},
     "output_type": "execute_result"
    }
   ],
   "source": [
    "grid.fit(X, y)"
   ]
  },
  {
   "cell_type": "code",
   "execution_count": 41,
   "metadata": {},
   "outputs": [
    {
     "data": {
      "text/plain": [
       "array([0.90666667, 0.95333333, 0.65333333, 0.4       , 0.38666667,\n",
       "       0.33333333, 0.33333333, 0.33333333, 0.91333333, 0.98      ,\n",
       "       0.72      , 0.4       , 0.38666667, 0.33333333, 0.33333333,\n",
       "       0.33333333, 0.98      , 0.95333333, 0.84666667, 0.4       ,\n",
       "       0.38666667, 0.33333333, 0.33333333, 0.33333333, 0.97333333,\n",
       "       0.91333333, 0.84666667, 0.4       , 0.38666667, 0.33333333,\n",
       "       0.33333333, 0.33333333, 0.96      , 0.91333333, 0.84666667,\n",
       "       0.4       , 0.38666667, 0.33333333, 0.33333333, 0.33333333,\n",
       "       0.93333333, 0.91333333, 0.84666667, 0.4       , 0.38666667,\n",
       "       0.33333333, 0.33333333, 0.33333333, 0.93333333, 0.91333333,\n",
       "       0.84666667, 0.4       , 0.38666667, 0.33333333, 0.33333333,\n",
       "       0.33333333, 0.93333333, 0.91333333, 0.84666667, 0.4       ,\n",
       "       0.38666667, 0.33333333, 0.33333333, 0.33333333])"
      ]
     },
     "execution_count": 41,
     "metadata": {},
     "output_type": "execute_result"
    }
   ],
   "source": [
    "grid.cv_results_['mean_test_score']"
   ]
  },
  {
   "cell_type": "code",
   "execution_count": 12,
   "metadata": {},
   "outputs": [
    {
     "data": {
      "text/plain": [
       "[{'C': 0.01},\n",
       " {'C': 0.517947467923121},\n",
       " {'C': 26.826957952797247},\n",
       " {'C': 1389.4954943731361},\n",
       " {'C': 71968.56730011514},\n",
       " {'C': 3727593.720314938},\n",
       " {'C': 193069772.88832456},\n",
       " {'C': 10000000000.0}]"
      ]
     },
     "execution_count": 12,
     "metadata": {},
     "output_type": "execute_result"
    }
   ],
   "source": [
    "grid.cv_results_['params']"
   ]
  },
  {
   "cell_type": "code",
   "execution_count": 13,
   "metadata": {},
   "outputs": [
    {
     "data": {
      "text/plain": [
       "{'mean_fit_time': array([0.00192721, 0.00125194, 0.00131056, 0.00283623, 0.03054066,\n",
       "        0.33523505, 0.2675813 , 0.3270066 ]),\n",
       " 'std_fit_time': array([7.21141362e-04, 4.33448649e-05, 5.24610219e-05, 1.61078152e-03,\n",
       "        1.29238978e-02, 1.66664663e-01, 1.14122701e-01, 1.42108375e-01]),\n",
       " 'mean_score_time': array([0.00088239, 0.00070961, 0.0007127 , 0.00071614, 0.0006114 ,\n",
       "        0.00057294, 0.00059323, 0.0005847 ]),\n",
       " 'std_score_time': array([4.01167752e-04, 2.17539284e-05, 2.11613245e-05, 1.95238615e-05,\n",
       "        1.26653559e-04, 6.10036182e-05, 8.15775430e-05, 6.04207624e-05]),\n",
       " 'param_C': masked_array(data=[0.01, 0.517947467923121, 26.826957952797247,\n",
       "                    1389.4954943731361, 71968.56730011514,\n",
       "                    3727593.720314938, 193069772.88832456, 10000000000.0],\n",
       "              mask=[False, False, False, False, False, False, False, False],\n",
       "        fill_value='?',\n",
       "             dtype=object),\n",
       " 'params': [{'C': 0.01},\n",
       "  {'C': 0.517947467923121},\n",
       "  {'C': 26.826957952797247},\n",
       "  {'C': 1389.4954943731361},\n",
       "  {'C': 71968.56730011514},\n",
       "  {'C': 3727593.720314938},\n",
       "  {'C': 193069772.88832456},\n",
       "  {'C': 10000000000.0}],\n",
       " 'split0_test_score': array([0.93333333, 1.        , 1.        , 1.        , 1.        ,\n",
       "        1.        , 1.        , 1.        ]),\n",
       " 'split1_test_score': array([0.93333333, 1.        , 1.        , 1.        , 1.        ,\n",
       "        1.        , 1.        , 1.        ]),\n",
       " 'split2_test_score': array([0.93333333, 1.        , 1.        , 1.        , 1.        ,\n",
       "        1.        , 1.        , 1.        ]),\n",
       " 'split3_test_score': array([0.93333333, 1.        , 1.        , 1.        , 1.        ,\n",
       "        1.        , 1.        , 1.        ]),\n",
       " 'split4_test_score': array([0.93333333, 0.93333333, 0.86666667, 0.93333333, 0.93333333,\n",
       "        0.93333333, 0.93333333, 0.93333333]),\n",
       " 'split5_test_score': array([0.8       , 1.        , 0.93333333, 1.        , 1.        ,\n",
       "        0.93333333, 0.93333333, 0.93333333]),\n",
       " 'split6_test_score': array([1.        , 0.93333333, 0.86666667, 0.86666667, 0.86666667,\n",
       "        0.86666667, 0.86666667, 0.86666667]),\n",
       " 'split7_test_score': array([0.93333333, 1.        , 1.        , 1.        , 1.        ,\n",
       "        1.        , 1.        , 1.        ]),\n",
       " 'split8_test_score': array([0.93333333, 1.        , 1.        , 1.        , 1.        ,\n",
       "        1.        , 1.        , 1.        ]),\n",
       " 'split9_test_score': array([0.86666667, 1.        , 1.        , 1.        , 1.        ,\n",
       "        1.        , 1.        , 1.        ]),\n",
       " 'mean_test_score': array([0.92      , 0.98666667, 0.96666667, 0.98      , 0.98      ,\n",
       "        0.97333333, 0.97333333, 0.97333333]),\n",
       " 'std_test_score': array([0.04988877, 0.02666667, 0.05374838, 0.04268749, 0.04268749,\n",
       "        0.04422166, 0.04422166, 0.04422166]),\n",
       " 'rank_test_score': array([8, 1, 7, 2, 2, 4, 4, 4], dtype=int32)}"
      ]
     },
     "execution_count": 13,
     "metadata": {},
     "output_type": "execute_result"
    }
   ],
   "source": [
    "grid.cv_results_"
   ]
  },
  {
   "cell_type": "code",
   "execution_count": 14,
   "metadata": {},
   "outputs": [
    {
     "name": "stdout",
     "output_type": "stream",
     "text": [
      "0.9866666666666667\n",
      "{'C': 0.517947467923121}\n",
      "SVC(C=0.517947467923121, break_ties=False, cache_size=200, class_weight=None,\n",
      "    coef0=0.0, decision_function_shape='ovr', degree=3, gamma='scale',\n",
      "    kernel='linear', max_iter=-1, probability=False, random_state=None,\n",
      "    shrinking=True, tol=0.001, verbose=False)\n"
     ]
    }
   ],
   "source": [
    "# O melhor modelo é\n",
    "\n",
    "print(grid.best_score_)\n",
    "print(grid.best_params_)\n",
    "print(grid.best_estimator_)"
   ]
  },
  {
   "cell_type": "markdown",
   "metadata": {},
   "source": [
    "## Usando os melhores parametros no teste (``predict()``)"
   ]
  },
  {
   "cell_type": "code",
   "execution_count": 43,
   "metadata": {},
   "outputs": [
    {
     "data": {
      "text/plain": [
       "array([0])"
      ]
     },
     "execution_count": 43,
     "metadata": {},
     "output_type": "execute_result"
    }
   ],
   "source": [
    "# train your model using all data and the best known parameters\n",
    "svm = SVC(kernel = 'linear', C=0.517947467923121) # or directly grid.best_estimator_\n",
    "svm.fit(X, y)\n",
    "\n",
    "# make a prediction on out-of-sample data\n",
    "svm.predict([[6.1, 2.4, 1.2, 0.1]])"
   ]
  },
  {
   "cell_type": "code",
   "execution_count": 44,
   "metadata": {},
   "outputs": [
    {
     "data": {
      "text/plain": [
       "array([0])"
      ]
     },
     "execution_count": 44,
     "metadata": {},
     "output_type": "execute_result"
    }
   ],
   "source": [
    "# shortcut: GridSearchCV automatically refits the best model using all of the data\n",
    "grid.predict([[6.1, 2.4, 1.2, 0.1]])"
   ]
  },
  {
   "cell_type": "markdown",
   "metadata": {},
   "source": [
    "## Uma alternativa mais barata: `RandomizedSearchCV`"
   ]
  },
  {
   "cell_type": "markdown",
   "metadata": {},
   "source": [
    "- `RandomizedSearchCV` busca em um subconjunto dos parametros e você controla o n. de iterações"
   ]
  },
  {
   "cell_type": "code",
   "execution_count": 17,
   "metadata": {},
   "outputs": [],
   "source": [
    "from sklearn.model_selection import RandomizedSearchCV"
   ]
  },
  {
   "cell_type": "code",
   "execution_count": 18,
   "metadata": {},
   "outputs": [],
   "source": [
    "# especifica \"parameter distributions\" ao invés de \"parameter grid\"\n",
    "\n",
    "C_range = np.logspace(-2, 10, 8)\n",
    "gamma_range = np.logspace(-9, 3, 8)\n",
    "param_dist = dict(gamma=gamma_range, C=C_range)"
   ]
  },
  {
   "cell_type": "code",
   "execution_count": 19,
   "metadata": {},
   "outputs": [
    {
     "data": {
      "text/plain": [
       "array([0.91333333, 0.93333333, 0.4       , 0.91333333, 0.4       ,\n",
       "       0.9       , 0.90666667, 0.90666667, 0.96666667, 0.4       ])"
      ]
     },
     "execution_count": 19,
     "metadata": {},
     "output_type": "execute_result"
    }
   ],
   "source": [
    "# n_iter controla o número de buscas\n",
    "svm = SVC(kernel = 'rbf')\n",
    "rand = RandomizedSearchCV(svm, param_dist, cv=10, scoring='accuracy', n_iter=10, random_state=5)\n",
    "rand.fit(X, y)\n",
    "rand.cv_results_['mean_test_score']"
   ]
  },
  {
   "cell_type": "code",
   "execution_count": 20,
   "metadata": {},
   "outputs": [
    {
     "name": "stdout",
     "output_type": "stream",
     "text": [
      "0.9666666666666668\n",
      "{'gamma': 0.007196856730011514, 'C': 1389.4954943731361}\n"
     ]
    }
   ],
   "source": [
    "# melhor modelo\n",
    "print(rand.best_score_)\n",
    "print(rand.best_params_)"
   ]
  },
  {
   "cell_type": "code",
   "execution_count": 21,
   "metadata": {},
   "outputs": [
    {
     "name": "stdout",
     "output_type": "stream",
     "text": [
      "[0.987, 0.987, 0.993, 0.98, 0.987, 0.993, 0.967, 0.953, 0.967, 0.98] \n",
      "\n",
      "[{'gamma': 2.6826957952797274e-06, 'C': 71968.56730011514}, {'gamma': 2.6826957952797274e-06, 'C': 71968.56730011514}, {'gamma': 0.0001389495494373136, 'C': 1389.4954943731361}, {'gamma': 5.1794746792312124e-08, 'C': 193069772.88832456}, {'gamma': 2.6826957952797274e-06, 'C': 71968.56730011514}, {'gamma': 0.007196856730011514, 'C': 26.826957952797247}, {'gamma': 0.007196856730011514, 'C': 1389.4954943731361}, {'gamma': 0.3727593720314938, 'C': 26.826957952797247}, {'gamma': 0.007196856730011514, 'C': 71968.56730011514}, {'gamma': 0.0001389495494373136, 'C': 3727593.720314938}]\n"
     ]
    }
   ],
   "source": [
    "# executa RandomizedSearchCV 10 vezes\n",
    "best_scores = []\n",
    "best_params = []\n",
    "for _ in range(10):\n",
    "    rand = RandomizedSearchCV(svm, param_dist, cv=10, scoring='accuracy', n_iter=10)\n",
    "    rand.fit(X, y)\n",
    "    best_params.append(rand.best_params_)\n",
    "    best_scores.append(round(rand.best_score_, 3))\n",
    "\n",
    "print(best_scores,\"\\n\")\n",
    "print(best_params)"
   ]
  },
  {
   "cell_type": "code",
   "execution_count": 22,
   "metadata": {},
   "outputs": [
    {
     "name": "stdout",
     "output_type": "stream",
     "text": [
      "[0.89333333 0.90666667 0.90666667 0.90666667 0.90666667 0.94\n",
      " 0.67333333 0.4        0.89333333 0.90666667 0.90666667 0.90666667\n",
      " 0.92666667 0.98       0.81333333 0.4        0.89333333 0.90666667\n",
      " 0.90666667 0.93333333 0.99333333 0.95333333 0.9        0.4\n",
      " 0.89333333 0.90666667 0.93333333 0.99333333 0.96666667 0.91333333\n",
      " 0.9        0.4        0.89333333 0.93333333 0.98666667 0.96666667\n",
      " 0.96666667 0.91333333 0.9        0.4        0.90666667 0.97333333\n",
      " 0.96666667 0.98       0.93333333 0.91333333 0.9        0.4\n",
      " 0.90666667 0.98       0.96666667 0.96       0.93333333 0.91333333\n",
      " 0.9        0.4        0.90666667 0.98       0.96       0.94666667\n",
      " 0.93333333 0.91333333 0.9        0.4       ]\n",
      "64\n"
     ]
    }
   ],
   "source": [
    "# comparando com GridSearchCV\n",
    "grid = GridSearchCV(svm, param_dist, cv=10, scoring='accuracy')\n",
    "grid.fit(X, y)\n",
    "meanTestScore = grid.cv_results_['mean_test_score']\n",
    "print(meanTestScore)\n",
    "print(len(meanTestScore)) #len(C_range) * len(gamma_range)"
   ]
  },
  {
   "cell_type": "code",
   "execution_count": 23,
   "metadata": {},
   "outputs": [
    {
     "name": "stdout",
     "output_type": "stream",
     "text": [
      "0.8577083333333333\n",
      "0.8180000000000002\n"
     ]
    }
   ],
   "source": [
    "print(grid.cv_results_['mean_test_score'].mean())\n",
    "print(rand.cv_results_['mean_test_score'].mean())"
   ]
  },
  {
   "cell_type": "markdown",
   "metadata": {},
   "source": [
    "## Extra: Curvas de Validação"
   ]
  },
  {
   "cell_type": "code",
   "execution_count": 24,
   "metadata": {},
   "outputs": [],
   "source": [
    "from sklearn.datasets import load_digits\n",
    "from sklearn.model_selection import validation_curve"
   ]
  },
  {
   "cell_type": "code",
   "execution_count": 25,
   "metadata": {},
   "outputs": [],
   "source": [
    "digits = load_digits()\n",
    "X, y = digits.data, digits.target"
   ]
  },
  {
   "cell_type": "code",
   "execution_count": 26,
   "metadata": {},
   "outputs": [],
   "source": [
    "param_range = np.logspace(-6, -1, 5)\n",
    "train_scores, test_scores = validation_curve(\n",
    "    SVC(), X, y, param_name=\"gamma\", param_range=param_range,\n",
    "    cv=10, scoring=\"accuracy\", n_jobs=1)\n",
    "train_scores_mean = np.mean(train_scores, axis=1)\n",
    "train_scores_std = np.std(train_scores, axis=1)\n",
    "test_scores_mean = np.mean(test_scores, axis=1)\n",
    "test_scores_std = np.std(test_scores, axis=1)"
   ]
  },
  {
   "cell_type": "code",
   "execution_count": 27,
   "metadata": {
    "scrolled": false
   },
   "outputs": [
    {
     "data": {
      "image/png": "[encoded data removed]",
      "text/plain": [
       "<Figure size 432x288 with 1 Axes>"
      ]
     },
     "metadata": {
      "needs_background": "light"
     },
     "output_type": "display_data"
    }
   ],
   "source": [
    "plt.title(\"Curva de Validação com SVM\")\n",
    "plt.xlabel(\"$\\gamma$\")\n",
    "plt.ylabel(\"Acurácia\")\n",
    "plt.ylim(0.0, 1.1)\n",
    "lw = 2\n",
    "plt.semilogx(param_range, train_scores_mean, label=\"Acurácia de treinamento\",\n",
    "             color=\"darkorange\", lw=lw)\n",
    "plt.fill_between(param_range, train_scores_mean - train_scores_std,\n",
    "                 train_scores_mean + train_scores_std, alpha=0.2,\n",
    "                 color=\"darkorange\", lw=lw)\n",
    "plt.semilogx(param_range, test_scores_mean, label=\"Acurácia da validação cruzada\",\n",
    "             color=\"navy\", lw=lw)\n",
    "plt.fill_between(param_range, test_scores_mean - test_scores_std,\n",
    "                 test_scores_mean + test_scores_std, alpha=0.2,\n",
    "                 color=\"navy\", lw=lw)\n",
    "plt.legend(loc=\"best\")\n",
    "plt.show()"
   ]
  },
  {
   "cell_type": "markdown",
   "metadata": {},
   "source": [
    "### Observações\n",
    "\n",
    "- O plot mostra diferentes valores para o parâmetro gamma.\n",
    "- Esquerda: valores baixo para ambos --> underfitting\n",
    "- Direita: valor baixo apenas para validação, mas alto no treino --> overfitting\n",
    "- Centro: Melhores valores para gamma"
   ]
  },
  {
   "cell_type": "code",
   "execution_count": null,
   "metadata": {},
   "outputs": [],
   "source": []
  }
 ],
 "metadata": {
  "kernelspec": {
   "display_name": "Python 3",
   "language": "python",
   "name": "python3"
  },
  "language_info": {
   "codemirror_mode": {
    "name": "ipython",
    "version": 3
   },
   "file_extension": ".py",
   "mimetype": "text/x-python",
   "name": "python",
   "nbconvert_exporter": "python",
   "pygments_lexer": "ipython3",
   "version": "3.7.6"
  }
 },
 "nbformat": 4,
 "nbformat_minor": 1
}
