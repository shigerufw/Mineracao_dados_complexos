{
 "cells": [
  {
   "cell_type": "markdown",
   "metadata": {},
   "source": [
    "# Módulo 4 - Aula 2: SVM Linear - Formulação passo a passo\n",
    "Professora: Esther Colombini -- esther@ic.unicamp.br\n",
    "\n",
    "Monitores: Alana Santana -- alana.correia@ic.unicamp.br\n",
    "           Hudson Bruno -- hudson.bruno@ic.unicamp.br\n",
    "\n",
    "Este *notebook* faz parte da disciplina INF-0616 no curso de extensão MDC.  \n",
    "Demais artefatos podem ser encontrados no moodle da disciplina: \n",
    "[moodle.lab.ic.unicamp.br/456](https://moodle.lab.ic.unicamp.br/moodle/course/view.php?id=456)\n",
    "\n",
    "Instituto de Computação - Unicamp 2021\n",
    "\n",
    "Fonte: https://pythonprogramming.net/svm-in-python-machine-learning-tutorial/"
   ]
  },
  {
   "cell_type": "code",
   "execution_count": 1,
   "metadata": {},
   "outputs": [],
   "source": [
    "# Importanto algumas bibliotecas básica\n",
    "%matplotlib inline\n",
    "import matplotlib.pyplot as plt\n",
    "from matplotlib import style\n",
    "style.use('ggplot')\n",
    "import numpy as np"
   ]
  },
  {
   "cell_type": "markdown",
   "metadata": {},
   "source": [
    "Vamos definir a classe SVM. Neste exemplo, não somos capazes de lidar com elementos não-lieanrmente separáveis. \n",
    "O exemplo a seguir não utiliza as Slack Variables nem a formulação de kernel."
   ]
  },
  {
   "cell_type": "code",
   "execution_count": 2,
   "metadata": {},
   "outputs": [],
   "source": [
    "class SVM(object):\n",
    "    def __init__(self,visualization=True):\n",
    "        self.visualization = visualization\n",
    "        self.colors = {1:'r',-1:'b'}\n",
    "        if self.visualization:\n",
    "            self.fig = plt.figure()\n",
    "            self.ax = self.fig.add_subplot(1,1,1)\n",
    "    \n",
    "    def fit(self,data):\n",
    "        # treinando com os dados\n",
    "        self.data = data\n",
    "        # { ||w||: [w,b] }\n",
    "        opt_dict = {}\n",
    "        \n",
    "        transforms = [[1,1],[-1,1],[-1,-1],[1,-1]]\n",
    "        \n",
    "        all_data = np.array([])\n",
    "        for yi in self.data:\n",
    "            all_data = np.append(all_data,self.data[yi])\n",
    "                    \n",
    "        self.max_feature_value = max(all_data)         \n",
    "        self.min_feature_value = min(all_data)\n",
    "        all_data = None\n",
    "        \n",
    "        # com passos menores, nossas margens e db serão mais precisas\n",
    "        step_sizes = [self.max_feature_value * 0.1,\n",
    "                      self.max_feature_value * 0.01,\n",
    "                      # point of expense\n",
    "                      self.max_feature_value * 0.001,]\n",
    "        \n",
    "        # muito custoso\n",
    "        b_range_multiple = 5\n",
    "        # não precisamos dar o mesmo pequeno passo que w\n",
    "        b_multiple = 5\n",
    "        \n",
    "        latest_optimum = self.max_feature_value*10\n",
    "        \n",
    "        \"\"\"\n",
    "        O objetivo é satisfazer yi(x.w)+ b >= 1 para todos os dados de treinamento, de modo que ||w|| seja mínimo.\n",
    "        Para isso, começaremos com w aleatório e tentaremos satisfazê-lo com b cada vez maior\n",
    "        \"\"\"\n",
    "        # tornando cada passo cada vez menor para obter um valor preciso\n",
    "        for step in step_sizes:\n",
    "            w = np.array([latest_optimum,latest_optimum])\n",
    "            \n",
    "            # nós podemos fazer isso porque é convexo\n",
    "            optimized = False\n",
    "            while not optimized:\n",
    "                for b in np.arange(-1*self.max_feature_value*b_range_multiple,\n",
    "                                   self.max_feature_value*b_range_multiple,\n",
    "                                   step*b_multiple):\n",
    "                    for transformation in transforms:\n",
    "                        w_t = w*transformation\n",
    "                        found_option = True\n",
    "                        \n",
    "                        # Link mais fraco no SVM fundamentalmente\n",
    "                        # O SMO (Sequential minimal optimization tenta corrigir isso um pouco\n",
    "                        # https://en.wikipedia.org/wiki/Sequential_minimal_optimization\n",
    "                        # yi(xi.w+b) >= 1\n",
    "                        for i in self.data:\n",
    "                            for xi in self.data[i]:\n",
    "                                yi=i\n",
    "                                if not yi*(np.dot(w_t,xi)+b)>=1:\n",
    "                                    found_option=False\n",
    "                        if found_option:\n",
    "                            \"\"\"\n",
    "                            todos os pontos no dataset satisfazem y(w.x)+b>=1 para os valores de w_t, b correntes\n",
    "                            entao, coloque w,b no dict com ||w|| as key\n",
    "                            \"\"\"\n",
    "                            opt_dict[np.linalg.norm(w_t)]=[w_t,b]\n",
    "                \n",
    "                # depois que w[0] ou w[1]<0 os valores de w vão se repetir por causa das transformações\n",
    "                # tente avaliar este fato\n",
    "                # print(w,len(opt_dict)) -> pode ajudar a entender\n",
    "                if w[0]<0:\n",
    "                    optimized=True\n",
    "                    print(\"optimized a step\")\n",
    "                else:\n",
    "                    w = w-step\n",
    "                    \n",
    "            # ordenando ||w|| para colocar o menor ||w|| na posicao 0 \n",
    "            norms = sorted([n for n in opt_dict])\n",
    "            # valores ótimos de w,b\n",
    "            if len(norms) > 1:\n",
    "                opt_choice = opt_dict[norms[0]]\n",
    "\n",
    "                self.w=opt_choice[0]\n",
    "                self.b=opt_choice[1]\n",
    "                latest_optimum = opt_choice[0][0]+step*2\n",
    "            else:\n",
    "                print(\"not able to optimize\")\n",
    "            # comece com os últimos ótimos (valores iniciais para w)\n",
    "    \n",
    "    def predict(self,features):\n",
    "        # sign(x.w+b)\n",
    "        classification = np.sign(np.dot(np.array(features),self.w)+self.b)\n",
    "        if classification!=0 and self.visualization:\n",
    "            self.ax.scatter(features[0],features[1],s=200,marker='*',c=self.colors[classification])\n",
    "        return (classification,np.dot(np.array(features),self.w)+self.b)\n",
    "    \n",
    "    def visualize(self):\n",
    "        [[self.ax.scatter(x[0],x[1],s=100,c=self.colors[i]) for x in data_dict[i]] for i in data_dict]\n",
    "        \n",
    "        # hyperplane = x.w+b (é uma reta)\n",
    "        # v = x0.w0+x1.w1+b -> x1 = (v-w[0].x[0]-b)/w1\n",
    "        # psv = 1     psv line ->  x.w+b = 1  um valor pequeno de b, vamos aumentar depois\n",
    "        # nsv = -1    nsv line ->  x.w+b = -1\n",
    "        # dec = 0     db line  ->  x.w+b = 0\n",
    "        def hyperplane(x,w,b,v):\n",
    "            # retorna um valor de x2 na linha quando recebe x1\n",
    "            return (-w[0]*x-b+v)/w[1]\n",
    "       \n",
    "        hyp_x_min= self.min_feature_value*0.9\n",
    "        hyp_x_max = self.max_feature_value*1.1\n",
    "        \n",
    "        # (w.x+b)=1\n",
    "        # hiperplano de vetor de suporte positivo\n",
    "        pav1 = hyperplane(hyp_x_min,self.w,self.b,1)\n",
    "        pav2 = hyperplane(hyp_x_max,self.w,self.b,1)\n",
    "        self.ax.plot([hyp_x_min,hyp_x_max],[pav1,pav2],'k')\n",
    "        \n",
    "        # (w.x+b)=-1\n",
    "        # hiperplano de vetor de suporte negativo\n",
    "        nav1 = hyperplane(hyp_x_min,self.w,self.b,-1)\n",
    "        nav2 = hyperplane(hyp_x_max,self.w,self.b,-1)\n",
    "        self.ax.plot([hyp_x_min,hyp_x_max],[nav1,nav2],'k')\n",
    "        \n",
    "        # (w.x+b)=0\n",
    "        # db hiperplano de suporte \n",
    "        db1 = hyperplane(hyp_x_min,self.w,self.b,0)\n",
    "        db2 = hyperplane(hyp_x_max,self.w,self.b,0)\n",
    "        self.ax.plot([hyp_x_min,hyp_x_max],[db1,db2],'y--')"
   ]
  },
  {
   "cell_type": "code",
   "execution_count": 6,
   "metadata": {},
   "outputs": [
    {
     "data": {
      "text/plain": [
       "[[<matplotlib.collections.PathCollection at 0x7fb4240a46d0>,\n",
       "  <matplotlib.collections.PathCollection at 0x7fb42402b5d0>],\n",
       " [<matplotlib.collections.PathCollection at 0x7fb42402b750>,\n",
       "  <matplotlib.collections.PathCollection at 0x7fb42402ba50>,\n",
       "  <matplotlib.collections.PathCollection at 0x7fb42402bb10>]]"
      ]
     },
     "execution_count": 6,
     "metadata": {},
     "output_type": "execute_result"
    },
    {
     "data": {
      "image/png": "[encoded data removed]",
      "text/plain": [
       "<Figure size 432x288 with 1 Axes>"
      ]
     },
     "metadata": {},
     "output_type": "display_data"
    }
   ],
   "source": [
    "# Alguns dados iniciais para avaliarmos o aprendizado\n",
    "data_dict = {-1:np.array([[1,7],[4,3]]),1:np.array([[5,1],[6,-1],[7,3]])}\n",
    "\n",
    "fig = plt.figure()\n",
    "colors = {1:'r',-1:'b'}\n",
    "ax = fig.add_subplot(1,1,1)\n",
    "\n",
    "# mostra os dados de treinamento\n",
    "[[ax.scatter(x[0],x[1],s=100,c=colors[i]) for x in data_dict[i]] for i in data_dict]\n",
    "        "
   ]
  },
  {
   "cell_type": "code",
   "execution_count": 8,
   "metadata": {},
   "outputs": [
    {
     "name": "stdout",
     "output_type": "stream",
     "text": [
      "optimized a step\n",
      "optimized a step\n",
      "optimized a step\n"
     ]
    },
    {
     "data": {
      "image/png": "[encoded data removed]",
      "text/plain": [
       "<Figure size 432x288 with 1 Axes>"
      ]
     },
     "metadata": {},
     "output_type": "display_data"
    }
   ],
   "source": [
    "# SVM com Kernel Linear\n",
    "svm = SVM() \n",
    "svm.fit(data=data_dict)\n",
    "svm.visualize()"
   ]
  },
  {
   "cell_type": "code",
   "execution_count": 9,
   "metadata": {
    "scrolled": true
   },
   "outputs": [
    {
     "name": "stdout",
     "output_type": "stream",
     "text": [
      "{-1: [array([ 8, 10])]}\n"
     ]
    },
    {
     "data": {
      "text/plain": [
       "[[<matplotlib.collections.PathCollection at 0x7fb423e35b50>]]"
      ]
     },
     "execution_count": 9,
     "metadata": {},
     "output_type": "execute_result"
    },
    {
     "data": {
      "image/png": "[encoded data removed]",
      "text/plain": [
       "<Figure size 432x288 with 1 Axes>"
      ]
     },
     "metadata": {},
     "output_type": "display_data"
    },
    {
     "data": {
      "image/png": "[encoded data removed]",
      "text/plain": [
       "<Figure size 432x288 with 1 Axes>"
      ]
     },
     "metadata": {},
     "output_type": "display_data"
    }
   ],
   "source": [
    "# Alguns dados iniciais para avaliarmos o aprendizado\n",
    "data_dict = {-1:np.array([[1,7],[2,8],[3,8]]),1:np.array([[5,1],[6,-1],[7,3]])}\n",
    "\n",
    "fig = plt.figure()\n",
    "colors = {1:'r',-1:'b'}\n",
    "ax = fig.add_subplot(1,1,1)\n",
    "\n",
    "# mostra os dados de treinamento\n",
    "[[ax.scatter(x[0],x[1],s=100,c=colors[i]) for x in data_dict[i]] for i in data_dict]\n",
    "\n",
    "# Prevendo alguns exemplos de fora do conjunto \n",
    "# Predict vai retornar o valor da classe e o valor antes da função sign\n",
    "newdata_dict = dict()\n",
    "newdata_dict.update({int(svm.predict([3,8])[0]) : [np.array([3,8])]})\n",
    "newdata_dict.update({int(svm.predict([1,5])[0]) : [np.array([1,5])]})\n",
    "newdata_dict.update({int(svm.predict([4.0,4.5])[0]) : [np.array([4.0,4.5])]})\n",
    "newdata_dict.update({int(svm.predict([8,10])[0]) : [np.array([8,10])]})\n",
    "#print(data_dict)\n",
    "print(newdata_dict)\n",
    "\n",
    "fig2 = plt.figure()\n",
    "bx = fig2.add_subplot(1,1,1)\n",
    "\n",
    "# mostra os dados de treinamento\n",
    "# novas previsões\n",
    "[[bx.scatter(x[0],x[1],s=100,c=colors[i]) for x in newdata_dict[i]] for i in newdata_dict]\n"
   ]
  },
  {
   "cell_type": "markdown",
   "metadata": {
    "collapsed": true
   },
   "source": [
    "Tente aplicar ao conjunto de treinamento um ponto que impeça a separação linear. O que acontece?"
   ]
  },
  {
   "cell_type": "code",
   "execution_count": null,
   "metadata": {},
   "outputs": [],
   "source": []
  },
  {
   "cell_type": "code",
   "execution_count": null,
   "metadata": {},
   "outputs": [],
   "source": []
  }
 ],
 "metadata": {
  "kernelspec": {
   "display_name": "Python 3",
   "language": "python",
   "name": "python3"
  },
  "language_info": {
   "codemirror_mode": {
    "name": "ipython",
    "version": 3
   },
   "file_extension": ".py",
   "mimetype": "text/x-python",
   "name": "python",
   "nbconvert_exporter": "python",
   "pygments_lexer": "ipython3",
   "version": "3.7.6"
  }
 },
 "nbformat": 4,
 "nbformat_minor": 2
}
