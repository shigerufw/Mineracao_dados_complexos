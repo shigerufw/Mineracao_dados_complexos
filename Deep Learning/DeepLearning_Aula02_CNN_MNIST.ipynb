{
  "nbformat": 4,
  "nbformat_minor": 0,
  "metadata": {
    "colab": {
      "name": "DeepLearning_Aula02_CNN_MNIST.ipynb",
      "provenance": [],
      "collapsed_sections": []
    },
    "kernelspec": {
      "name": "python3",
      "display_name": "Python 3"
    },
    "accelerator": "GPU"
  },
  "cells": [
    {
      "cell_type": "markdown",
      "metadata": {
        "id": "OKZEmvs2sXXv"
      },
      "source": [
        "# Rede Neural Convolucional com Keras\n",
        "\n",
        "Neste exercício, vamos construir uma rede neural convolucional (CNN) para classificar os digitos do MNIST. "
      ]
    },
    {
      "cell_type": "markdown",
      "metadata": {
        "id": "goZFaH6Qj1S1"
      },
      "source": [
        "![http://cs231n.github.io/convolutional-networks/](https://hackernoon.com/hn-images/0*9J3MK1gd2zrFDzDN.gif)\n",
        "\n",
        "Source: http://cs231n.github.io/convolutional-networks/"
      ]
    },
    {
      "cell_type": "code",
      "metadata": {
        "id": "vA010Cbdc7Jo"
      },
      "source": [
        "import tensorflow as tf\n",
        "import numpy as np\n",
        "import matplotlib.pyplot as plt\n",
        "from tensorflow import keras"
      ],
      "execution_count": 1,
      "outputs": []
    },
    {
      "cell_type": "markdown",
      "metadata": {
        "id": "vYnyRVfislw-"
      },
      "source": [
        "## Camada Convolucional"
      ]
    },
    {
      "cell_type": "markdown",
      "metadata": {
        "id": "6f8HdQHBsexS"
      },
      "source": [
        "# Carregar dados para treinamento\n",
        "\n",
        "## Pré-processamento dos dados para treinamento:\n",
        "\n",
        "Diferentemente do que fizemos na nossa rede neural, a entrada da CNN é uma imagem, então não é necessário transformar a imagem em um vetor. No entanto, precisamos informar nossa rede quanto às dimensões das nossas imagens. Imagens coloridas normalmente têm 3 canais (RGB), mas estamos trabalhando com imagens em escala de cinza, que contém apenas um canal. **Importante**, O Tensorflow assume que o número de canais sempre está na última dimensão da imagem, enquanto o Pyorch assume a primeira dimensão:\n",
        "\n",
        "```\n",
        "Tensorflow -> (img_rows, img_cols, channels)\n",
        "Pytorch -> (channels, img_rows, img_cols)\n",
        "```\n",
        "\n",
        "Além disso, nós escalamos as entradas para estarem no intervalo [0-1] ao invés de [0-255]. **Outros tipos de pré-processamento, como dimensionamento, normalização e cortes podem ser feitos nessa parte.**\n",
        "\n"
      ]
    },
    {
      "cell_type": "code",
      "metadata": {
        "id": "HmKTjF9yjXV3",
        "colab": {
          "base_uri": "https://localhost:8080/"
        },
        "outputId": "5378f8bc-a28c-4b51-c9dc-5741e3835ea5"
      },
      "source": [
        "mnist = tf.keras.datasets.mnist\n",
        "\n",
        "# Carrega os dados, que já vem divididos em conjunto de treinamento e teste.\n",
        "(x_trainVal, y_trainVal), (x_test, y_test) = mnist.load_data()\n",
        "\n",
        "# Embaralha os dados e divide em 80% para treino, 20% para validação\n",
        "nData = x_trainVal.shape[0]  \n",
        "nTrain = int(nData * 0.8)  \n",
        "randomIdx = np.random.permutation(np.arange(nData))\n",
        "trainIdx = randomIdx[:nTrain] \n",
        "valIdx = randomIdx[nTrain:]\n",
        "\n",
        "# Divide os dados\n",
        "x_val, y_val = x_trainVal[valIdx], y_trainVal[valIdx]\n",
        "x_train, y_train = x_trainVal[trainIdx], y_trainVal[trainIdx]\n",
        "\n",
        "# Normaliza dados entre [0, 1]\n",
        "x_train = x_train / 255.0\n",
        "x_val = x_val / 255.0\n",
        "x_test = x_test / 255.0\n",
        "\n",
        "print(\"Formato das imagens de treinamento\", x_train.shape)\n",
        "print(\"Formato dos rótulos de treinamento\", y_train.shape)\n",
        "print()\n",
        "\n",
        "print(\"Formato das imagens de validação\", x_val.shape)\n",
        "print(\"Formato dos rótulos de validação\", y_val.shape)\n",
        "\n",
        "\n",
        "# Adiciona um canal no treino (H, W, C)\n",
        "x_train = x_train[..., tf.newaxis]\n",
        "x_val = x_val[..., tf.newaxis]\n",
        "x_test = x_test[..., tf.newaxis]\n",
        "\n",
        "# One hot encoding dos labels\n",
        "num_classes = len(np.unique(y_train))\n",
        "y_train_oh = tf.keras.utils.to_categorical(y_train, num_classes)\n",
        "y_val_oh = tf.keras.utils.to_categorical(y_val, num_classes)\n",
        "y_test_oh = tf.keras.utils.to_categorical(y_test, num_classes)\n",
        "print(x_train.shape, y_train_oh.shape)"
      ],
      "execution_count": 2,
      "outputs": [
        {
          "output_type": "stream",
          "name": "stdout",
          "text": [
            "Formato das imagens de treinamento (48000, 28, 28)\n",
            "Formato dos rótulos de treinamento (48000,)\n",
            "\n",
            "Formato das imagens de validação (12000, 28, 28)\n",
            "Formato dos rótulos de validação (12000,)\n",
            "(48000, 28, 28, 1) (48000, 10)\n"
          ]
        }
      ]
    },
    {
      "cell_type": "markdown",
      "metadata": {
        "id": "BAeGm1_MtWD2"
      },
      "source": [
        "## Nosso treino é balanceado?\n",
        "\n",
        "Para cada classe, vamos checar quantos exemplos temos e calcular um peso. Isso pode ser útil para dizer ao modelo \"prestar mais atenção\" em amostras de uma classe com menos indivíduos durante o treinamento."
      ]
    },
    {
      "cell_type": "code",
      "metadata": {
        "id": "UZ-cmuD0tWkd",
        "colab": {
          "base_uri": "https://localhost:8080/"
        },
        "outputId": "6e301661-1c14-4a18-9111-cc1df3840fd1"
      },
      "source": [
        "# Para o conjunto de treino\n",
        "unique, counts = np.unique(y_train, return_counts=True)\n",
        "print(\"Treino ---> \", dict(zip(unique, counts)), \"\\n\")\n",
        "\n",
        "from sklearn.utils.class_weight import compute_class_weight\n",
        "class_weights = compute_class_weight('balanced', np.unique(y_train), y_train)\n",
        "train_class_weights = dict(enumerate(class_weights))\n",
        "print(train_class_weights, \"\\n\")\n",
        "\n",
        "#Para o conjunto de teste ---> Nós usamos isso para calcular a acurácia normalizada\n",
        "unique, counts = np.unique(y_test, return_counts=True)\n",
        "print(\"Teste  ---> \", dict(zip(unique, counts)), \"\\n\")"
      ],
      "execution_count": 3,
      "outputs": [
        {
          "output_type": "stream",
          "name": "stdout",
          "text": [
            "Treino --->  {0: 4731, 1: 5354, 2: 4837, 3: 4873, 4: 4653, 5: 4334, 6: 4759, 7: 5039, 8: 4719, 9: 4701} \n",
            "\n",
            "{0: 1.014584654407102, 1: 0.8965259618976467, 2: 0.9923506305561298, 3: 0.9850194951775088, 4: 1.0315925209542232, 5: 1.1075219197046609, 6: 1.0086152553057366, 7: 0.952569954356023, 8: 1.0171646535282899, 9: 1.021059349074665} \n",
            "\n",
            "Teste  --->  {0: 980, 1: 1135, 2: 1032, 3: 1010, 4: 982, 5: 892, 6: 958, 7: 1028, 8: 974, 9: 1009} \n",
            "\n"
          ]
        }
      ]
    },
    {
      "cell_type": "code",
      "metadata": {
        "id": "lhMxrPchjXuo",
        "colab": {
          "base_uri": "https://localhost:8080/"
        },
        "outputId": "b9fc546a-0fec-4ffa-a9ec-47bb883c68eb"
      },
      "source": [
        "from tensorflow.keras import layers\n",
        "\n",
        "model = tf.keras.Sequential()\n",
        "#Camada convolucional com 10 filtros de tamanho 3x3 e ativação ReLU\n",
        "model.add(layers.Conv2D(10, 3, padding='valid', activation='relu', input_shape=(28, 28, 1)))\n",
        "#Max pooling de tamanho 2x2\n",
        "model.add(layers.MaxPooling2D(pool_size=(2,2)))\n",
        "#Operação de vetorização dos dados\n",
        "model.add(layers.Flatten())\n",
        "#Dropout com probabilidade de 0.2\n",
        "model.add(layers.Dropout(0.2))\n",
        "#Densa com 10 nós de saída\n",
        "model.add(layers.Dense(10))\n",
        "\n",
        "model.summary()"
      ],
      "execution_count": 4,
      "outputs": [
        {
          "output_type": "stream",
          "name": "stdout",
          "text": [
            "Model: \"sequential\"\n",
            "_________________________________________________________________\n",
            "Layer (type)                 Output Shape              Param #   \n",
            "=================================================================\n",
            "conv2d (Conv2D)              (None, 26, 26, 10)        100       \n",
            "_________________________________________________________________\n",
            "max_pooling2d (MaxPooling2D) (None, 13, 13, 10)        0         \n",
            "_________________________________________________________________\n",
            "flatten (Flatten)            (None, 1690)              0         \n",
            "_________________________________________________________________\n",
            "dropout (Dropout)            (None, 1690)              0         \n",
            "_________________________________________________________________\n",
            "dense (Dense)                (None, 10)                16910     \n",
            "=================================================================\n",
            "Total params: 17,010\n",
            "Trainable params: 17,010\n",
            "Non-trainable params: 0\n",
            "_________________________________________________________________\n"
          ]
        }
      ]
    },
    {
      "cell_type": "markdown",
      "metadata": {
        "id": "dgDkNiV78K6E"
      },
      "source": [
        "## Compile o modelo\n",
        "\n",
        "Vamos definir a função de perda e o otimizador que usaremos para treinar nossa CNN, assim como especifiar que queremos salvar a acurácia em cada época. Usaremos a função de \"categorical cross-entropy\" como função de perda, e o otimizador SGD (Stochastic Gradient Descent). **Lembre-se que o Keras não retorna a acurácia normalizada!!**"
      ]
    },
    {
      "cell_type": "code",
      "metadata": {
        "id": "FVp0bDO11hHZ"
      },
      "source": [
        "model.compile(optimizer=tf.keras.optimizers.Adam(0.01),\n",
        "              loss=tf.keras.losses.CategoricalCrossentropy(from_logits=True),\n",
        "              metrics=['accuracy'])\n"
      ],
      "execution_count": 5,
      "outputs": []
    },
    {
      "cell_type": "markdown",
      "metadata": {
        "id": "qaN8uDTF8PW_"
      },
      "source": [
        "## Treine o modelo!\n",
        "\n",
        "Nós já estamos prontos para treinar nossa CNN! A função `model.fit` recebe os argumentos:\n",
        "- **x_train & y_train_oh:** os dados de treino e suas classes.\n",
        "- **epochs:** uma época ocorre a cada vez que **todos** seus dados de treino passam pela rede uma vez. Como CNNs são mais caras em termos computacionais que redes neurais simples, nós vamos processar apenas 1 época.\n",
        "- **batch_size:** ao invés de otimizar sua rede em todos os dads de treino de uma só vez, nós normalmente otimizamos utilizando batches (pequeno conjunto pertencente aos dados de treino). Neste caso, nós iremos atualizar nossos pesos (backpropagation) depois do passo de \"forward\" (processamento do batch de 128 imagens);\n",
        "- **class_weight:** os pesos de cada classe, considerando que elas não são balanceadas. Este parâmetro é responsável por ponderar a loss de acordo com a frequência de ocorrência de cada classe.\n",
        "- **validation_data:** depois de cada época nosso modelo vai predizer esses dados, e retornar o resultado da função de perda, e a acurácia em relação a eles."
      ]
    },
    {
      "cell_type": "code",
      "metadata": {
        "id": "O1eAcsHY8Srw",
        "colab": {
          "base_uri": "https://localhost:8080/"
        },
        "outputId": "ba91df0b-d007-4e85-fa3c-d8154ee9bec9"
      },
      "source": [
        "model.fit(x_train, y_train_oh, epochs=50, batch_size=32, class_weight=train_class_weights,\n",
        "          validation_data=(x_val, y_val_oh))"
      ],
      "execution_count": 6,
      "outputs": [
        {
          "output_type": "stream",
          "name": "stdout",
          "text": [
            "Epoch 1/50\n",
            "1500/1500 [==============================] - 8s 5ms/step - loss: 0.1910 - accuracy: 0.9428 - val_loss: 0.1046 - val_accuracy: 0.9703\n",
            "Epoch 2/50\n",
            "1500/1500 [==============================] - 6s 4ms/step - loss: 0.1011 - accuracy: 0.9692 - val_loss: 0.0786 - val_accuracy: 0.9754\n",
            "Epoch 3/50\n",
            "1500/1500 [==============================] - 6s 4ms/step - loss: 0.0866 - accuracy: 0.9731 - val_loss: 0.0778 - val_accuracy: 0.9781\n",
            "Epoch 4/50\n",
            "1500/1500 [==============================] - 6s 4ms/step - loss: 0.0816 - accuracy: 0.9750 - val_loss: 0.0771 - val_accuracy: 0.9784\n",
            "Epoch 5/50\n",
            "1500/1500 [==============================] - 7s 5ms/step - loss: 0.0751 - accuracy: 0.9766 - val_loss: 0.0966 - val_accuracy: 0.9743\n",
            "Epoch 6/50\n",
            "1500/1500 [==============================] - 6s 4ms/step - loss: 0.0716 - accuracy: 0.9780 - val_loss: 0.0901 - val_accuracy: 0.9786\n",
            "Epoch 7/50\n",
            "1500/1500 [==============================] - 6s 4ms/step - loss: 0.0690 - accuracy: 0.9790 - val_loss: 0.0889 - val_accuracy: 0.9780\n",
            "Epoch 8/50\n",
            "1500/1500 [==============================] - 6s 4ms/step - loss: 0.0682 - accuracy: 0.9787 - val_loss: 0.0858 - val_accuracy: 0.9774\n",
            "Epoch 9/50\n",
            "1500/1500 [==============================] - 6s 4ms/step - loss: 0.0626 - accuracy: 0.9807 - val_loss: 0.1075 - val_accuracy: 0.9736\n",
            "Epoch 10/50\n",
            "1500/1500 [==============================] - 6s 4ms/step - loss: 0.0625 - accuracy: 0.9806 - val_loss: 0.1008 - val_accuracy: 0.9740\n",
            "Epoch 11/50\n",
            "1500/1500 [==============================] - 6s 4ms/step - loss: 0.0639 - accuracy: 0.9808 - val_loss: 0.0819 - val_accuracy: 0.9800\n",
            "Epoch 12/50\n",
            "1500/1500 [==============================] - 7s 4ms/step - loss: 0.0606 - accuracy: 0.9814 - val_loss: 0.0844 - val_accuracy: 0.9805\n",
            "Epoch 13/50\n",
            "1500/1500 [==============================] - 7s 4ms/step - loss: 0.0614 - accuracy: 0.9816 - val_loss: 0.1028 - val_accuracy: 0.9758\n",
            "Epoch 14/50\n",
            "1500/1500 [==============================] - 7s 4ms/step - loss: 0.0606 - accuracy: 0.9817 - val_loss: 0.1070 - val_accuracy: 0.9773\n",
            "Epoch 15/50\n",
            "1500/1500 [==============================] - 6s 4ms/step - loss: 0.0607 - accuracy: 0.9819 - val_loss: 0.0914 - val_accuracy: 0.9800\n",
            "Epoch 16/50\n",
            "1500/1500 [==============================] - 7s 4ms/step - loss: 0.0609 - accuracy: 0.9812 - val_loss: 0.1006 - val_accuracy: 0.9801\n",
            "Epoch 17/50\n",
            "1500/1500 [==============================] - 6s 4ms/step - loss: 0.0605 - accuracy: 0.9815 - val_loss: 0.1028 - val_accuracy: 0.9790\n",
            "Epoch 18/50\n",
            "1500/1500 [==============================] - 6s 4ms/step - loss: 0.0620 - accuracy: 0.9815 - val_loss: 0.0940 - val_accuracy: 0.9797\n",
            "Epoch 19/50\n",
            "1500/1500 [==============================] - 7s 4ms/step - loss: 0.0614 - accuracy: 0.9814 - val_loss: 0.0916 - val_accuracy: 0.9802\n",
            "Epoch 20/50\n",
            "1500/1500 [==============================] - 6s 4ms/step - loss: 0.0585 - accuracy: 0.9829 - val_loss: 0.1226 - val_accuracy: 0.9787\n",
            "Epoch 21/50\n",
            "1500/1500 [==============================] - 6s 4ms/step - loss: 0.0587 - accuracy: 0.9830 - val_loss: 0.0945 - val_accuracy: 0.9798\n",
            "Epoch 22/50\n",
            "1500/1500 [==============================] - 6s 4ms/step - loss: 0.0578 - accuracy: 0.9832 - val_loss: 0.1041 - val_accuracy: 0.9792\n",
            "Epoch 23/50\n",
            "1500/1500 [==============================] - 7s 4ms/step - loss: 0.0559 - accuracy: 0.9835 - val_loss: 0.0899 - val_accuracy: 0.9808\n",
            "Epoch 24/50\n",
            "1500/1500 [==============================] - 7s 4ms/step - loss: 0.0560 - accuracy: 0.9843 - val_loss: 0.1118 - val_accuracy: 0.9786\n",
            "Epoch 25/50\n",
            "1500/1500 [==============================] - 7s 4ms/step - loss: 0.0569 - accuracy: 0.9836 - val_loss: 0.1044 - val_accuracy: 0.9808\n",
            "Epoch 26/50\n",
            "1500/1500 [==============================] - 6s 4ms/step - loss: 0.0574 - accuracy: 0.9833 - val_loss: 0.1244 - val_accuracy: 0.9775\n",
            "Epoch 27/50\n",
            "1500/1500 [==============================] - 6s 4ms/step - loss: 0.0568 - accuracy: 0.9838 - val_loss: 0.1408 - val_accuracy: 0.9781\n",
            "Epoch 28/50\n",
            "1500/1500 [==============================] - 6s 4ms/step - loss: 0.0569 - accuracy: 0.9839 - val_loss: 0.1170 - val_accuracy: 0.9791\n",
            "Epoch 29/50\n",
            "1500/1500 [==============================] - 6s 4ms/step - loss: 0.0546 - accuracy: 0.9840 - val_loss: 0.1161 - val_accuracy: 0.9775\n",
            "Epoch 30/50\n",
            "1500/1500 [==============================] - 6s 4ms/step - loss: 0.0613 - accuracy: 0.9829 - val_loss: 0.1062 - val_accuracy: 0.9786\n",
            "Epoch 31/50\n",
            "1500/1500 [==============================] - 7s 4ms/step - loss: 0.0551 - accuracy: 0.9839 - val_loss: 0.1210 - val_accuracy: 0.9777\n",
            "Epoch 32/50\n",
            "1500/1500 [==============================] - 7s 5ms/step - loss: 0.0559 - accuracy: 0.9841 - val_loss: 0.1095 - val_accuracy: 0.9810\n",
            "Epoch 33/50\n",
            "1500/1500 [==============================] - 7s 4ms/step - loss: 0.0569 - accuracy: 0.9837 - val_loss: 0.1203 - val_accuracy: 0.9753\n",
            "Epoch 34/50\n",
            "1500/1500 [==============================] - 7s 4ms/step - loss: 0.0569 - accuracy: 0.9841 - val_loss: 0.1213 - val_accuracy: 0.9803\n",
            "Epoch 35/50\n",
            "1500/1500 [==============================] - 7s 5ms/step - loss: 0.0555 - accuracy: 0.9847 - val_loss: 0.1165 - val_accuracy: 0.9805\n",
            "Epoch 36/50\n",
            "1500/1500 [==============================] - 6s 4ms/step - loss: 0.0567 - accuracy: 0.9839 - val_loss: 0.1101 - val_accuracy: 0.9784\n",
            "Epoch 37/50\n",
            "1500/1500 [==============================] - 6s 4ms/step - loss: 0.0542 - accuracy: 0.9850 - val_loss: 0.1124 - val_accuracy: 0.9799\n",
            "Epoch 38/50\n",
            "1500/1500 [==============================] - 7s 4ms/step - loss: 0.0521 - accuracy: 0.9850 - val_loss: 0.1120 - val_accuracy: 0.9790\n",
            "Epoch 39/50\n",
            "1500/1500 [==============================] - 7s 4ms/step - loss: 0.0532 - accuracy: 0.9848 - val_loss: 0.1283 - val_accuracy: 0.9797\n",
            "Epoch 40/50\n",
            "1500/1500 [==============================] - 7s 5ms/step - loss: 0.0567 - accuracy: 0.9842 - val_loss: 0.1134 - val_accuracy: 0.9795\n",
            "Epoch 41/50\n",
            "1500/1500 [==============================] - 6s 4ms/step - loss: 0.0522 - accuracy: 0.9855 - val_loss: 0.1111 - val_accuracy: 0.9797\n",
            "Epoch 42/50\n",
            "1500/1500 [==============================] - 7s 4ms/step - loss: 0.0549 - accuracy: 0.9853 - val_loss: 0.1584 - val_accuracy: 0.9718\n",
            "Epoch 43/50\n",
            "1500/1500 [==============================] - 7s 4ms/step - loss: 0.0579 - accuracy: 0.9845 - val_loss: 0.1284 - val_accuracy: 0.9803\n",
            "Epoch 44/50\n",
            "1500/1500 [==============================] - 6s 4ms/step - loss: 0.0543 - accuracy: 0.9850 - val_loss: 0.1291 - val_accuracy: 0.9797\n",
            "Epoch 45/50\n",
            "1500/1500 [==============================] - 7s 5ms/step - loss: 0.0538 - accuracy: 0.9856 - val_loss: 0.1328 - val_accuracy: 0.9770\n",
            "Epoch 46/50\n",
            "1500/1500 [==============================] - 7s 5ms/step - loss: 0.0562 - accuracy: 0.9851 - val_loss: 0.1179 - val_accuracy: 0.9793\n",
            "Epoch 47/50\n",
            "1500/1500 [==============================] - 7s 5ms/step - loss: 0.0521 - accuracy: 0.9856 - val_loss: 0.1291 - val_accuracy: 0.9768\n",
            "Epoch 48/50\n",
            "1500/1500 [==============================] - 7s 5ms/step - loss: 0.0534 - accuracy: 0.9854 - val_loss: 0.1202 - val_accuracy: 0.9803\n",
            "Epoch 49/50\n",
            "1500/1500 [==============================] - 7s 5ms/step - loss: 0.0517 - accuracy: 0.9854 - val_loss: 0.1394 - val_accuracy: 0.9795\n",
            "Epoch 50/50\n",
            "1500/1500 [==============================] - 6s 4ms/step - loss: 0.0561 - accuracy: 0.9847 - val_loss: 0.1241 - val_accuracy: 0.9793\n"
          ]
        },
        {
          "output_type": "execute_result",
          "data": {
            "text/plain": [
              "<keras.callbacks.History at 0x7fc34053ff10>"
            ]
          },
          "metadata": {},
          "execution_count": 6
        }
      ]
    },
    {
      "cell_type": "code",
      "metadata": {
        "id": "7Lov9dBb8bcg",
        "colab": {
          "base_uri": "https://localhost:8080/",
          "height": 575
        },
        "outputId": "4ab8f3c6-fb4d-4b10-ca36-7a38bd5b68b1"
      },
      "source": [
        "import seaborn as sns\n",
        "from sklearn.metrics import confusion_matrix\n",
        "np.set_printoptions(precision=4,suppress=True)\n",
        "\n",
        "# Faz as predições para o conjunto de teste\n",
        "predictions = model.predict(x_test)\n",
        "#score = model.evaluate(x_test, y_test_oh, verbose=1) # Poderia ser usado se o objetivo é ter apenas a métrica.\n",
        "\n",
        "# Matriz de confusão\n",
        "cm = confusion_matrix(np.argmax(predictions, axis=1), y_test)\n",
        "print(\"Matriz de confusão\")\n",
        "plt.figure(figsize = (11,9))\n",
        "sns.set(font_scale=0.9)\n",
        "sns.heatmap(cm, annot=True, fmt='g', cmap='viridis')\n"
      ],
      "execution_count": 7,
      "outputs": [
        {
          "output_type": "stream",
          "name": "stdout",
          "text": [
            "Matriz de confusão\n"
          ]
        },
        {
          "output_type": "execute_result",
          "data": {
            "text/plain": [
              "<matplotlib.axes._subplots.AxesSubplot at 0x7fc3400a8490>"
            ]
          },
          "metadata": {},
          "execution_count": 7
        },
        {
          "output_type": "display_data",
          "data": {
            "image/png": "[encoded data removed]",
            "text/plain": [
              "<Figure size 792x648 with 2 Axes>"
            ]
          },
          "metadata": {
            "needs_background": "light"
          }
        }
      ]
    },
    {
      "cell_type": "code",
      "metadata": {
        "colab": {
          "base_uri": "https://localhost:8080/",
          "height": 662
        },
        "id": "c4luj6LdCJrZ",
        "outputId": "c57146d2-5384-4ba8-fe81-bbb673ebfeae"
      },
      "source": [
        "# Matriz de confusão normalizada\n",
        "cmn = cm / cm.astype(np.float).sum(axis=1, keepdims=True)\n",
        "balanced_acc = np.trace(cmn) / num_classes\n",
        "print(\"\\n\\nAcurácia balanceada:\", balanced_acc)\n",
        "\n",
        "print(\"\\n\\nMatriz de confusão balanceada\")\n",
        "plt.figure(figsize = (11,9))\n",
        "sns.set(font_scale=0.9)\n",
        "sns.heatmap(cmn, annot=True, fmt='.1%', cmap='viridis')\n"
      ],
      "execution_count": 8,
      "outputs": [
        {
          "output_type": "stream",
          "name": "stdout",
          "text": [
            "\n",
            "\n",
            "Acurácia balanceada: 0.9817681707260928\n",
            "\n",
            "\n",
            "Matriz de confusão balanceada\n"
          ]
        },
        {
          "output_type": "execute_result",
          "data": {
            "text/plain": [
              "<matplotlib.axes._subplots.AxesSubplot at 0x7fc34006c1d0>"
            ]
          },
          "metadata": {},
          "execution_count": 8
        },
        {
          "output_type": "display_data",
          "data": {
            "image/png": "[encoded data removed]",
            "text/plain": [
              "<Figure size 792x648 with 2 Axes>"
            ]
          },
          "metadata": {}
        }
      ]
    },
    {
      "cell_type": "markdown",
      "metadata": {
        "id": "8uVmu9VununJ"
      },
      "source": [
        "## Cuidado!\n",
        "- Número de épocas muito baixo. Nunca fazemos o treinamento de uma rede usando apenas 1 época.\n",
        "- Múltiplas avaliações do conjunto de teste. Lembre-se, as avaliações são feitas no conjunto de validação. O teste deve ser usado uma ÚNICA vez. \n",
        "- Número de camadas != Número de filtros\n"
      ]
    }
  ]
}