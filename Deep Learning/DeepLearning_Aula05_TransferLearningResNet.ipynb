{
  "nbformat": 4,
  "nbformat_minor": 0,
  "metadata": {
    "colab": {
      "name": "INF0618_Aula05_TransferLearningResNet.ipynb",
      "provenance": [],
      "collapsed_sections": []
    },
    "language_info": {
      "codemirror_mode": {
        "name": "ipython",
        "version": 3
      },
      "file_extension": ".py",
      "mimetype": "text/x-python",
      "name": "python",
      "nbconvert_exporter": "python",
      "pygments_lexer": "ipython3",
      "version": "3.7.3"
    },
    "kernelspec": {
      "name": "python3",
      "display_name": "Python 3"
    },
    "accelerator": "GPU"
  },
  "cells": [
    {
      "cell_type": "markdown",
      "metadata": {
        "id": "Uy2rO8CD2fzd"
      },
      "source": [
        "# Transfer Learning\n",
        "\n",
        "Neste exemplo, usaremos os pesos da ***ResNet50***, pré-treinados no conjunto ImageNet, para classificação das imagens do CIFAR-10. A expectativa é de que os filtros da rede que foram pré-treinados auxiliem na tarefa de classificação, por mais que as distribuições dos dados sejam diferentes. \n",
        "Faremos dois experimentos:\n",
        "\n",
        "1. Usar a rede como extrator de características, descartando a saída original e congelando suas as camadas. Adicionaremos uma nova camada de saída com o número de classes do CIFAR-10.\n",
        "\n",
        "2. Após este primeiro treinamento, vamos descongelar as camadas e fazer o _fine-tuning_ das camadas. "
      ]
    },
    {
      "cell_type": "code",
      "metadata": {
        "id": "r2EjL8tV2fzk"
      },
      "source": [
        "import numpy as np\n",
        "%matplotlib inline\n",
        "import matplotlib.pyplot as plt\n",
        "\n",
        "import tensorflow as tf\n",
        "from tensorflow import keras\n",
        "from tensorflow.keras import layers\n",
        "from tensorflow.keras.datasets import cifar10\n",
        "\n",
        "from sklearn.model_selection import StratifiedShuffleSplit\n",
        "from sklearn.metrics import roc_auc_score\n",
        "\n",
        "#Utility to plot\n",
        "def plotImages(imgList, n_row=1, n_col=1):\n",
        "    _, axs = plt.subplots(n_row, n_col, figsize=(3, 3))\n",
        "    axs = axs.flatten()\n",
        "    for img, ax in zip(imgList, axs):\n",
        "        ax.imshow(np.uint8(img), interpolation='nearest')\n",
        "    plt.show()\n",
        "        \n",
        "        \n",
        "def plotImage(img):\n",
        "    fig = plt.figure(figsize=(3,3))\n",
        "    ax = fig.add_subplot(111)\n",
        "\n",
        "    ax.imshow(np.uint8(img), interpolation='nearest')\n",
        "    plt.show()"
      ],
      "execution_count": 1,
      "outputs": []
    },
    {
      "cell_type": "markdown",
      "metadata": {
        "id": "ZWwtLHP-2fzy"
      },
      "source": [
        "## CIFAR-10\n",
        "\n",
        "Conjunto de dados composto de 60.000 imagens coloridas de dimensões 32x32, divididas em 10 classes (com 6.000 imagens por classe), sendo 50.000 para treinamento e 10.000 para teste. As classes do CIFAR-10 são **aviões, automóveis, pássaros, gatos, alces, cachorros, sapos, cavalos, navios, caminhões.**\n",
        "\n",
        "O código abaixo carrega e transforma os dados de entrada para ficarem prontos para serem treinados/classificados pela sua rede. Os conjuntos de treino, validação e teste estão balanceados, portanto a acurácia já estará normalizada nos métodos do Keras. \n",
        "\n",
        "***Veja como pré-processamos os dados com a função do próprio modelo pré-treinado.***"
      ]
    },
    {
      "cell_type": "code",
      "metadata": {
        "id": "zC3Zx3IE2fz3",
        "colab": {
          "base_uri": "https://localhost:8080/"
        },
        "outputId": "261430a8-269d-4d80-f888-76f09aae925a"
      },
      "source": [
        "#Load data\n",
        "(trainVal_data, trainVal_label), (X_test, y_test) = cifar10.load_data()\n",
        "\n",
        "#Split trainVal data into train and val sets (already balanced)\n",
        "sss = StratifiedShuffleSplit(1, test_size=10000, random_state=0)\n",
        "for train_index, val_index in sss.split(trainVal_data, trainVal_label):\n",
        "    X_train, X_val = trainVal_data[train_index], trainVal_data[val_index]\n",
        "    y_train, y_val = trainVal_label[train_index], trainVal_label[val_index]\n",
        "\n",
        "#X_train = X_train.astype('float32')\n",
        "#X_val = X_val.astype('float32')\n",
        "#X_test = X_test.astype('float32')\n",
        "\n",
        "print(\"Dados de treino:\", X_train.shape)\n",
        "print(\"Dados de validação:\", X_val.shape)\n",
        "print(\"Dados de teste:\", X_test.shape)\n",
        "print()\n",
        "n_classes = 10\n",
        "\n",
        "Y_train = tf.keras.utils.to_categorical(y_train, n_classes)\n",
        "Y_val = tf.keras.utils.to_categorical(y_val, n_classes)\n",
        "Y_test = tf.keras.utils.to_categorical(y_test, n_classes)\n",
        "\n",
        "# Computa a distribuição de amostras por classe\n",
        "num_train_classes, _ = np.histogram(y_train, bins=np.arange(n_classes)+1)\n",
        "num_valid_classes, _ = np.histogram(y_val, bins=np.arange(n_classes)+1)\n",
        "num_test_classes, _ = np.histogram(y_test, bins=np.arange(n_classes)+1)\n",
        "\n",
        "print(\"Distribuição de amostras por classe:\")\n",
        "print(\" - treino:\", num_train_classes)\n",
        "print(\" - validação:\", num_valid_classes)\n",
        "print(\" - teste:\", num_test_classes)"
      ],
      "execution_count": 2,
      "outputs": [
        {
          "output_type": "stream",
          "name": "stdout",
          "text": [
            "Dados de treino: (40000, 32, 32, 3)\n",
            "Dados de validação: (10000, 32, 32, 3)\n",
            "Dados de teste: (10000, 32, 32, 3)\n",
            "\n",
            "Distribuição de amostras por classe:\n",
            " - treino: [4000 4000 4000 4000 4000 4000 4000 4000 4000]\n",
            " - validação: [1000 1000 1000 1000 1000 1000 1000 1000 1000]\n",
            " - teste: [1000 1000 1000 1000 1000 1000 1000 1000 1000]\n"
          ]
        }
      ]
    },
    {
      "cell_type": "code",
      "metadata": {
        "colab": {
          "base_uri": "https://localhost:8080/",
          "height": 306
        },
        "id": "Kg4iclNSYK5w",
        "outputId": "92c0cd66-f517-494d-c432-1a9066d6b336"
      },
      "source": [
        "from tensorflow.keras.preprocessing.image import ImageDataGenerator\n",
        "\n",
        "datagen_for_printing = ImageDataGenerator(\n",
        "    rotation_range=20,\n",
        "    width_shift_range=0.2,\n",
        "    height_shift_range=0.2,\n",
        "    horizontal_flip=True)\n",
        "\n",
        "datagen_resnet = ImageDataGenerator(\n",
        "    rotation_range=20,\n",
        "    width_shift_range=0.2,\n",
        "    height_shift_range=0.2,\n",
        "    horizontal_flip=True,\n",
        "    zoom_range=[0.6, 1],\n",
        "    preprocessing_function=tf.keras.applications.resnet50.preprocess_input\n",
        "    )\n",
        "\n",
        "# datagen com preprocessing\n",
        "gerador_batches_resnet = datagen_resnet.flow(X_train, Y_train, shuffle=False, batch_size=64)\n",
        "batch_X_proc, batch_Y_proc = gerador_batches_resnet.next()\n",
        "\n",
        "gerador_batches_printing = datagen_for_printing.flow(X_train, Y_train, shuffle=False, batch_size=64)\n",
        "batch_X, batch_Y = gerador_batches_printing.next()\n",
        "\n",
        "print(batch_X_proc.shape, batch_Y_proc.shape)\n",
        "print(batch_X.shape, batch_Y.shape)\n",
        "print(\"imagens apenas com aumentações\")\n",
        "plotImages(batch_X[:2], 1, 2)\n",
        "\n",
        "print(\"imagens com aumentações + pré-processamento resnet\")\n",
        "plotImages(batch_X_proc[:2], 1, 2)\n"
      ],
      "execution_count": 3,
      "outputs": [
        {
          "output_type": "stream",
          "name": "stdout",
          "text": [
            "(64, 32, 32, 3) (64, 10)\n",
            "(64, 32, 32, 3) (64, 10)\n",
            "imagens apenas com aumentações\n"
          ]
        },
        {
          "output_type": "display_data",
          "data": {
            "image/png": "[encoded data removed]",
            "text/plain": [
              "<Figure size 216x216 with 2 Axes>"
            ]
          },
          "metadata": {
            "needs_background": "light"
          }
        },
        {
          "output_type": "stream",
          "name": "stdout",
          "text": [
            "imagens com aumentações + pré-processamento resnet\n"
          ]
        },
        {
          "output_type": "display_data",
          "data": {
            "image/png": "[encoded data removed]",
            "text/plain": [
              "<Figure size 216x216 with 2 Axes>"
            ]
          },
          "metadata": {
            "needs_background": "light"
          }
        }
      ]
    },
    {
      "cell_type": "markdown",
      "metadata": {
        "id": "rXshP8oD2f0e"
      },
      "source": [
        "## Congelar camadas\n",
        "\n",
        "Vamos pegar a saída da ResNet50 após todas as convoluções, congelar os pesos, e adicionar uma camada densa treinável para as novas classes do CIFAR-10. Podemos pensar nas camadas congeladas como extrator de características.\n"
      ]
    },
    {
      "cell_type": "code",
      "metadata": {
        "id": "8ubAM7yv2f0j",
        "colab": {
          "base_uri": "https://localhost:8080/"
        },
        "outputId": "fbd4ea19-33dd-4068-c093-50ae895f6331"
      },
      "source": [
        "# Carregamento do modelo pré-treinado SEM as camadas densas (include_top = False)\n",
        "model = tf.keras.applications.ResNet50(weights='imagenet', include_top=False, input_shape=(32,32,3))\n",
        "model.summary()\n",
        "\n",
        "# Congela camadas pré-treinadas\n",
        "for layer in model.layers:\n",
        "    layer.trainable = False\n",
        "\n",
        "# Insere novas camadas no fim da rede para classificação\n",
        "frozen_model = tf.keras.Sequential([\n",
        "  model,\n",
        "  tf.keras.layers.GlobalAveragePooling2D(),\n",
        "  tf.keras.layers.Dense(10, activation='softmax')\n",
        "])\n",
        "\n",
        "frozen_model.summary()"
      ],
      "execution_count": 4,
      "outputs": [
        {
          "output_type": "stream",
          "name": "stdout",
          "text": [
            "Model: \"resnet50\"\n",
            "__________________________________________________________________________________________________\n",
            "Layer (type)                    Output Shape         Param #     Connected to                     \n",
            "==================================================================================================\n",
            "input_1 (InputLayer)            [(None, 32, 32, 3)]  0                                            \n",
            "__________________________________________________________________________________________________\n",
            "conv1_pad (ZeroPadding2D)       (None, 38, 38, 3)    0           input_1[0][0]                    \n",
            "__________________________________________________________________________________________________\n",
            "conv1_conv (Conv2D)             (None, 16, 16, 64)   9472        conv1_pad[0][0]                  \n",
            "__________________________________________________________________________________________________\n",
            "conv1_bn (BatchNormalization)   (None, 16, 16, 64)   256         conv1_conv[0][0]                 \n",
            "__________________________________________________________________________________________________\n",
            "conv1_relu (Activation)         (None, 16, 16, 64)   0           conv1_bn[0][0]                   \n",
            "__________________________________________________________________________________________________\n",
            "pool1_pad (ZeroPadding2D)       (None, 18, 18, 64)   0           conv1_relu[0][0]                 \n",
            "__________________________________________________________________________________________________\n",
            "pool1_pool (MaxPooling2D)       (None, 8, 8, 64)     0           pool1_pad[0][0]                  \n",
            "__________________________________________________________________________________________________\n",
            "conv2_block1_1_conv (Conv2D)    (None, 8, 8, 64)     4160        pool1_pool[0][0]                 \n",
            "__________________________________________________________________________________________________\n",
            "conv2_block1_1_bn (BatchNormali (None, 8, 8, 64)     256         conv2_block1_1_conv[0][0]        \n",
            "__________________________________________________________________________________________________\n",
            "conv2_block1_1_relu (Activation (None, 8, 8, 64)     0           conv2_block1_1_bn[0][0]          \n",
            "__________________________________________________________________________________________________\n",
            "conv2_block1_2_conv (Conv2D)    (None, 8, 8, 64)     36928       conv2_block1_1_relu[0][0]        \n",
            "__________________________________________________________________________________________________\n",
            "conv2_block1_2_bn (BatchNormali (None, 8, 8, 64)     256         conv2_block1_2_conv[0][0]        \n",
            "__________________________________________________________________________________________________\n",
            "conv2_block1_2_relu (Activation (None, 8, 8, 64)     0           conv2_block1_2_bn[0][0]          \n",
            "__________________________________________________________________________________________________\n",
            "conv2_block1_0_conv (Conv2D)    (None, 8, 8, 256)    16640       pool1_pool[0][0]                 \n",
            "__________________________________________________________________________________________________\n",
            "conv2_block1_3_conv (Conv2D)    (None, 8, 8, 256)    16640       conv2_block1_2_relu[0][0]        \n",
            "__________________________________________________________________________________________________\n",
            "conv2_block1_0_bn (BatchNormali (None, 8, 8, 256)    1024        conv2_block1_0_conv[0][0]        \n",
            "__________________________________________________________________________________________________\n",
            "conv2_block1_3_bn (BatchNormali (None, 8, 8, 256)    1024        conv2_block1_3_conv[0][0]        \n",
            "__________________________________________________________________________________________________\n",
            "conv2_block1_add (Add)          (None, 8, 8, 256)    0           conv2_block1_0_bn[0][0]          \n",
            "                                                                 conv2_block1_3_bn[0][0]          \n",
            "__________________________________________________________________________________________________\n",
            "conv2_block1_out (Activation)   (None, 8, 8, 256)    0           conv2_block1_add[0][0]           \n",
            "__________________________________________________________________________________________________\n",
            "conv2_block2_1_conv (Conv2D)    (None, 8, 8, 64)     16448       conv2_block1_out[0][0]           \n",
            "__________________________________________________________________________________________________\n",
            "conv2_block2_1_bn (BatchNormali (None, 8, 8, 64)     256         conv2_block2_1_conv[0][0]        \n",
            "__________________________________________________________________________________________________\n",
            "conv2_block2_1_relu (Activation (None, 8, 8, 64)     0           conv2_block2_1_bn[0][0]          \n",
            "__________________________________________________________________________________________________\n",
            "conv2_block2_2_conv (Conv2D)    (None, 8, 8, 64)     36928       conv2_block2_1_relu[0][0]        \n",
            "__________________________________________________________________________________________________\n",
            "conv2_block2_2_bn (BatchNormali (None, 8, 8, 64)     256         conv2_block2_2_conv[0][0]        \n",
            "__________________________________________________________________________________________________\n",
            "conv2_block2_2_relu (Activation (None, 8, 8, 64)     0           conv2_block2_2_bn[0][0]          \n",
            "__________________________________________________________________________________________________\n",
            "conv2_block2_3_conv (Conv2D)    (None, 8, 8, 256)    16640       conv2_block2_2_relu[0][0]        \n",
            "__________________________________________________________________________________________________\n",
            "conv2_block2_3_bn (BatchNormali (None, 8, 8, 256)    1024        conv2_block2_3_conv[0][0]        \n",
            "__________________________________________________________________________________________________\n",
            "conv2_block2_add (Add)          (None, 8, 8, 256)    0           conv2_block1_out[0][0]           \n",
            "                                                                 conv2_block2_3_bn[0][0]          \n",
            "__________________________________________________________________________________________________\n",
            "conv2_block2_out (Activation)   (None, 8, 8, 256)    0           conv2_block2_add[0][0]           \n",
            "__________________________________________________________________________________________________\n",
            "conv2_block3_1_conv (Conv2D)    (None, 8, 8, 64)     16448       conv2_block2_out[0][0]           \n",
            "__________________________________________________________________________________________________\n",
            "conv2_block3_1_bn (BatchNormali (None, 8, 8, 64)     256         conv2_block3_1_conv[0][0]        \n",
            "__________________________________________________________________________________________________\n",
            "conv2_block3_1_relu (Activation (None, 8, 8, 64)     0           conv2_block3_1_bn[0][0]          \n",
            "__________________________________________________________________________________________________\n",
            "conv2_block3_2_conv (Conv2D)    (None, 8, 8, 64)     36928       conv2_block3_1_relu[0][0]        \n",
            "__________________________________________________________________________________________________\n",
            "conv2_block3_2_bn (BatchNormali (None, 8, 8, 64)     256         conv2_block3_2_conv[0][0]        \n",
            "__________________________________________________________________________________________________\n",
            "conv2_block3_2_relu (Activation (None, 8, 8, 64)     0           conv2_block3_2_bn[0][0]          \n",
            "__________________________________________________________________________________________________\n",
            "conv2_block3_3_conv (Conv2D)    (None, 8, 8, 256)    16640       conv2_block3_2_relu[0][0]        \n",
            "__________________________________________________________________________________________________\n",
            "conv2_block3_3_bn (BatchNormali (None, 8, 8, 256)    1024        conv2_block3_3_conv[0][0]        \n",
            "__________________________________________________________________________________________________\n",
            "conv2_block3_add (Add)          (None, 8, 8, 256)    0           conv2_block2_out[0][0]           \n",
            "                                                                 conv2_block3_3_bn[0][0]          \n",
            "__________________________________________________________________________________________________\n",
            "conv2_block3_out (Activation)   (None, 8, 8, 256)    0           conv2_block3_add[0][0]           \n",
            "__________________________________________________________________________________________________\n",
            "conv3_block1_1_conv (Conv2D)    (None, 4, 4, 128)    32896       conv2_block3_out[0][0]           \n",
            "__________________________________________________________________________________________________\n",
            "conv3_block1_1_bn (BatchNormali (None, 4, 4, 128)    512         conv3_block1_1_conv[0][0]        \n",
            "__________________________________________________________________________________________________\n",
            "conv3_block1_1_relu (Activation (None, 4, 4, 128)    0           conv3_block1_1_bn[0][0]          \n",
            "__________________________________________________________________________________________________\n",
            "conv3_block1_2_conv (Conv2D)    (None, 4, 4, 128)    147584      conv3_block1_1_relu[0][0]        \n",
            "__________________________________________________________________________________________________\n",
            "conv3_block1_2_bn (BatchNormali (None, 4, 4, 128)    512         conv3_block1_2_conv[0][0]        \n",
            "__________________________________________________________________________________________________\n",
            "conv3_block1_2_relu (Activation (None, 4, 4, 128)    0           conv3_block1_2_bn[0][0]          \n",
            "__________________________________________________________________________________________________\n",
            "conv3_block1_0_conv (Conv2D)    (None, 4, 4, 512)    131584      conv2_block3_out[0][0]           \n",
            "__________________________________________________________________________________________________\n",
            "conv3_block1_3_conv (Conv2D)    (None, 4, 4, 512)    66048       conv3_block1_2_relu[0][0]        \n",
            "__________________________________________________________________________________________________\n",
            "conv3_block1_0_bn (BatchNormali (None, 4, 4, 512)    2048        conv3_block1_0_conv[0][0]        \n",
            "__________________________________________________________________________________________________\n",
            "conv3_block1_3_bn (BatchNormali (None, 4, 4, 512)    2048        conv3_block1_3_conv[0][0]        \n",
            "__________________________________________________________________________________________________\n",
            "conv3_block1_add (Add)          (None, 4, 4, 512)    0           conv3_block1_0_bn[0][0]          \n",
            "                                                                 conv3_block1_3_bn[0][0]          \n",
            "__________________________________________________________________________________________________\n",
            "conv3_block1_out (Activation)   (None, 4, 4, 512)    0           conv3_block1_add[0][0]           \n",
            "__________________________________________________________________________________________________\n",
            "conv3_block2_1_conv (Conv2D)    (None, 4, 4, 128)    65664       conv3_block1_out[0][0]           \n",
            "__________________________________________________________________________________________________\n",
            "conv3_block2_1_bn (BatchNormali (None, 4, 4, 128)    512         conv3_block2_1_conv[0][0]        \n",
            "__________________________________________________________________________________________________\n",
            "conv3_block2_1_relu (Activation (None, 4, 4, 128)    0           conv3_block2_1_bn[0][0]          \n",
            "__________________________________________________________________________________________________\n",
            "conv3_block2_2_conv (Conv2D)    (None, 4, 4, 128)    147584      conv3_block2_1_relu[0][0]        \n",
            "__________________________________________________________________________________________________\n",
            "conv3_block2_2_bn (BatchNormali (None, 4, 4, 128)    512         conv3_block2_2_conv[0][0]        \n",
            "__________________________________________________________________________________________________\n",
            "conv3_block2_2_relu (Activation (None, 4, 4, 128)    0           conv3_block2_2_bn[0][0]          \n",
            "__________________________________________________________________________________________________\n",
            "conv3_block2_3_conv (Conv2D)    (None, 4, 4, 512)    66048       conv3_block2_2_relu[0][0]        \n",
            "__________________________________________________________________________________________________\n",
            "conv3_block2_3_bn (BatchNormali (None, 4, 4, 512)    2048        conv3_block2_3_conv[0][0]        \n",
            "__________________________________________________________________________________________________\n",
            "conv3_block2_add (Add)          (None, 4, 4, 512)    0           conv3_block1_out[0][0]           \n",
            "                                                                 conv3_block2_3_bn[0][0]          \n",
            "__________________________________________________________________________________________________\n",
            "conv3_block2_out (Activation)   (None, 4, 4, 512)    0           conv3_block2_add[0][0]           \n",
            "__________________________________________________________________________________________________\n",
            "conv3_block3_1_conv (Conv2D)    (None, 4, 4, 128)    65664       conv3_block2_out[0][0]           \n",
            "__________________________________________________________________________________________________\n",
            "conv3_block3_1_bn (BatchNormali (None, 4, 4, 128)    512         conv3_block3_1_conv[0][0]        \n",
            "__________________________________________________________________________________________________\n",
            "conv3_block3_1_relu (Activation (None, 4, 4, 128)    0           conv3_block3_1_bn[0][0]          \n",
            "__________________________________________________________________________________________________\n",
            "conv3_block3_2_conv (Conv2D)    (None, 4, 4, 128)    147584      conv3_block3_1_relu[0][0]        \n",
            "__________________________________________________________________________________________________\n",
            "conv3_block3_2_bn (BatchNormali (None, 4, 4, 128)    512         conv3_block3_2_conv[0][0]        \n",
            "__________________________________________________________________________________________________\n",
            "conv3_block3_2_relu (Activation (None, 4, 4, 128)    0           conv3_block3_2_bn[0][0]          \n",
            "__________________________________________________________________________________________________\n",
            "conv3_block3_3_conv (Conv2D)    (None, 4, 4, 512)    66048       conv3_block3_2_relu[0][0]        \n",
            "__________________________________________________________________________________________________\n",
            "conv3_block3_3_bn (BatchNormali (None, 4, 4, 512)    2048        conv3_block3_3_conv[0][0]        \n",
            "__________________________________________________________________________________________________\n",
            "conv3_block3_add (Add)          (None, 4, 4, 512)    0           conv3_block2_out[0][0]           \n",
            "                                                                 conv3_block3_3_bn[0][0]          \n",
            "__________________________________________________________________________________________________\n",
            "conv3_block3_out (Activation)   (None, 4, 4, 512)    0           conv3_block3_add[0][0]           \n",
            "__________________________________________________________________________________________________\n",
            "conv3_block4_1_conv (Conv2D)    (None, 4, 4, 128)    65664       conv3_block3_out[0][0]           \n",
            "__________________________________________________________________________________________________\n",
            "conv3_block4_1_bn (BatchNormali (None, 4, 4, 128)    512         conv3_block4_1_conv[0][0]        \n",
            "__________________________________________________________________________________________________\n",
            "conv3_block4_1_relu (Activation (None, 4, 4, 128)    0           conv3_block4_1_bn[0][0]          \n",
            "__________________________________________________________________________________________________\n",
            "conv3_block4_2_conv (Conv2D)    (None, 4, 4, 128)    147584      conv3_block4_1_relu[0][0]        \n",
            "__________________________________________________________________________________________________\n",
            "conv3_block4_2_bn (BatchNormali (None, 4, 4, 128)    512         conv3_block4_2_conv[0][0]        \n",
            "__________________________________________________________________________________________________\n",
            "conv3_block4_2_relu (Activation (None, 4, 4, 128)    0           conv3_block4_2_bn[0][0]          \n",
            "__________________________________________________________________________________________________\n",
            "conv3_block4_3_conv (Conv2D)    (None, 4, 4, 512)    66048       conv3_block4_2_relu[0][0]        \n",
            "__________________________________________________________________________________________________\n",
            "conv3_block4_3_bn (BatchNormali (None, 4, 4, 512)    2048        conv3_block4_3_conv[0][0]        \n",
            "__________________________________________________________________________________________________\n",
            "conv3_block4_add (Add)          (None, 4, 4, 512)    0           conv3_block3_out[0][0]           \n",
            "                                                                 conv3_block4_3_bn[0][0]          \n",
            "__________________________________________________________________________________________________\n",
            "conv3_block4_out (Activation)   (None, 4, 4, 512)    0           conv3_block4_add[0][0]           \n",
            "__________________________________________________________________________________________________\n",
            "conv4_block1_1_conv (Conv2D)    (None, 2, 2, 256)    131328      conv3_block4_out[0][0]           \n",
            "__________________________________________________________________________________________________\n",
            "conv4_block1_1_bn (BatchNormali (None, 2, 2, 256)    1024        conv4_block1_1_conv[0][0]        \n",
            "__________________________________________________________________________________________________\n",
            "conv4_block1_1_relu (Activation (None, 2, 2, 256)    0           conv4_block1_1_bn[0][0]          \n",
            "__________________________________________________________________________________________________\n",
            "conv4_block1_2_conv (Conv2D)    (None, 2, 2, 256)    590080      conv4_block1_1_relu[0][0]        \n",
            "__________________________________________________________________________________________________\n",
            "conv4_block1_2_bn (BatchNormali (None, 2, 2, 256)    1024        conv4_block1_2_conv[0][0]        \n",
            "__________________________________________________________________________________________________\n",
            "conv4_block1_2_relu (Activation (None, 2, 2, 256)    0           conv4_block1_2_bn[0][0]          \n",
            "__________________________________________________________________________________________________\n",
            "conv4_block1_0_conv (Conv2D)    (None, 2, 2, 1024)   525312      conv3_block4_out[0][0]           \n",
            "__________________________________________________________________________________________________\n",
            "conv4_block1_3_conv (Conv2D)    (None, 2, 2, 1024)   263168      conv4_block1_2_relu[0][0]        \n",
            "__________________________________________________________________________________________________\n",
            "conv4_block1_0_bn (BatchNormali (None, 2, 2, 1024)   4096        conv4_block1_0_conv[0][0]        \n",
            "__________________________________________________________________________________________________\n",
            "conv4_block1_3_bn (BatchNormali (None, 2, 2, 1024)   4096        conv4_block1_3_conv[0][0]        \n",
            "__________________________________________________________________________________________________\n",
            "conv4_block1_add (Add)          (None, 2, 2, 1024)   0           conv4_block1_0_bn[0][0]          \n",
            "                                                                 conv4_block1_3_bn[0][0]          \n",
            "__________________________________________________________________________________________________\n",
            "conv4_block1_out (Activation)   (None, 2, 2, 1024)   0           conv4_block1_add[0][0]           \n",
            "__________________________________________________________________________________________________\n",
            "conv4_block2_1_conv (Conv2D)    (None, 2, 2, 256)    262400      conv4_block1_out[0][0]           \n",
            "__________________________________________________________________________________________________\n",
            "conv4_block2_1_bn (BatchNormali (None, 2, 2, 256)    1024        conv4_block2_1_conv[0][0]        \n",
            "__________________________________________________________________________________________________\n",
            "conv4_block2_1_relu (Activation (None, 2, 2, 256)    0           conv4_block2_1_bn[0][0]          \n",
            "__________________________________________________________________________________________________\n",
            "conv4_block2_2_conv (Conv2D)    (None, 2, 2, 256)    590080      conv4_block2_1_relu[0][0]        \n",
            "__________________________________________________________________________________________________\n",
            "conv4_block2_2_bn (BatchNormali (None, 2, 2, 256)    1024        conv4_block2_2_conv[0][0]        \n",
            "__________________________________________________________________________________________________\n",
            "conv4_block2_2_relu (Activation (None, 2, 2, 256)    0           conv4_block2_2_bn[0][0]          \n",
            "__________________________________________________________________________________________________\n",
            "conv4_block2_3_conv (Conv2D)    (None, 2, 2, 1024)   263168      conv4_block2_2_relu[0][0]        \n",
            "__________________________________________________________________________________________________\n",
            "conv4_block2_3_bn (BatchNormali (None, 2, 2, 1024)   4096        conv4_block2_3_conv[0][0]        \n",
            "__________________________________________________________________________________________________\n",
            "conv4_block2_add (Add)          (None, 2, 2, 1024)   0           conv4_block1_out[0][0]           \n",
            "                                                                 conv4_block2_3_bn[0][0]          \n",
            "__________________________________________________________________________________________________\n",
            "conv4_block2_out (Activation)   (None, 2, 2, 1024)   0           conv4_block2_add[0][0]           \n",
            "__________________________________________________________________________________________________\n",
            "conv4_block3_1_conv (Conv2D)    (None, 2, 2, 256)    262400      conv4_block2_out[0][0]           \n",
            "__________________________________________________________________________________________________\n",
            "conv4_block3_1_bn (BatchNormali (None, 2, 2, 256)    1024        conv4_block3_1_conv[0][0]        \n",
            "__________________________________________________________________________________________________\n",
            "conv4_block3_1_relu (Activation (None, 2, 2, 256)    0           conv4_block3_1_bn[0][0]          \n",
            "__________________________________________________________________________________________________\n",
            "conv4_block3_2_conv (Conv2D)    (None, 2, 2, 256)    590080      conv4_block3_1_relu[0][0]        \n",
            "__________________________________________________________________________________________________\n",
            "conv4_block3_2_bn (BatchNormali (None, 2, 2, 256)    1024        conv4_block3_2_conv[0][0]        \n",
            "__________________________________________________________________________________________________\n",
            "conv4_block3_2_relu (Activation (None, 2, 2, 256)    0           conv4_block3_2_bn[0][0]          \n",
            "__________________________________________________________________________________________________\n",
            "conv4_block3_3_conv (Conv2D)    (None, 2, 2, 1024)   263168      conv4_block3_2_relu[0][0]        \n",
            "__________________________________________________________________________________________________\n",
            "conv4_block3_3_bn (BatchNormali (None, 2, 2, 1024)   4096        conv4_block3_3_conv[0][0]        \n",
            "__________________________________________________________________________________________________\n",
            "conv4_block3_add (Add)          (None, 2, 2, 1024)   0           conv4_block2_out[0][0]           \n",
            "                                                                 conv4_block3_3_bn[0][0]          \n",
            "__________________________________________________________________________________________________\n",
            "conv4_block3_out (Activation)   (None, 2, 2, 1024)   0           conv4_block3_add[0][0]           \n",
            "__________________________________________________________________________________________________\n",
            "conv4_block4_1_conv (Conv2D)    (None, 2, 2, 256)    262400      conv4_block3_out[0][0]           \n",
            "__________________________________________________________________________________________________\n",
            "conv4_block4_1_bn (BatchNormali (None, 2, 2, 256)    1024        conv4_block4_1_conv[0][0]        \n",
            "__________________________________________________________________________________________________\n",
            "conv4_block4_1_relu (Activation (None, 2, 2, 256)    0           conv4_block4_1_bn[0][0]          \n",
            "__________________________________________________________________________________________________\n",
            "conv4_block4_2_conv (Conv2D)    (None, 2, 2, 256)    590080      conv4_block4_1_relu[0][0]        \n",
            "__________________________________________________________________________________________________\n",
            "conv4_block4_2_bn (BatchNormali (None, 2, 2, 256)    1024        conv4_block4_2_conv[0][0]        \n",
            "__________________________________________________________________________________________________\n",
            "conv4_block4_2_relu (Activation (None, 2, 2, 256)    0           conv4_block4_2_bn[0][0]          \n",
            "__________________________________________________________________________________________________\n",
            "conv4_block4_3_conv (Conv2D)    (None, 2, 2, 1024)   263168      conv4_block4_2_relu[0][0]        \n",
            "__________________________________________________________________________________________________\n",
            "conv4_block4_3_bn (BatchNormali (None, 2, 2, 1024)   4096        conv4_block4_3_conv[0][0]        \n",
            "__________________________________________________________________________________________________\n",
            "conv4_block4_add (Add)          (None, 2, 2, 1024)   0           conv4_block3_out[0][0]           \n",
            "                                                                 conv4_block4_3_bn[0][0]          \n",
            "__________________________________________________________________________________________________\n",
            "conv4_block4_out (Activation)   (None, 2, 2, 1024)   0           conv4_block4_add[0][0]           \n",
            "__________________________________________________________________________________________________\n",
            "conv4_block5_1_conv (Conv2D)    (None, 2, 2, 256)    262400      conv4_block4_out[0][0]           \n",
            "__________________________________________________________________________________________________\n",
            "conv4_block5_1_bn (BatchNormali (None, 2, 2, 256)    1024        conv4_block5_1_conv[0][0]        \n",
            "__________________________________________________________________________________________________\n",
            "conv4_block5_1_relu (Activation (None, 2, 2, 256)    0           conv4_block5_1_bn[0][0]          \n",
            "__________________________________________________________________________________________________\n",
            "conv4_block5_2_conv (Conv2D)    (None, 2, 2, 256)    590080      conv4_block5_1_relu[0][0]        \n",
            "__________________________________________________________________________________________________\n",
            "conv4_block5_2_bn (BatchNormali (None, 2, 2, 256)    1024        conv4_block5_2_conv[0][0]        \n",
            "__________________________________________________________________________________________________\n",
            "conv4_block5_2_relu (Activation (None, 2, 2, 256)    0           conv4_block5_2_bn[0][0]          \n",
            "__________________________________________________________________________________________________\n",
            "conv4_block5_3_conv (Conv2D)    (None, 2, 2, 1024)   263168      conv4_block5_2_relu[0][0]        \n",
            "__________________________________________________________________________________________________\n",
            "conv4_block5_3_bn (BatchNormali (None, 2, 2, 1024)   4096        conv4_block5_3_conv[0][0]        \n",
            "__________________________________________________________________________________________________\n",
            "conv4_block5_add (Add)          (None, 2, 2, 1024)   0           conv4_block4_out[0][0]           \n",
            "                                                                 conv4_block5_3_bn[0][0]          \n",
            "__________________________________________________________________________________________________\n",
            "conv4_block5_out (Activation)   (None, 2, 2, 1024)   0           conv4_block5_add[0][0]           \n",
            "__________________________________________________________________________________________________\n",
            "conv4_block6_1_conv (Conv2D)    (None, 2, 2, 256)    262400      conv4_block5_out[0][0]           \n",
            "__________________________________________________________________________________________________\n",
            "conv4_block6_1_bn (BatchNormali (None, 2, 2, 256)    1024        conv4_block6_1_conv[0][0]        \n",
            "__________________________________________________________________________________________________\n",
            "conv4_block6_1_relu (Activation (None, 2, 2, 256)    0           conv4_block6_1_bn[0][0]          \n",
            "__________________________________________________________________________________________________\n",
            "conv4_block6_2_conv (Conv2D)    (None, 2, 2, 256)    590080      conv4_block6_1_relu[0][0]        \n",
            "__________________________________________________________________________________________________\n",
            "conv4_block6_2_bn (BatchNormali (None, 2, 2, 256)    1024        conv4_block6_2_conv[0][0]        \n",
            "__________________________________________________________________________________________________\n",
            "conv4_block6_2_relu (Activation (None, 2, 2, 256)    0           conv4_block6_2_bn[0][0]          \n",
            "__________________________________________________________________________________________________\n",
            "conv4_block6_3_conv (Conv2D)    (None, 2, 2, 1024)   263168      conv4_block6_2_relu[0][0]        \n",
            "__________________________________________________________________________________________________\n",
            "conv4_block6_3_bn (BatchNormali (None, 2, 2, 1024)   4096        conv4_block6_3_conv[0][0]        \n",
            "__________________________________________________________________________________________________\n",
            "conv4_block6_add (Add)          (None, 2, 2, 1024)   0           conv4_block5_out[0][0]           \n",
            "                                                                 conv4_block6_3_bn[0][0]          \n",
            "__________________________________________________________________________________________________\n",
            "conv4_block6_out (Activation)   (None, 2, 2, 1024)   0           conv4_block6_add[0][0]           \n",
            "__________________________________________________________________________________________________\n",
            "conv5_block1_1_conv (Conv2D)    (None, 1, 1, 512)    524800      conv4_block6_out[0][0]           \n",
            "__________________________________________________________________________________________________\n",
            "conv5_block1_1_bn (BatchNormali (None, 1, 1, 512)    2048        conv5_block1_1_conv[0][0]        \n",
            "__________________________________________________________________________________________________\n",
            "conv5_block1_1_relu (Activation (None, 1, 1, 512)    0           conv5_block1_1_bn[0][0]          \n",
            "__________________________________________________________________________________________________\n",
            "conv5_block1_2_conv (Conv2D)    (None, 1, 1, 512)    2359808     conv5_block1_1_relu[0][0]        \n",
            "__________________________________________________________________________________________________\n",
            "conv5_block1_2_bn (BatchNormali (None, 1, 1, 512)    2048        conv5_block1_2_conv[0][0]        \n",
            "__________________________________________________________________________________________________\n",
            "conv5_block1_2_relu (Activation (None, 1, 1, 512)    0           conv5_block1_2_bn[0][0]          \n",
            "__________________________________________________________________________________________________\n",
            "conv5_block1_0_conv (Conv2D)    (None, 1, 1, 2048)   2099200     conv4_block6_out[0][0]           \n",
            "__________________________________________________________________________________________________\n",
            "conv5_block1_3_conv (Conv2D)    (None, 1, 1, 2048)   1050624     conv5_block1_2_relu[0][0]        \n",
            "__________________________________________________________________________________________________\n",
            "conv5_block1_0_bn (BatchNormali (None, 1, 1, 2048)   8192        conv5_block1_0_conv[0][0]        \n",
            "__________________________________________________________________________________________________\n",
            "conv5_block1_3_bn (BatchNormali (None, 1, 1, 2048)   8192        conv5_block1_3_conv[0][0]        \n",
            "__________________________________________________________________________________________________\n",
            "conv5_block1_add (Add)          (None, 1, 1, 2048)   0           conv5_block1_0_bn[0][0]          \n",
            "                                                                 conv5_block1_3_bn[0][0]          \n",
            "__________________________________________________________________________________________________\n",
            "conv5_block1_out (Activation)   (None, 1, 1, 2048)   0           conv5_block1_add[0][0]           \n",
            "__________________________________________________________________________________________________\n",
            "conv5_block2_1_conv (Conv2D)    (None, 1, 1, 512)    1049088     conv5_block1_out[0][0]           \n",
            "__________________________________________________________________________________________________\n",
            "conv5_block2_1_bn (BatchNormali (None, 1, 1, 512)    2048        conv5_block2_1_conv[0][0]        \n",
            "__________________________________________________________________________________________________\n",
            "conv5_block2_1_relu (Activation (None, 1, 1, 512)    0           conv5_block2_1_bn[0][0]          \n",
            "__________________________________________________________________________________________________\n",
            "conv5_block2_2_conv (Conv2D)    (None, 1, 1, 512)    2359808     conv5_block2_1_relu[0][0]        \n",
            "__________________________________________________________________________________________________\n",
            "conv5_block2_2_bn (BatchNormali (None, 1, 1, 512)    2048        conv5_block2_2_conv[0][0]        \n",
            "__________________________________________________________________________________________________\n",
            "conv5_block2_2_relu (Activation (None, 1, 1, 512)    0           conv5_block2_2_bn[0][0]          \n",
            "__________________________________________________________________________________________________\n",
            "conv5_block2_3_conv (Conv2D)    (None, 1, 1, 2048)   1050624     conv5_block2_2_relu[0][0]        \n",
            "__________________________________________________________________________________________________\n",
            "conv5_block2_3_bn (BatchNormali (None, 1, 1, 2048)   8192        conv5_block2_3_conv[0][0]        \n",
            "__________________________________________________________________________________________________\n",
            "conv5_block2_add (Add)          (None, 1, 1, 2048)   0           conv5_block1_out[0][0]           \n",
            "                                                                 conv5_block2_3_bn[0][0]          \n",
            "__________________________________________________________________________________________________\n",
            "conv5_block2_out (Activation)   (None, 1, 1, 2048)   0           conv5_block2_add[0][0]           \n",
            "__________________________________________________________________________________________________\n",
            "conv5_block3_1_conv (Conv2D)    (None, 1, 1, 512)    1049088     conv5_block2_out[0][0]           \n",
            "__________________________________________________________________________________________________\n",
            "conv5_block3_1_bn (BatchNormali (None, 1, 1, 512)    2048        conv5_block3_1_conv[0][0]        \n",
            "__________________________________________________________________________________________________\n",
            "conv5_block3_1_relu (Activation (None, 1, 1, 512)    0           conv5_block3_1_bn[0][0]          \n",
            "__________________________________________________________________________________________________\n",
            "conv5_block3_2_conv (Conv2D)    (None, 1, 1, 512)    2359808     conv5_block3_1_relu[0][0]        \n",
            "__________________________________________________________________________________________________\n",
            "conv5_block3_2_bn (BatchNormali (None, 1, 1, 512)    2048        conv5_block3_2_conv[0][0]        \n",
            "__________________________________________________________________________________________________\n",
            "conv5_block3_2_relu (Activation (None, 1, 1, 512)    0           conv5_block3_2_bn[0][0]          \n",
            "__________________________________________________________________________________________________\n",
            "conv5_block3_3_conv (Conv2D)    (None, 1, 1, 2048)   1050624     conv5_block3_2_relu[0][0]        \n",
            "__________________________________________________________________________________________________\n",
            "conv5_block3_3_bn (BatchNormali (None, 1, 1, 2048)   8192        conv5_block3_3_conv[0][0]        \n",
            "__________________________________________________________________________________________________\n",
            "conv5_block3_add (Add)          (None, 1, 1, 2048)   0           conv5_block2_out[0][0]           \n",
            "                                                                 conv5_block3_3_bn[0][0]          \n",
            "__________________________________________________________________________________________________\n",
            "conv5_block3_out (Activation)   (None, 1, 1, 2048)   0           conv5_block3_add[0][0]           \n",
            "==================================================================================================\n",
            "Total params: 23,587,712\n",
            "Trainable params: 23,534,592\n",
            "Non-trainable params: 53,120\n",
            "__________________________________________________________________________________________________\n",
            "Model: \"sequential\"\n",
            "_________________________________________________________________\n",
            "Layer (type)                 Output Shape              Param #   \n",
            "=================================================================\n",
            "resnet50 (Functional)        (None, 1, 1, 2048)        23587712  \n",
            "_________________________________________________________________\n",
            "global_average_pooling2d (Gl (None, 2048)              0         \n",
            "_________________________________________________________________\n",
            "dense (Dense)                (None, 10)                20490     \n",
            "=================================================================\n",
            "Total params: 23,608,202\n",
            "Trainable params: 20,490\n",
            "Non-trainable params: 23,587,712\n",
            "_________________________________________________________________\n"
          ]
        }
      ]
    },
    {
      "cell_type": "markdown",
      "metadata": {
        "id": "UOuJoDeH2f0t"
      },
      "source": [
        "Vamos compilar e treinar o modelo"
      ]
    },
    {
      "cell_type": "code",
      "metadata": {
        "id": "jV0SwFN-2f0z",
        "colab": {
          "base_uri": "https://localhost:8080/"
        },
        "outputId": "a9f8b4ae-34b8-489e-9f66-b5cbdb1a0c1b"
      },
      "source": [
        "# Instancia um otimizador SGD, compila e treina o modelo completo\n",
        "sgd = tf.keras.optimizers.SGD(learning_rate=0.001, momentum=0.9, decay=0.001, nesterov=True)\n",
        "\n",
        "# Batches de treino e validação\n",
        "train_batches = datagen_resnet.flow(X_train, Y_train, shuffle=True, batch_size=64)\n",
        "val_batches = datagen_resnet.flow(X_val, Y_val, shuffle=True, batch_size=64)\n",
        "\n",
        "# Early Stopping\n",
        "early = tf.keras.callbacks.EarlyStopping(monitor='val_loss', patience=5, restore_best_weights=True)\n",
        "\n",
        "frozen_model.compile(loss='categorical_crossentropy', optimizer=sgd, metrics=['accuracy'])\n",
        "\n",
        "frozen_model.fit(train_batches, epochs=25, callbacks=[early],\n",
        "                  validation_data=val_batches)"
      ],
      "execution_count": 5,
      "outputs": [
        {
          "output_type": "stream",
          "name": "stdout",
          "text": [
            "Epoch 1/25\n",
            "625/625 [==============================] - 53s 77ms/step - loss: 1.8680 - accuracy: 0.4945 - val_loss: 1.5811 - val_accuracy: 0.5283\n",
            "Epoch 2/25\n",
            "625/625 [==============================] - 46s 74ms/step - loss: 1.4308 - accuracy: 0.5525 - val_loss: 1.3865 - val_accuracy: 0.5570\n",
            "Epoch 3/25\n",
            "625/625 [==============================] - 46s 73ms/step - loss: 1.2913 - accuracy: 0.5749 - val_loss: 1.2953 - val_accuracy: 0.5753\n",
            "Epoch 4/25\n",
            "625/625 [==============================] - 46s 73ms/step - loss: 1.2426 - accuracy: 0.5828 - val_loss: 1.2576 - val_accuracy: 0.5766\n",
            "Epoch 5/25\n",
            "625/625 [==============================] - 46s 73ms/step - loss: 1.2047 - accuracy: 0.5909 - val_loss: 1.2320 - val_accuracy: 0.5911\n",
            "Epoch 6/25\n",
            "625/625 [==============================] - 47s 75ms/step - loss: 1.1704 - accuracy: 0.5982 - val_loss: 1.2046 - val_accuracy: 0.5892\n",
            "Epoch 7/25\n",
            "625/625 [==============================] - 46s 74ms/step - loss: 1.1400 - accuracy: 0.6079 - val_loss: 1.2126 - val_accuracy: 0.5831\n",
            "Epoch 8/25\n",
            "625/625 [==============================] - 46s 74ms/step - loss: 1.1291 - accuracy: 0.6061 - val_loss: 1.1695 - val_accuracy: 0.5985\n",
            "Epoch 9/25\n",
            "625/625 [==============================] - 46s 74ms/step - loss: 1.1174 - accuracy: 0.6143 - val_loss: 1.1740 - val_accuracy: 0.6016\n",
            "Epoch 10/25\n",
            "625/625 [==============================] - 46s 74ms/step - loss: 1.1149 - accuracy: 0.6122 - val_loss: 1.1704 - val_accuracy: 0.5956\n",
            "Epoch 11/25\n",
            "625/625 [==============================] - 46s 73ms/step - loss: 1.1085 - accuracy: 0.6133 - val_loss: 1.1628 - val_accuracy: 0.6011\n",
            "Epoch 12/25\n",
            "625/625 [==============================] - 46s 74ms/step - loss: 1.0945 - accuracy: 0.6174 - val_loss: 1.1557 - val_accuracy: 0.6000\n",
            "Epoch 13/25\n",
            "625/625 [==============================] - 46s 73ms/step - loss: 1.0930 - accuracy: 0.6189 - val_loss: 1.1390 - val_accuracy: 0.6037\n",
            "Epoch 14/25\n",
            "625/625 [==============================] - 46s 74ms/step - loss: 1.0813 - accuracy: 0.6202 - val_loss: 1.1322 - val_accuracy: 0.6062\n",
            "Epoch 15/25\n",
            "625/625 [==============================] - 46s 74ms/step - loss: 1.0823 - accuracy: 0.6204 - val_loss: 1.1520 - val_accuracy: 0.6040\n",
            "Epoch 16/25\n",
            "625/625 [==============================] - 46s 74ms/step - loss: 1.0790 - accuracy: 0.6222 - val_loss: 1.1432 - val_accuracy: 0.5988\n",
            "Epoch 17/25\n",
            "625/625 [==============================] - 46s 74ms/step - loss: 1.0725 - accuracy: 0.6243 - val_loss: 1.1335 - val_accuracy: 0.6094\n",
            "Epoch 18/25\n",
            "625/625 [==============================] - 46s 74ms/step - loss: 1.0697 - accuracy: 0.6266 - val_loss: 1.1142 - val_accuracy: 0.6120\n",
            "Epoch 19/25\n",
            "625/625 [==============================] - 47s 75ms/step - loss: 1.0715 - accuracy: 0.6249 - val_loss: 1.1212 - val_accuracy: 0.6149\n",
            "Epoch 20/25\n",
            "625/625 [==============================] - 47s 76ms/step - loss: 1.0661 - accuracy: 0.6255 - val_loss: 1.1324 - val_accuracy: 0.6080\n",
            "Epoch 21/25\n",
            "625/625 [==============================] - 47s 75ms/step - loss: 1.0592 - accuracy: 0.6296 - val_loss: 1.1031 - val_accuracy: 0.6155\n",
            "Epoch 22/25\n",
            "625/625 [==============================] - 46s 74ms/step - loss: 1.0567 - accuracy: 0.6319 - val_loss: 1.0920 - val_accuracy: 0.6189\n",
            "Epoch 23/25\n",
            "625/625 [==============================] - 47s 76ms/step - loss: 1.0601 - accuracy: 0.6288 - val_loss: 1.1214 - val_accuracy: 0.6066\n",
            "Epoch 24/25\n",
            "625/625 [==============================] - 47s 75ms/step - loss: 1.0581 - accuracy: 0.6304 - val_loss: 1.1257 - val_accuracy: 0.6113\n",
            "Epoch 25/25\n",
            "625/625 [==============================] - 47s 75ms/step - loss: 1.0517 - accuracy: 0.6300 - val_loss: 1.1215 - val_accuracy: 0.6104\n"
          ]
        },
        {
          "output_type": "execute_result",
          "data": {
            "text/plain": [
              "<keras.callbacks.History at 0x7f0d004d0f50>"
            ]
          },
          "metadata": {},
          "execution_count": 5
        }
      ]
    },
    {
      "cell_type": "code",
      "metadata": {
        "id": "wASinznb2f1A",
        "colab": {
          "base_uri": "https://localhost:8080/"
        },
        "outputId": "fd3bc23a-80a8-4817-ea0c-fbe2cc20aa5f"
      },
      "source": [
        "# Avalia o modelo na validação\n",
        "score = frozen_model.evaluate(val_batches,verbose=1)\n",
        "\n",
        "print('Valid loss:', score[0])\n",
        "print('Valid acc:', score[1])"
      ],
      "execution_count": 6,
      "outputs": [
        {
          "output_type": "stream",
          "name": "stdout",
          "text": [
            "157/157 [==============================] - 10s 63ms/step - loss: 1.1167 - accuracy: 0.6095\n",
            "Valid loss: 1.1167011260986328\n",
            "Valid acc: 0.609499990940094\n"
          ]
        }
      ]
    },
    {
      "cell_type": "markdown",
      "metadata": {
        "id": "7OntN2FXWHkM"
      },
      "source": [
        "## Modelo congelado como extrator de features\n",
        "\n",
        "Após carregar o modelo pré-treinado, podemos usá-lo como extrator de características, e treinar um SVM sobre a representação obtida."
      ]
    },
    {
      "cell_type": "code",
      "metadata": {
        "id": "w8pUaDN9WY-Q"
      },
      "source": [
        "for layer in model.layers:\n",
        "    layer.trainable = False\n",
        "\n",
        "frozen_model = tf.keras.Sequential([\n",
        "  model,\n",
        "  tf.keras.layers.GlobalAveragePooling2D()\n",
        "])\n",
        "\n",
        "feats_train = frozen_model.predict(X_train)\n",
        "feats_val = frozen_model.predict(X_val)"
      ],
      "execution_count": 7,
      "outputs": []
    },
    {
      "cell_type": "code",
      "metadata": {
        "id": "Z1Ja1okRWZCh",
        "colab": {
          "base_uri": "https://localhost:8080/"
        },
        "outputId": "4f58826c-af58-4e69-d088-d99b4ee29075"
      },
      "source": [
        "print(feats_train.shape)\n",
        "\n",
        "from sklearn.multiclass import OneVsOneClassifier\n",
        "from sklearn.svm import SVC\n",
        "from sklearn.neural_network import MLPClassifier\n",
        "\n",
        "clf = MLPClassifier(random_state=1, max_iter=300).fit(feats_train, Y_train)"
      ],
      "execution_count": 8,
      "outputs": [
        {
          "output_type": "stream",
          "name": "stdout",
          "text": [
            "(40000, 2048)\n"
          ]
        }
      ]
    },
    {
      "cell_type": "code",
      "metadata": {
        "colab": {
          "base_uri": "https://localhost:8080/"
        },
        "id": "ylxysHOn5ZK3",
        "outputId": "f5d6735e-4e0d-4a6c-8746-d049e02229db"
      },
      "source": [
        "acc_mlp = clf.score(feats_val, Y_val)\n",
        "print(\"ACC MLP:\", acc_mlp)"
      ],
      "execution_count": 20,
      "outputs": [
        {
          "output_type": "stream",
          "name": "stdout",
          "text": [
            "ACC MLP: 0.4558\n"
          ]
        }
      ]
    },
    {
      "cell_type": "markdown",
      "metadata": {
        "id": "0zG1QXnS2f1K"
      },
      "source": [
        "## Fine-tuning \n",
        "\n",
        "Vamos agora descongelar o modelo inteiro e realizar o _fine-tuning_ da rede para o CIFAR-10."
      ]
    },
    {
      "cell_type": "code",
      "metadata": {
        "id": "om2c3Fgq2f1N",
        "colab": {
          "base_uri": "https://localhost:8080/"
        },
        "outputId": "3076dbc5-8503-48f9-ba27-43587df4b326"
      },
      "source": [
        "for layer in model.layers:\n",
        "    layer.trainable = True\n",
        "\n",
        "ft_model = tf.keras.Sequential([\n",
        "  model,\n",
        "  tf.keras.layers.GlobalAveragePooling2D(),\n",
        "  tf.keras.layers.Dense(10, activation='softmax')\n",
        "])    \n",
        "    \n",
        "ft_model.summary() #Note o núúmero de paramêtros treináveis"
      ],
      "execution_count": 10,
      "outputs": [
        {
          "output_type": "stream",
          "name": "stdout",
          "text": [
            "Model: \"sequential_2\"\n",
            "_________________________________________________________________\n",
            "Layer (type)                 Output Shape              Param #   \n",
            "=================================================================\n",
            "resnet50 (Functional)        (None, 1, 1, 2048)        23587712  \n",
            "_________________________________________________________________\n",
            "global_average_pooling2d_2 ( (None, 2048)              0         \n",
            "_________________________________________________________________\n",
            "dense_1 (Dense)              (None, 10)                20490     \n",
            "=================================================================\n",
            "Total params: 23,608,202\n",
            "Trainable params: 23,555,082\n",
            "Non-trainable params: 53,120\n",
            "_________________________________________________________________\n"
          ]
        }
      ]
    },
    {
      "cell_type": "code",
      "metadata": {
        "id": "o25W2Xde2f1Y",
        "colab": {
          "base_uri": "https://localhost:8080/"
        },
        "outputId": "89523a43-2163-40c8-f83b-f0d4ade4ccb6"
      },
      "source": [
        "# Compila e treina o modelo\n",
        "sgd = tf.keras.optimizers.SGD(lr=0.001, momentum=0.9, nesterov=True)\n",
        "\n",
        "# Batches de treino e validação\n",
        "train_batches = datagen_resnet.flow(X_train, Y_train, shuffle=True, batch_size=64)\n",
        "val_batches = datagen_resnet.flow(X_val, Y_val, shuffle=True, batch_size=64)\n",
        "\n",
        "# Early Stopping\n",
        "early = tf.keras.callbacks.EarlyStopping(monitor='val_loss', patience=3, restore_best_weights=True)\n",
        "\n",
        "ft_model.compile(loss='categorical_crossentropy', optimizer=sgd, metrics=['accuracy'])\n",
        "ft_model.fit(train_batches, epochs=25, callbacks=[early],\n",
        "                  validation_data=val_batches)"
      ],
      "execution_count": 11,
      "outputs": [
        {
          "output_type": "stream",
          "name": "stderr",
          "text": [
            "/usr/local/lib/python3.7/dist-packages/keras/optimizer_v2/optimizer_v2.py:356: UserWarning: The `lr` argument is deprecated, use `learning_rate` instead.\n",
            "  \"The `lr` argument is deprecated, use `learning_rate` instead.\")\n"
          ]
        },
        {
          "output_type": "stream",
          "name": "stdout",
          "text": [
            "Epoch 1/25\n",
            "625/625 [==============================] - 92s 135ms/step - loss: 1.5328 - accuracy: 0.4869 - val_loss: 1.2031 - val_accuracy: 0.5988\n",
            "Epoch 2/25\n",
            "625/625 [==============================] - 84s 134ms/step - loss: 1.0666 - accuracy: 0.6335 - val_loss: 0.9977 - val_accuracy: 0.6551\n",
            "Epoch 3/25\n",
            "625/625 [==============================] - 83s 133ms/step - loss: 0.9522 - accuracy: 0.6722 - val_loss: 0.8929 - val_accuracy: 0.6891\n",
            "Epoch 4/25\n",
            "625/625 [==============================] - 83s 133ms/step - loss: 0.8696 - accuracy: 0.6989 - val_loss: 0.9037 - val_accuracy: 0.6974\n",
            "Epoch 5/25\n",
            "625/625 [==============================] - 83s 132ms/step - loss: 0.8158 - accuracy: 0.7220 - val_loss: 0.8205 - val_accuracy: 0.7148\n",
            "Epoch 6/25\n",
            "625/625 [==============================] - 83s 133ms/step - loss: 0.7749 - accuracy: 0.7332 - val_loss: 0.8206 - val_accuracy: 0.7232\n",
            "Epoch 7/25\n",
            "625/625 [==============================] - 84s 134ms/step - loss: 0.7922 - accuracy: 0.7272 - val_loss: 0.7626 - val_accuracy: 0.7303\n",
            "Epoch 8/25\n",
            "625/625 [==============================] - 84s 134ms/step - loss: 0.7382 - accuracy: 0.7475 - val_loss: 0.7488 - val_accuracy: 0.7408\n",
            "Epoch 9/25\n",
            "625/625 [==============================] - 84s 134ms/step - loss: 0.7045 - accuracy: 0.7559 - val_loss: 0.7334 - val_accuracy: 0.7506\n",
            "Epoch 10/25\n",
            "625/625 [==============================] - 84s 134ms/step - loss: 0.6733 - accuracy: 0.7677 - val_loss: 0.7258 - val_accuracy: 0.7516\n",
            "Epoch 11/25\n",
            "625/625 [==============================] - 84s 134ms/step - loss: 0.6515 - accuracy: 0.7741 - val_loss: 0.7102 - val_accuracy: 0.7544\n",
            "Epoch 12/25\n",
            "625/625 [==============================] - 84s 135ms/step - loss: 0.6278 - accuracy: 0.7841 - val_loss: 0.7063 - val_accuracy: 0.7581\n",
            "Epoch 13/25\n",
            "625/625 [==============================] - 84s 135ms/step - loss: 0.6115 - accuracy: 0.7874 - val_loss: 0.6557 - val_accuracy: 0.7743\n",
            "Epoch 14/25\n",
            "625/625 [==============================] - 85s 135ms/step - loss: 0.6013 - accuracy: 0.7905 - val_loss: 0.6814 - val_accuracy: 0.7667\n",
            "Epoch 15/25\n",
            "625/625 [==============================] - 84s 135ms/step - loss: 0.5975 - accuracy: 0.7937 - val_loss: 0.6544 - val_accuracy: 0.7753\n",
            "Epoch 16/25\n",
            "625/625 [==============================] - 84s 134ms/step - loss: 0.5847 - accuracy: 0.7990 - val_loss: 0.6287 - val_accuracy: 0.7838\n",
            "Epoch 17/25\n",
            "625/625 [==============================] - 84s 135ms/step - loss: 0.5653 - accuracy: 0.8017 - val_loss: 0.6503 - val_accuracy: 0.7767\n",
            "Epoch 18/25\n",
            "625/625 [==============================] - 84s 135ms/step - loss: 0.5589 - accuracy: 0.8071 - val_loss: 0.6843 - val_accuracy: 0.7671\n",
            "Epoch 19/25\n",
            "625/625 [==============================] - 84s 134ms/step - loss: 0.5442 - accuracy: 0.8108 - val_loss: 0.6655 - val_accuracy: 0.7718\n"
          ]
        },
        {
          "output_type": "execute_result",
          "data": {
            "text/plain": [
              "<keras.callbacks.History at 0x7f0c1dc42610>"
            ]
          },
          "metadata": {},
          "execution_count": 11
        }
      ]
    },
    {
      "cell_type": "markdown",
      "metadata": {
        "id": "T5ZiY-Hx2f1j"
      },
      "source": [
        "Finalmente, avalie o modelo final no conjunto de teste"
      ]
    },
    {
      "cell_type": "code",
      "metadata": {
        "id": "Oxet68nu2f1m",
        "colab": {
          "base_uri": "https://localhost:8080/"
        },
        "outputId": "371a6ad3-0200-4fcb-da6b-fcc7441b3304"
      },
      "source": [
        "score = ft_model.evaluate(val_batches,verbose=1)\n",
        "print('Val loss:', score[0])\n",
        "print('Val acc:', score[1])"
      ],
      "execution_count": 12,
      "outputs": [
        {
          "output_type": "stream",
          "name": "stdout",
          "text": [
            "157/157 [==============================] - 10s 60ms/step - loss: 0.6469 - accuracy: 0.7813\n",
            "Val loss: 0.6468590497970581\n",
            "Val acc: 0.7813000082969666\n"
          ]
        }
      ]
    },
    {
      "cell_type": "code",
      "metadata": {
        "colab": {
          "base_uri": "https://localhost:8080/"
        },
        "id": "omgO0IuapTo6",
        "outputId": "35b74aab-4fd1-43f6-95e1-e1af6796bcfb"
      },
      "source": [
        "test_batches = datagen_resnet.flow(X_test, Y_test, shuffle=True, batch_size=64)\n",
        "\n",
        "score_test = ft_model.evaluate(test_batches,verbose=1)\n",
        "print('Test loss:', score[0])\n",
        "print('Test acc:', score[1])"
      ],
      "execution_count": 13,
      "outputs": [
        {
          "output_type": "stream",
          "name": "stdout",
          "text": [
            "157/157 [==============================] - 10s 62ms/step - loss: 0.6502 - accuracy: 0.7773\n",
            "Test loss: 0.6468590497970581\n",
            "Test acc: 0.7813000082969666\n"
          ]
        }
      ]
    },
    {
      "cell_type": "code",
      "metadata": {
        "id": "dwznnjUCul8u"
      },
      "source": [
        ""
      ],
      "execution_count": 13,
      "outputs": []
    }
  ]
}