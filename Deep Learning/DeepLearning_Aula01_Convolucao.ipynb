{
  "cells": [
    {
      "cell_type": "markdown",
      "metadata": {
        "id": "kxAFezu8zAhn"
      },
      "source": [
        "# Convolução\n",
        "\n",
        "Neste exercício, iremos ver uma implementação simples da operação de convolução e aplicar um filtro a dígitos manuscritos do dataset MNIST. Este dataset será usado na próxima tarefa de classificação."
      ]
    },
    {
      "cell_type": "code",
      "execution_count": 1,
      "metadata": {
        "id": "03KrsmdQwzdb"
      },
      "outputs": [],
      "source": [
        "#@title Imports (RUN ME!) { display-mode: \"form\" }\n",
        "\n",
        "import tensorflow as tf\n",
        "import numpy as np\n",
        "import matplotlib.pyplot as plt\n",
        "from IPython import display\n",
        "%matplotlib inline\n",
        "from tensorflow.keras import layers\n",
        "\n",
        "plt.rcParams['figure.figsize'] = (15,15) # Configura tamanho das figuras"
      ]
    },
    {
      "cell_type": "code",
      "execution_count": null,
      "metadata": {},
      "outputs": [],
      "source": []
    },
    {
      "cell_type": "markdown",
      "metadata": {
        "id": "4nSA3skOzG3n"
      },
      "source": [
        "## Dado\n",
        "\n",
        "O módulo **mnist** contém dados para treinamento e teste do modelo, com suas respectivas classes. Neste exercício, não usaremos os dados de teste. Ao invés disso, iremos separar 20% dos dados de trainamento para validação."
      ]
    },
    {
      "cell_type": "code",
      "execution_count": null,
      "metadata": {
        "id": "Ctg5qABQw8OA"
      },
      "outputs": [],
      "source": [
        "mnist = tf.keras.datasets.mnist\n",
        "\n",
        "# Carrega os dados, que já vem divididos em conjunto de treinamento e teste.\n",
        "(x_trainVal, y_trainVal), (_, _) = mnist.load_data()\n",
        "\n",
        "# Embaralha os dados e divide em 80% para treino, 20% para validação\n",
        "nData = x_trainVal.shape[0]  \n",
        "nTrain = int(nData * 0.8)  \n",
        "randomIdx = np.random.permutation(np.arange(nData))\n",
        "trainIdx = randomIdx[:nTrain] \n",
        "valIdx = randomIdx[nTrain:]\n",
        "\n",
        "# Divide os dados\n",
        "x_val, y_val = x_trainVal[valIdx], y_trainVal[valIdx]\n",
        "x_train, y_train = x_trainVal[trainIdx], y_trainVal[trainIdx]\n",
        "\n",
        "# Transforma as imagens de tipo inteiro para tipo float\n",
        "x_train = x_train.astype('float32')\n",
        "x_val = x_val.astype('float32')\n",
        "\n",
        "print(\"Formato das imagens de treinamento\", x_train.shape)\n",
        "print(\"Formato dos rótulos de treinamento\", y_train.shape)\n",
        "print()\n",
        "\n",
        "print(\"Formato das imagens de validação\", x_val.shape)\n",
        "print(\"Formato dos rótulos de validação\", y_val.shape)"
      ]
    },
    {
      "cell_type": "markdown",
      "metadata": {
        "id": "WH10GpDBzWCL"
      },
      "source": [
        "Vamos visualizar as nove primeiras imagens do conjunto de treinamento. O título de cada imagem mostra o rótulo ou classe  associada. "
      ]
    },
    {
      "cell_type": "code",
      "execution_count": null,
      "metadata": {
        "id": "_6ci4E2ZzaVd"
      },
      "outputs": [],
      "source": [
        "for i in range(9):\n",
        "    plt.subplot(3,3,i+1)\n",
        "    plt.imshow(x_train[i], cmap='gray', interpolation='none')\n",
        "    plt.title(\"Classe {}\".format(y_train[i]))"
      ]
    },
    {
      "cell_type": "markdown",
      "metadata": {
        "id": "P_KGO8K-zycv"
      },
      "source": [
        "## Parte 1: convolução\n",
        "\n",
        "Abaixo, definimos uma função que convolve uma imagem com um filtro. Adicionamos uma borda de zeros na imagem para que a imagem de saída tenha mesma dimensão da de entrada (por que?). Estude esta função e procure entender todos os passos. "
      ]
    },
    {
      "cell_type": "code",
      "execution_count": null,
      "metadata": {
        "id": "g9-e7sNqz39I"
      },
      "outputs": [],
      "source": [
        "# Função que aplica convolução de um kernel (filtro) em uma imagem. \n",
        "# Obs: supõe que o kernel é quadrado (dimensões iguais)\n",
        "\n",
        "def convolution(image, kernel):\n",
        "    # Primeiramente, faremos padding na imagem inicial para que\n",
        "    # a imagem filtrada fique com as mesmas dimensões da original.\n",
        "    kernel_size = kernel.shape[0]\n",
        "    pad_size = kernel_size // 2\n",
        "    \n",
        "    # Cria uma imagem com zeros que receberá o resultado da convolução\n",
        "    filtered_image = np.zeros_like(image)\n",
        "    \n",
        "    # Padding: usaremos a função pad() do pacote NumPy, que já implementa a aplicação de padding\n",
        "    image = np.pad(image, pad_size, mode='constant')\n",
        "    \n",
        "    for i in range(image.shape[0]-kernel_size+1):\n",
        "        for j in range(image.shape[1]-kernel_size+1):\n",
        "            conv_sum = 0\n",
        "            for k1 in range(kernel_size):\n",
        "                for k2 in range(kernel_size):\n",
        "                    conv_sum += image[i+k1,j+k2]*kernel[k1,k2]\n",
        "            filtered_image[i,j] = conv_sum\n",
        "                    \n",
        "    return filtered_image"
      ]
    },
    {
      "cell_type": "markdown",
      "metadata": {
        "id": "k3AFh7sY0TZJ"
      },
      "source": [
        "Abaixo, vamos convolver uma imagem sorteada do MNIST com um filtro de borramento:\n",
        "\n",
        "$\n",
        "\\dfrac{1}{9}\n",
        "\\begin{bmatrix}\n",
        "1 & 1 & 1 \\\\\n",
        "1 & 1 & 1 \\\\\n",
        "1 & 1 & 1 \n",
        "\\end{bmatrix}\n",
        "$\n",
        "\n",
        "Cada pixel da imagem original será computado como uma média dos pixels vizinhos, o que causa o efeito de borramento. Experimente alterar o filtro, mantendo a soma dos elementos igual a 1. Ex: faça um filtro de borramento maior, de tamanho 5 $\\times$ 5, dividindo por 25 ao invés de 9."
      ]
    },
    {
      "cell_type": "code",
      "execution_count": null,
      "metadata": {
        "id": "NSLQXuti0YGM"
      },
      "outputs": [],
      "source": [
        "# Define o filtro de borramento\n",
        "sobel_x = np.array([[1,0,-1],\n",
        "                   [2,0,-2],\n",
        "                   [1,0,-1]])\n",
        "\n",
        "sobel_y = np.array([[ 1, 2, 1],\n",
        "                   [ 0, 0, 0],\n",
        "                   [-1,-2,-1]])\n",
        "\n",
        "gaussian_kernel = np.array([[1,1,1],\n",
        "                            [1,1,1],\n",
        "                            [1,1,1]]) * (1/9)\n",
        "                            \n",
        "# Sorteia uma imagem para filtrar\n",
        "rand_ind = np.random.randint(0, 1000)\n",
        "img = x_train[rand_ind] \n",
        "print(\"Imagem sorteada\", rand_ind)\n",
        "\n",
        "# Aplica convolução na imagem\n",
        "filtered_img = convolution(img, gaussian_kernel)\n",
        "\n",
        "# Mostra a imagem original e a imagem filtrada\n",
        "plt.subplot(1,2,1)\n",
        "plt.imshow(img, cmap='gray', interpolation='none')\n",
        "plt.title(\"Original\")\n",
        "plt.subplot(1,2,2)\n",
        "plt.imshow(filtered_img, cmap='gray', interpolation='none')\n",
        "plt.title(\"Filtrada\")\n",
        "plt.show()"
      ]
    },
    {
      "cell_type": "markdown",
      "metadata": {
        "id": "It_E7UoB3IqN"
      },
      "source": [
        "Na prática, essa implementação simples da operação de convolução é lenta demais para processar os 60 mil dados do MNIST. Usaremos então a função convolve() do pacote SciPy, que implementa a mesma operação porém de forma otimizada, para processar o dado inteiro. O dado de validação também deve ser processado, pois os dados de avaliação devem sofrer as mesmas transformações que os dados usados para treinar o modelo."
      ]
    },
    {
      "cell_type": "code",
      "execution_count": null,
      "metadata": {
        "id": "7_7YrF223Man"
      },
      "outputs": [],
      "source": [
        "from time import time\n",
        "from scipy.ndimage import convolve\n",
        "\n",
        "# Define o filtro de borramento\n",
        "kernel = np.array([[1,1,1],\n",
        "                   [1,1,1],\n",
        "                   [1,1,1]]) * (1/9)\n",
        "\n",
        "x_train_blur = []\n",
        "num_images = x_train.shape[0]\n",
        "begin_clock = time()\n",
        "\n",
        "print(\"Treinamento:\")\n",
        "for i in range(num_images):\n",
        "    x_train_blur.append(convolve(x_train[i], kernel, mode='constant'))\n",
        "print(num_images, \"processadas em {:.1f}\".format((time()-begin_clock)), \"segundos.\")\n",
        "x_train_blur = np.array(x_train_blur)\n",
        "\n",
        "x_val_blur = []\n",
        "num_images = x_val.shape[0]\n",
        "begin_clock = time()\n",
        "\n",
        "print(\"Validação:\")\n",
        "for i in range(num_images):\n",
        "    x_val_blur.append(convolve(x_val[i], kernel, mode='constant'))\n",
        "print(num_images, \"processadas em {:.1f}\".format((time()-begin_clock)), \"segundos.\")\n",
        "x_val_blur = np.array(x_val_blur)\n",
        "print(x_train_blur.shape, x_val_blur.shape)"
      ]
    },
    {
      "cell_type": "code",
      "execution_count": null,
      "metadata": {
        "colab": {
          "base_uri": "https://localhost:8080/",
          "height": 216
        },
        "id": "ZGKukqnQ47GW",
        "outputId": "3e699de4-76f2-4bdb-d458-66799e1956d2"
      },
      "outputs": [
        {
          "data": {
            "image/png": "[encoded data removed]",
            "text/plain": [
              "<Figure size 432x288 with 2 Axes>"
            ]
          },
          "metadata": {
            "needs_background": "light",
            "tags": []
          },
          "output_type": "display_data"
        }
      ],
      "source": [
        "# Sorteia uma imagem para visualizar\n",
        "rand_ind = np.random.randint(0, 1000)\n",
        "img = x_train[rand_ind] \n",
        "filtered_img = x_train_blur[rand_ind]\n",
        "\n",
        "# Mostra a imagem original e a imagem filtrada\n",
        "plt.subplot(1,2,1)\n",
        "plt.imshow(img, cmap='gray', interpolation='none')\n",
        "plt.title(\"Original\")\n",
        "plt.subplot(1,2,2)\n",
        "plt.imshow(filtered_img, cmap='gray', interpolation='none')\n",
        "plt.title(\"Filtrada\")\n",
        "plt.show()"
      ]
    },
    {
      "cell_type": "markdown",
      "metadata": {
        "id": "9Vb96qgE5Ivv"
      },
      "source": [
        "## Parte 2: classificação de dígitos com MLP\n",
        "\n",
        "Nesta segunda parte, iremos usar uma _Multilayer Perceptron_ (MLP) de duas camadas para classificar os dígitos do MNIST. Faremos dois experimentos: treinamento com os dados originais e treinamento com os dados borrados.\n",
        "\n",
        "Os rótulos de treinamento estão no formato 0, 1, 2, ..., 9. Para este problema multi-classes, o treinamento com o keras requer que estas classes sejam representadas como vetores _one-hot_, ou seja, vetores que possuem valor 1 na posição correspondente à classe do dado e 0 nas outras posições:\n",
        "\n",
        "```\n",
        "0 -> [1, 0, 0, 0, 0, 0, 0, 0, 0]\n",
        "1 -> [0, 1, 0, 0, 0, 0, 0, 0, 0]\n",
        "2 -> [0, 0, 1, 0, 0, 0, 0, 0, 0]\n",
        "3 -> [0, 0, 0, 1, 0, 0, 0, 0, 0]\n",
        "...\n",
        "9 -> [0, 0, 0, 0, 0, 0, 0, 0, 1]\n",
        "```\n",
        "\n",
        "Keras já tem um método para esta transformação, `tf.keras.utils.to_categorical`."
      ]
    },
    {
      "cell_type": "code",
      "execution_count": null,
      "metadata": {
        "colab": {
          "base_uri": "https://localhost:8080/"
        },
        "id": "rQcCV1WW5ICj",
        "outputId": "ba562c4f-4d40-4521-981b-16e59acda266"
      },
      "outputs": [
        {
          "name": "stdout",
          "output_type": "stream",
          "text": [
            "número de classes: 10\n",
            "7 [0. 0. 0. 0. 0. 0. 0. 1. 0. 0.]\n"
          ]
        }
      ],
      "source": [
        "# Temos 10 classes: os dígitos de 0 a 9\n",
        "num_classes = len(np.unique(y_train))\n",
        "print(\"número de classes:\", num_classes)\n",
        "y_train_oh = tf.keras.utils.to_categorical(y_train, num_classes)\n",
        "y_val_oh = tf.keras.utils.to_categorical(y_val, num_classes)\n",
        "print(y_train[0], y_train_oh[0])"
      ]
    },
    {
      "cell_type": "markdown",
      "metadata": {
        "id": "OrDlG3j96Zva"
      },
      "source": [
        "### Arquitetura\n",
        "\n",
        "Construiremos uma função que cria uma MLP de duas camadas com as seguintes especificações:\n",
        "\n",
        "- **Entrada**: cada imagem tem 28 $\\times$ 28 pixels, porém a MLP espera como entrada um vetor unidimensional. Cada input será então retificado para um vetor de tamanho 28\\*28=784, usando a camada 'flatten' do Keras;\n",
        "- A primeira camada escondida terá 1024 neurônios e ativação ReLU;\n",
        "- A segunda camada escondida terá 256 neurônios e ativação ReLU;\n",
        "- **Saída**: este é um problema de 10 classes, portanto a saída da rede será um vetor de tamanho 10, com ativação Softmax."
      ]
    },
    {
      "cell_type": "code",
      "execution_count": null,
      "metadata": {
        "id": "G_At_yyu6eg9"
      },
      "outputs": [],
      "source": [
        "def create_model():\n",
        "    # Definição do modelo\n",
        "    model = tf.keras.Sequential()\n",
        "    # Adiciona camada para retificar a entrada\n",
        "    model.add(layers.Flatten())\n",
        "    # Adiciona primeira camada escondida, com 1024 neurônios\n",
        "    model.add(layers.Dense(1024, activation='relu'))\n",
        "    # Adiciona segunda camada escondida, com 256 neurônios\n",
        "    model.add(layers.Dense(256, activation='relu'))\n",
        "    # Adiciona camada de saída com 10 neurônios e ativação Softmax\n",
        "    model.add(layers.Dense(num_classes, activation='softmax'))\n",
        "    \n",
        "    return model"
      ]
    },
    {
      "cell_type": "markdown",
      "metadata": {
        "id": "8Vxm_0ey85x_"
      },
      "source": [
        "### Compilação e treinamento do modelo (dados originais)\n",
        "\n",
        "Vamos definir o otimizador e a função de custo (_loss_) para treinar nosso MLP. A especificação da métrica 'accuracy' reporta a acurácia do modelo a cada época de treinamento. A função fit() treina o modelo."
      ]
    },
    {
      "cell_type": "code",
      "execution_count": null,
      "metadata": {
        "id": "JOGJ18Oe87D9"
      },
      "outputs": [],
      "source": [
        "n_epochs = 50\n",
        "\n",
        "model = create_model()\n",
        "sgd = tf.keras.optimizers.SGD(lr=0.001) # lr = learning rate\n",
        "model.compile(loss='categorical_crossentropy', optimizer=sgd, metrics=['accuracy'], )\n",
        "model.fit(x_train, y_train_oh, # Dados de treinamento e rótulos\n",
        "          batch_size=128,   # Quantos dados serão usados por iteração\n",
        "          epochs=n_epochs,  # Quantas épocas de treinamento\n",
        "          verbose=1,        # Mostra o loss após cada época\n",
        "          validation_data=(x_val, y_val_oh)) # Define conjunto de validação"
      ]
    },
    {
      "cell_type": "code",
      "execution_count": null,
      "metadata": {
        "id": "WbiGDBTz9pJ_"
      },
      "outputs": [],
      "source": [
        "score = model.evaluate(x_val, y_val_oh, verbose=1)\n",
        "print('Custo na validação: {:.2f}'.format(score[0]))\n",
        "print('Acurácia na validação: {:.1f}%'.format(score[1]*100))"
      ]
    },
    {
      "cell_type": "markdown",
      "metadata": {
        "id": "9BUMMCQ099IY"
      },
      "source": [
        "### Inspeção das saídas\n",
        "\n",
        "É sempre instrutivo inspecionar exemplos de saídas corretas e incorretas. Vamos avaliar visualmente as predições do modelo."
      ]
    },
    {
      "cell_type": "code",
      "execution_count": null,
      "metadata": {
        "id": "o0xBosCS9_kK"
      },
      "outputs": [],
      "source": [
        "# A função predict_classes estima a classe de cada imagem em um conjunto\n",
        "predicted_classes = np.argmax(model.predict(x_val), axis=-1)\n",
        "print(predicted_classes)\n",
        "# Checa quais predições foram corretas e incorretas\n",
        "correct_indexes = np.nonzero(predicted_classes == y_val)[0]\n",
        "print(\"Corretos:\", correct_indexes.shape)\n",
        "incorrect_indexes = np.nonzero(predicted_classes != y_val)[0]\n",
        "print(\"Incorretos:\", incorrect_indexes.shape)"
      ]
    },
    {
      "cell_type": "code",
      "execution_count": null,
      "metadata": {
        "id": "uB30juC__OrG"
      },
      "outputs": [],
      "source": [
        "# Sorteia e plota exemplos corretos e incorretos\n",
        "print(\"Predições corretas\")\n",
        "begin = np.random.randint(0, correct_indexes.size-9)\n",
        "plt.figure()\n",
        "for i, correct in enumerate(correct_indexes[begin:begin+3]):\n",
        "    plt.subplot(1,3,i+1)\n",
        "    plt.imshow(x_val[correct].reshape(28,28), cmap='gray', interpolation='none')\n",
        "    plt.title(\"Predicted {}, Class {}\".format(predicted_classes[correct], y_val[correct]))\n",
        "plt.show()\n",
        "print()\n",
        "    \n",
        "print(\"Predições erradas\")\n",
        "begin = np.random.randint(0, incorrect_indexes.size-9)\n",
        "plt.figure()\n",
        "for i, incorrect in enumerate(incorrect_indexes[begin:begin+3]):\n",
        "    plt.subplot(1,3,i+1)\n",
        "    plt.imshow(x_val[incorrect].reshape(28,28), cmap='gray', interpolation='none')\n",
        "    plt.title(\"Predicted {}, Class {}\".format(predicted_classes[incorrect], y_val[incorrect]))\n",
        "plt.show()"
      ]
    },
    {
      "cell_type": "markdown",
      "metadata": {
        "id": "sesD419O_wwI"
      },
      "source": [
        "### Compilação e treinamento do modelo (dados borrados)\n",
        "\n",
        "Vamos repetir o mesmo experimento, porém agora com os dados borrados."
      ]
    },
    {
      "cell_type": "code",
      "execution_count": null,
      "metadata": {
        "id": "IQKcwbYQ_1f8"
      },
      "outputs": [],
      "source": [
        "n_epochs = 50\n",
        "\n",
        "model = create_model()\n",
        "sgd = tf.keras.optimizers.SGD(lr=0.001) # lr = learning rate\n",
        "model.compile(loss='categorical_crossentropy', optimizer=sgd, metrics=['accuracy'], )\n",
        "model.fit(x_train_blur, y_train_oh, # Dados de treinamento e rótulos\n",
        "          batch_size=128,   # Quantos dados serão usados por iteração\n",
        "          epochs=n_epochs,  # Quantas épocas de treinamento\n",
        "          verbose=1,        # Mostra o loss após cada época\n",
        "          validation_data=(x_val_blur, y_val_oh)) # Define conjunto de validação\n",
        "\n",
        "#Validação\n",
        "score = model.evaluate(x_val_blur, y_val_oh, verbose=1)\n",
        "print('Custo na validação: {:.2f}'.format(score[0]))\n",
        "print('Acurácia na validação: {:.1f}%'.format(score[1]*100))"
      ]
    },
    {
      "cell_type": "markdown",
      "metadata": {
        "id": "0asbyx0SAqWD"
      },
      "source": [
        "### Inspeção das saídas"
      ]
    },
    {
      "cell_type": "code",
      "execution_count": null,
      "metadata": {
        "id": "OTQlkcl7A418"
      },
      "outputs": [],
      "source": [
        "# A função predict_classes estima a classe de cada imagem em um conjunto\n",
        "predicted_classes = np.argmax(model.predict(x_val_blur), axis=-1)\n",
        "print(predicted_classes)\n",
        "# Checa quais predições foram corretas e incorretas\n",
        "correct_indexes = np.nonzero(predicted_classes == y_val)[0]\n",
        "print(\"Corretos:\", correct_indexes.shape)\n",
        "incorrect_indexes = np.nonzero(predicted_classes != y_val)[0]\n",
        "print(\"Incorretos:\", incorrect_indexes.shape)\n",
        "\n",
        "# Sorteia e plota exemplos corretos e incorretos\n",
        "print(\"Predições corretas\")\n",
        "begin = np.random.randint(0, correct_indexes.size-9)\n",
        "plt.figure()\n",
        "for i, correct in enumerate(correct_indexes[begin:begin+3]):\n",
        "    plt.subplot(1,3,i+1)\n",
        "    plt.imshow(x_val_blur[correct].reshape(28,28), cmap='gray', interpolation='none')\n",
        "    plt.title(\"Predicted {}, Class {}\".format(predicted_classes[correct], y_val[correct]))\n",
        "plt.show()\n",
        "print()\n",
        "    \n",
        "print(\"Predições erradas\")\n",
        "begin = np.random.randint(0, incorrect_indexes.size-9)\n",
        "plt.figure()\n",
        "for i, incorrect in enumerate(incorrect_indexes[begin:begin+3]):\n",
        "    plt.subplot(1,3,i+1)\n",
        "    plt.imshow(x_val_blur[incorrect].reshape(28,28), cmap='gray', interpolation='none')\n",
        "    plt.title(\"Predicted {}, Class {}\".format(predicted_classes[incorrect], y_val[incorrect]))\n",
        "plt.show()"
      ]
    },
    {
      "cell_type": "markdown",
      "metadata": {
        "id": "GwtOGDj0BVC7"
      },
      "source": [
        "## Conclusão\n",
        "\n",
        "O borramento dos dados teve algum impacto na acurácia do modelo? Discuta os resultados."
      ]
    }
  ],
  "metadata": {
    "accelerator": "GPU",
    "colab": {
      "collapsed_sections": [],
      "name": "DeepLearning_Aula01_Convolucao.ipynb",
      "provenance": []
    },
    "interpreter": {
      "hash": "24e0735208a08393bf3ee81a0c12f9c86fdfb4195b6121c64527702e7d9bc896"
    },
    "kernelspec": {
      "display_name": "Python 3.7.6 64-bit ('base': conda)",
      "name": "python3"
    },
    "language_info": {
      "codemirror_mode": {
        "name": "ipython",
        "version": 3
      },
      "file_extension": ".py",
      "mimetype": "text/x-python",
      "name": "python",
      "nbconvert_exporter": "python",
      "pygments_lexer": "ipython3",
      "version": "3.7.6"
    }
  },
  "nbformat": 4,
  "nbformat_minor": 0
}
