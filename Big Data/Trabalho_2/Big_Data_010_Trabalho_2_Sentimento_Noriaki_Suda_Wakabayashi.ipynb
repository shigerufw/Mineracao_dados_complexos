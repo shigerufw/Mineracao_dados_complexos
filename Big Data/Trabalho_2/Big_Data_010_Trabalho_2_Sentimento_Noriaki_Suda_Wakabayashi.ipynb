{
  "nbformat": 4,
  "nbformat_minor": 0,
  "metadata": {
    "colab": {
      "name": "Big Data 010 - Trabalho 2 - Sentimento - Template.ipynb",
      "provenance": [],
      "collapsed_sections": [],
      "include_colab_link": true
    },
    "kernelspec": {
      "name": "python3",
      "display_name": "Python 3"
    }
  },
  "cells": [
    {
      "cell_type": "markdown",
      "metadata": {
        "id": "view-in-github",
        "colab_type": "text"
      },
      "source": [
        "<a href=\"https://colab.research.google.com/github/esuda/mineiracao_dados_complexos/blob/master/Big%20Data/Big_Data_010_Trabalho_2_Sentimento_Noriaki_Suda_Wakabayashi.ipynb\" target=\"_parent\"><img src=\"https://colab.research.google.com/assets/colab-badge.svg\" alt=\"Open In Colab\"/></a>"
      ]
    },
    {
      "cell_type": "markdown",
      "metadata": {
        "id": "1pkxSQ7daQk0"
      },
      "source": [
        "# Pacote de dados\n",
        "\n",
        "\n",
        "*   Abra o link do pacote de dados: https://tinyurl.com/bd10-tweets\n",
        "*   Selecione a opção \"Adicionar Atalho ao Drive\""
      ]
    },
    {
      "cell_type": "code",
      "metadata": {
        "id": "42wAmUtHclQi",
        "colab": {
          "base_uri": "https://localhost:8080/"
        },
        "outputId": "0b38b5f4-a51c-4ee4-bc13-0d0696ce3849"
      },
      "source": [
        "!pip install mrjob nltk twython"
      ],
      "execution_count": 1,
      "outputs": [
        {
          "output_type": "stream",
          "name": "stdout",
          "text": [
            "Collecting mrjob\n",
            "  Downloading mrjob-0.7.4-py2.py3-none-any.whl (439 kB)\n",
            "\u001b[?25l\r\u001b[K     |▊                               | 10 kB 23.0 MB/s eta 0:00:01\r\u001b[K     |█▌                              | 20 kB 9.5 MB/s eta 0:00:01\r\u001b[K     |██▎                             | 30 kB 7.6 MB/s eta 0:00:01\r\u001b[K     |███                             | 40 kB 7.3 MB/s eta 0:00:01\r\u001b[K     |███▊                            | 51 kB 3.9 MB/s eta 0:00:01\r\u001b[K     |████▌                           | 61 kB 4.2 MB/s eta 0:00:01\r\u001b[K     |█████▏                          | 71 kB 4.3 MB/s eta 0:00:01\r\u001b[K     |██████                          | 81 kB 4.8 MB/s eta 0:00:01\r\u001b[K     |██████▊                         | 92 kB 3.6 MB/s eta 0:00:01\r\u001b[K     |███████▌                        | 102 kB 4.0 MB/s eta 0:00:01\r\u001b[K     |████████▏                       | 112 kB 4.0 MB/s eta 0:00:01\r\u001b[K     |█████████                       | 122 kB 4.0 MB/s eta 0:00:01\r\u001b[K     |█████████▊                      | 133 kB 4.0 MB/s eta 0:00:01\r\u001b[K     |██████████▍                     | 143 kB 4.0 MB/s eta 0:00:01\r\u001b[K     |███████████▏                    | 153 kB 4.0 MB/s eta 0:00:01\r\u001b[K     |████████████                    | 163 kB 4.0 MB/s eta 0:00:01\r\u001b[K     |████████████▊                   | 174 kB 4.0 MB/s eta 0:00:01\r\u001b[K     |█████████████▍                  | 184 kB 4.0 MB/s eta 0:00:01\r\u001b[K     |██████████████▏                 | 194 kB 4.0 MB/s eta 0:00:01\r\u001b[K     |███████████████                 | 204 kB 4.0 MB/s eta 0:00:01\r\u001b[K     |███████████████▋                | 215 kB 4.0 MB/s eta 0:00:01\r\u001b[K     |████████████████▍               | 225 kB 4.0 MB/s eta 0:00:01\r\u001b[K     |█████████████████▏              | 235 kB 4.0 MB/s eta 0:00:01\r\u001b[K     |██████████████████              | 245 kB 4.0 MB/s eta 0:00:01\r\u001b[K     |██████████████████▋             | 256 kB 4.0 MB/s eta 0:00:01\r\u001b[K     |███████████████████▍            | 266 kB 4.0 MB/s eta 0:00:01\r\u001b[K     |████████████████████▏           | 276 kB 4.0 MB/s eta 0:00:01\r\u001b[K     |████████████████████▉           | 286 kB 4.0 MB/s eta 0:00:01\r\u001b[K     |█████████████████████▋          | 296 kB 4.0 MB/s eta 0:00:01\r\u001b[K     |██████████████████████▍         | 307 kB 4.0 MB/s eta 0:00:01\r\u001b[K     |███████████████████████         | 317 kB 4.0 MB/s eta 0:00:01\r\u001b[K     |███████████████████████▉        | 327 kB 4.0 MB/s eta 0:00:01\r\u001b[K     |████████████████████████▋       | 337 kB 4.0 MB/s eta 0:00:01\r\u001b[K     |█████████████████████████▍      | 348 kB 4.0 MB/s eta 0:00:01\r\u001b[K     |██████████████████████████      | 358 kB 4.0 MB/s eta 0:00:01\r\u001b[K     |██████████████████████████▉     | 368 kB 4.0 MB/s eta 0:00:01\r\u001b[K     |███████████████████████████▋    | 378 kB 4.0 MB/s eta 0:00:01\r\u001b[K     |████████████████████████████▎   | 389 kB 4.0 MB/s eta 0:00:01\r\u001b[K     |█████████████████████████████   | 399 kB 4.0 MB/s eta 0:00:01\r\u001b[K     |█████████████████████████████▉  | 409 kB 4.0 MB/s eta 0:00:01\r\u001b[K     |██████████████████████████████▋ | 419 kB 4.0 MB/s eta 0:00:01\r\u001b[K     |███████████████████████████████▎| 430 kB 4.0 MB/s eta 0:00:01\r\u001b[K     |████████████████████████████████| 439 kB 4.0 MB/s \n",
            "\u001b[?25hRequirement already satisfied: nltk in /usr/local/lib/python3.7/dist-packages (3.2.5)\n",
            "Collecting twython\n",
            "  Downloading twython-3.9.1-py3-none-any.whl (33 kB)\n",
            "Requirement already satisfied: PyYAML>=3.10 in /usr/local/lib/python3.7/dist-packages (from mrjob) (3.13)\n",
            "Requirement already satisfied: six in /usr/local/lib/python3.7/dist-packages (from nltk) (1.15.0)\n",
            "Requirement already satisfied: requests>=2.1.0 in /usr/local/lib/python3.7/dist-packages (from twython) (2.23.0)\n",
            "Requirement already satisfied: requests-oauthlib>=0.4.0 in /usr/local/lib/python3.7/dist-packages (from twython) (1.3.0)\n",
            "Requirement already satisfied: idna<3,>=2.5 in /usr/local/lib/python3.7/dist-packages (from requests>=2.1.0->twython) (2.10)\n",
            "Requirement already satisfied: chardet<4,>=3.0.2 in /usr/local/lib/python3.7/dist-packages (from requests>=2.1.0->twython) (3.0.4)\n",
            "Requirement already satisfied: urllib3!=1.25.0,!=1.25.1,<1.26,>=1.21.1 in /usr/local/lib/python3.7/dist-packages (from requests>=2.1.0->twython) (1.24.3)\n",
            "Requirement already satisfied: certifi>=2017.4.17 in /usr/local/lib/python3.7/dist-packages (from requests>=2.1.0->twython) (2021.5.30)\n",
            "Requirement already satisfied: oauthlib>=3.0.0 in /usr/local/lib/python3.7/dist-packages (from requests-oauthlib>=0.4.0->twython) (3.1.1)\n",
            "Installing collected packages: twython, mrjob\n",
            "Successfully installed mrjob-0.7.4 twython-3.9.1\n"
          ]
        }
      ]
    },
    {
      "cell_type": "code",
      "metadata": {
        "id": "1P8u-xDBcyhv",
        "colab": {
          "base_uri": "https://localhost:8080/"
        },
        "outputId": "54261886-376e-43b7-b5ee-da7de1f6a97b"
      },
      "source": [
        "from google.colab import drive\n",
        "drive.mount('/content/drive')"
      ],
      "execution_count": 42,
      "outputs": [
        {
          "output_type": "stream",
          "name": "stdout",
          "text": [
            "Mounted at /content/drive\n"
          ]
        }
      ]
    },
    {
      "cell_type": "code",
      "metadata": {
        "id": "vxVkFwFOYV5G",
        "colab": {
          "base_uri": "https://localhost:8080/"
        },
        "outputId": "3edd4220-0bb9-4f53-f18b-e3dd904826d4"
      },
      "source": [
        "!ls \"/content/drive/My Drive/twitter_cs\""
      ],
      "execution_count": 43,
      "outputs": [
        {
          "output_type": "stream",
          "name": "stdout",
          "text": [
            "negative-words.txt  sample_clean_larger.csv\ttwcs_clean.csv\n",
            "positive-words.txt  sample_clean_larger.csv.gz\ttwcs_clean.csv.gz\n",
            "sample_clean.csv    sample.csv\t\t\ttwcs.csv\n"
          ]
        }
      ]
    },
    {
      "cell_type": "code",
      "metadata": {
        "id": "AIJDLpzvY-l5",
        "colab": {
          "base_uri": "https://localhost:8080/"
        },
        "outputId": "32e3e071-40bf-4fc7-a864-5e6adc63fddd"
      },
      "source": [
        "!cat \"/content/drive/My Drive/twitter_cs/sample_clean.csv\" | head"
      ],
      "execution_count": 44,
      "outputs": [
        {
          "output_type": "stream",
          "name": "stdout",
          "text": [
            "tweet_id,author_id,inbound,created_at,text,response_tweet_id,in_response_to_tweet_id\r\n",
            "119237,105834,True,Wed Oct 11 06:55:44 +0000 2017,@AppleSupport causing the reply to be disregarded and the tapped notification under the keyboard is opened😡😡😡,119236,\r\n",
            "119238,ChaseSupport,False,Wed Oct 11 13:25:49 +0000 2017,\"@105835 Your business means a lot to us. Please DM your name  zip code and additional details about your concern. ^RR https://t.co/znUu1VJn9r\",,119239\r\n",
            "119239,105835,True,Wed Oct 11 13:00:09 +0000 2017,@76328 I really hope you all change but I'm sure you won't! Because you don't have to!,119238,\r\n",
            "119240,VirginTrains,False,Tue Oct 10 15:16:08 +0000 2017,\"@105836 LiveChat is online at the moment - https://t.co/SY94VtU8Kq or contact 03331 031 031 option 1  4  3 (Leave a message) to request a call back\",119241,119242\r\n",
            "119241,105836,True,Tue Oct 10 15:17:21 +0000 2017,@VirginTrains see attached error message. I've tried leaving a voicemail several times in the past week https://t.co/NxVZjlYx1k,119243,119240\r\n",
            "119243,VirginTrains,False,Tue Oct 10 15:25:14 +0000 2017,\"@105836 Have you tried from another device  Miriam ^MM\",119244,119241\r\n",
            "119244,105836,True,Tue Oct 10 15:26:44 +0000 2017,\"@VirginTrains yep  I've tried laptop too several times over the past week and again today. I've tried different browsers too\",119245,119243\r\n",
            "119245,VirginTrains,False,Tue Oct 10 15:33:22 +0000 2017,\"@105836 It's working OK from here  Miriam. Does this link help https://t.co/0m2mpH15eh ? ^MM\",,119244\r\n",
            "119242,105836,True,Tue Oct 10 15:09:00 +0000 2017,@VirginTrains I still haven't heard &amp; the number I'm directed to by phone is a dead end &amp; the live chat doesn't work. Can someone call me?,119240,119246\r\n"
          ]
        }
      ]
    },
    {
      "cell_type": "markdown",
      "metadata": {
        "id": "1IxqWhN3xwcR"
      },
      "source": [
        "# Ver porque nao esta saindo resultado pelo logger de warning"
      ]
    },
    {
      "cell_type": "code",
      "metadata": {
        "id": "antgULJUdK25",
        "colab": {
          "base_uri": "https://localhost:8080/"
        },
        "outputId": "e0171200-63fb-4fe2-ef99-dedf0cd59ac1"
      },
      "source": [
        "%%file trab2.py\n",
        "\n",
        "from mrjob.job import MRJob\n",
        "from mrjob.step import MRStep\n",
        "from mrjob.protocol import TextProtocol\n",
        "import nltk\n",
        "from nltk.sentiment import SentimentIntensityAnalyzer\n",
        "import re\n",
        "import logging\n",
        "\n",
        "class Sentiment(MRJob):\n",
        "\n",
        "  OUTPUT_PROTOCOL = TextProtocol  \n",
        "  \n",
        "  def steps(self):\n",
        "        return [\n",
        "            MRStep(mapper_init=self.mapper_init,\n",
        "            mapper=self.mapper,\n",
        "            combiner=self.combiner,\n",
        "            reducer=self.reducer),\n",
        "            MRStep(reducer=self.reducer_order)\n",
        "        ]\n",
        "\n",
        "  def mapper_init(self):\n",
        "    nltk.download('vader_lexicon', quiet=True)\n",
        "    self.sentiment = SentimentIntensityAnalyzer()\n",
        "\n",
        "  def mapper(self, _, line):\n",
        "    try:\n",
        "\n",
        "      tweet_id, author_id, inbound, created_at, text, response_tweet_id, in_response_to_tweet_id = line.split(\",\")\n",
        "\n",
        "      author_id = author_id.lower().strip()\n",
        "      flag_author = bool(re.match(\"^[0-9]+$\", author_id))\n",
        "\n",
        "      if inbound == \"True\":\n",
        "        raise ValueError(\"Inbound\") \n",
        "\n",
        "      elif author_id == \"author_id\":\n",
        "        raise ValueError(\"Primeira Linha\")\n",
        "\n",
        "      elif flag_author == True:\n",
        "        raise ValueError(\"Author\")\n",
        "\n",
        "      polaridade = self.sentiment.polarity_scores(text)['compound']\n",
        "\n",
        "      yield author_id, (polaridade, 1)\n",
        "\n",
        "    except ValueError as error:\n",
        "      logging.warning(error.args)\n",
        "      logging.warning(\"linha descartada: \"+line)\n",
        "      pass\n",
        "\n",
        "  def combiner(self, key, values):\n",
        "    try:\n",
        "      polaridade_sum = 0\n",
        "      quantidade = 0\n",
        "      for value in values:\n",
        "        polaridade_sum += value[0]\n",
        "        quantidade += value[1]\n",
        "    \n",
        "      yield key, (polaridade_sum, quantidade)\n",
        "    \n",
        "    except:\n",
        "      logging.warning(\"Deu ruim Combiner\")     \n",
        "      pass\n",
        "\n",
        "  def reducer(self, key, values):\n",
        "    try:\n",
        "      polaridade_sum = 0\n",
        "      quantidade = 0\n",
        "      for value in values:\n",
        "        polaridade_sum += value[0]\n",
        "        quantidade += value[1]\n",
        "\n",
        "      yield str(((polaridade_sum/quantidade)+1)*10000).zfill(6), key\n",
        "\n",
        "    except:\n",
        "      logging.warning(\"Deu ruim reducer\")     \n",
        "      pass\n",
        "  \n",
        "  def reducer_order(self, quantity, keys):\n",
        "    try:\n",
        "      for key in keys:\n",
        "        yield key, str(quantity)\n",
        "    except:\n",
        "      logging.warning(\"Deu ruim reducer 2\")\n",
        "\n",
        "if __name__ == '__main__':\n",
        "    logging.basicConfig(filename=\"log_trabalho2.txt\",level=logging.INFO)\n",
        "    Sentiment.run()"
      ],
      "execution_count": 117,
      "outputs": [
        {
          "output_type": "stream",
          "name": "stdout",
          "text": [
            "Overwriting trab2.py\n"
          ]
        }
      ]
    },
    {
      "cell_type": "code",
      "metadata": {
        "id": "BygVmz6JuJLL",
        "colab": {
          "base_uri": "https://localhost:8080/"
        },
        "outputId": "eb05b2ab-7839-4ba1-fef0-eab8a8d4448e"
      },
      "source": [
        "!python trab2.py -r local \"/content/drive/My Drive/twitter_cs/sample_clean.csv\" "
      ],
      "execution_count": 118,
      "outputs": [
        {
          "output_type": "stream",
          "name": "stdout",
          "text": [
            "No configs found; falling back on auto-configuration\n",
            "No configs specified for local runner\n",
            "Creating temp directory /tmp/trab2.root.20211104.030348.237403\n",
            "Running step 1 of 2...\n",
            "Running step 2 of 2...\n",
            "job output is in /tmp/trab2.root.20211104.030348.237403/output\n",
            "Streaming final output from /tmp/trab2.root.20211104.030348.237403/output...\n",
            "virgintrains\t11710.25\n",
            "british_airways\t12015.0\n",
            "sprintcare\t12263.0\n",
            "upshelp\t12263.0\n",
            "applesupport\t15644.153846153846\n",
            "southwestair\t16114.000000000002\n",
            "hpsupport\t16369.0\n",
            "chasesupport\t13182.0\n",
            "tesco\t14806.249999999998\n",
            "spotifycares\t15123.250000000002\n",
            "o2\t17783.0\n",
            "ask_spectrum\t7268.0\n",
            "comcastcares\t8783.0\n",
            "Removing temp directory /tmp/trab2.root.20211104.030348.237403...\n"
          ]
        }
      ]
    },
    {
      "cell_type": "code",
      "metadata": {
        "id": "8ncCInbTtOwz",
        "colab": {
          "base_uri": "https://localhost:8080/"
        },
        "outputId": "ac7c2554-49e7-47d4-f8e9-57b2a34a29c4"
      },
      "source": [
        "# Sanity Check pra ver se esta agrupando certo\n",
        "import pandas as pd\n",
        "import nltk\n",
        "from nltk.sentiment import SentimentIntensityAnalyzer\n",
        "nltk.download('vader_lexicon', quiet=True)\n",
        "analyzer = SentimentIntensityAnalyzer()\n",
        "\n",
        "df = pd.read_csv(\"/content/drive/My Drive/twitter_cs/sample_clean.csv\" )\n",
        "\n",
        "df[\"test\"] = df.author_id.str.match(\"^[0-9]+$\")\n",
        "\n",
        "df['compound'] = [analyzer.polarity_scores(x)['compound'] for x in df['text']]\n",
        "\n",
        "df[df[\"test\"]==False].filter([\"author_id\", \"compound\"]).groupby(\"author_id\")[\"compound\"].mean().add(1).sort_values()"
      ],
      "execution_count": 114,
      "outputs": [
        {
          "output_type": "execute_result",
          "data": {
            "text/plain": [
              "author_id\n",
              "Ask_Spectrum       0.726800\n",
              "comcastcares       0.878300\n",
              "VirginTrains       1.171025\n",
              "British_Airways    1.201500\n",
              "UPSHelp            1.226300\n",
              "sprintcare         1.226300\n",
              "ChaseSupport       1.318200\n",
              "Tesco              1.480625\n",
              "SpotifyCares       1.512325\n",
              "AppleSupport       1.564415\n",
              "SouthwestAir       1.611400\n",
              "HPSupport          1.636900\n",
              "O2                 1.778300\n",
              "Name: compound, dtype: float64"
            ]
          },
          "metadata": {},
          "execution_count": 114
        }
      ]
    },
    {
      "cell_type": "code",
      "metadata": {
        "id": "t0MAk5Czg_YK"
      },
      "source": [
        "!cat log_trabalho2.txt"
      ],
      "execution_count": null,
      "outputs": []
    },
    {
      "cell_type": "code",
      "metadata": {
        "colab": {
          "base_uri": "https://localhost:8080/"
        },
        "id": "VzJUCjc2oKJp",
        "outputId": "81e06dd3-026f-4e12-8044-c447d85ea48e"
      },
      "source": [
        "!ls"
      ],
      "execution_count": 58,
      "outputs": [
        {
          "output_type": "stream",
          "name": "stdout",
          "text": [
            "drive  log_trabalho2.txt  log.txt  sample_data\ttrab2.py\n"
          ]
        }
      ]
    },
    {
      "cell_type": "code",
      "metadata": {
        "id": "FC3onBh8hHl-"
      },
      "source": [
        "!rm log_trabalho2.txt"
      ],
      "execution_count": 52,
      "outputs": []
    },
    {
      "cell_type": "code",
      "metadata": {
        "id": "RDGaqJcRT_vx",
        "colab": {
          "base_uri": "https://localhost:8080/"
        },
        "outputId": "8c60eb97-12c0-4af3-e3e9-486ee7b4a3f7"
      },
      "source": [
        "!python trab2.py -r local \"/content/drive/My Drive/twitter_cs/sample_clean_larger.csv.gz\" "
      ],
      "execution_count": 50,
      "outputs": [
        {
          "output_type": "stream",
          "name": "stdout",
          "text": [
            "No configs found; falling back on auto-configuration\n",
            "No configs specified for local runner\n",
            "Creating temp directory /tmp/trab2.root.20211104.013927.970603\n",
            "Running step 1 of 1...\n",
            "job output is in /tmp/trab2.root.20211104.013927.970603/output\n",
            "Streaming final output from /tmp/trab2.root.20211104.013927.970603/output...\n",
            "adobecare\t0.33681000000000005\n",
            "airasiasupport\t0.40325428571428557\n",
            "airbnbhelp\t0.5175847826086956\n",
            "airtel_care\t0.5359299065420557\n",
            "alaskaair\t0.28451428571428566\n",
            "aldiuk\t0.364477027027027\n",
            "amazonhelp\t0.2028177449168204\n",
            "americanair\t0.37496927083333315\n",
            "applesupport\t0.43845113533151786\n",
            "arbyscares\t0.38129047619047624\n",
            "argoshelpers\t0.20670472440944876\n",
            "ask_progressive\t0.39189999999999997\n",
            "ask_spectrum\t0.42600185873605906\n",
            "ask_wellsfargo\t0.5134346666666666\n",
            "askamex\t0.3208982300884956\n",
            "askciti\t0.6313333333333334\n",
            "askdsc\t0.26553333333333334\n",
            "askebay\t0.32142747252747256\n",
            "asklyft\t0.31073366336633657\n",
            "askpanera\t0.4997384615384616\n",
            "askpapajohns\t0.24429019607843133\n",
            "askpaypal\t0.41390217391304357\n",
            "askplaystation\t0.24593571428571426\n",
            "askrbc\t0.5375666666666666\n",
            "askrobinhood\t0.21542\n",
            "asksalesforce\t0.34468\n",
            "gwrhelp\t0.09819641255605373\n",
            "hiltonhelp\t0.38057272727272723\n",
            "hoteltonightcx\t0.3612\n",
            "hpsupport\t0.6457774647887324\n",
            "hulu_support\t0.3217342857142856\n",
            "idea_cares\t0.25600066225165574\n",
            "ihgservice\t0.4049090909090909\n",
            "jackbox\t0.0\n",
            "jetblue\t0.2560162790697674\n",
            "keybank_help\t0.2999833333333333\n",
            "kfc_uki_help\t0.04395555555555556\n",
            "kimpton\t0.48983333333333334\n",
            "londonmidland\t0.08460185185185184\n",
            "marksandspencer\t0.38667118644067794\n",
            "mcdonalds\t0.5147256097560974\n",
            "mediatemplehelp\t0.2809\n",
            "microsofthelps\t0.398415789473684\n",
            "moo\t0.645575\n",
            "morrisons\t0.31528508771929825\n",
            "mtnc_care\t0.05735\n",
            "nationalrailenq\t0.020419607843137243\n",
            "neweggservice\t0.45499\n",
            "nikesupport\t0.22445151515151515\n",
            "nortonsupport\t0.304\n",
            "o2\t0.2758799999999999\n",
            "oppocarein\t0.4124285714285714\n",
            "pandorasupport\t0.09272727272727273\n",
            "pearsonsupport\t0.31666666666666665\n",
            "postmates_help\t0.25905\n",
            "safaricom_care\t0.15707096774193552\n",
            "askseagate\t0.4406333333333334\n",
            "asktarget\t0.5853119658119657\n",
            "asktigogh\t0.35849999999999993\n",
            "askvirginmoney\t0.646375\n",
            "askvisa\t0.1717125\n",
            "asurioncares\t0.27607857142857145\n",
            "att\t0.48274054054054033\n",
            "atviassist\t0.2412237499999998\n",
            "awssupport\t0.4083846153846154\n",
            "azuresupport\t0.3122750000000001\n",
            "bofa_help\t0.4154859374999998\n",
            "boostcare\t0.24639999999999998\n",
            "british_airways\t0.26487129337539445\n",
            "carlsjr\t0.59505\n",
            "centurylinkhelp\t0.5370105263157895\n",
            "chasesupport\t0.5333765957446809\n",
            "chipotletweets\t0.17304475138121544\n",
            "comcastcares\t0.473672923076923\n",
            "coxhelp\t0.36593924050632903\n",
            "dellcares\t0.34675384615384613\n",
            "delta\t0.35238903061224486\n",
            "doordash_help\t0.4937\n",
            "dropboxsupport\t0.40489531249999994\n",
            "dunkindonuts\t0.20224545454545453\n",
            "glocare\t0.3882296296296296\n",
            "godaddyhelp\t0.32957500000000006\n",
            "googleplaymusic\t0.45081249999999995\n",
            "greggsofficial\t0.0454595238095238\n",
            "sainsburys\t0.2303716981132074\n",
            "scsupport\t0.45149999999999996\n",
            "sizehelpteam\t0.37003157894736843\n",
            "southwestair\t0.4090745762711869\n",
            "spotifycares\t0.23696715328467147\n",
            "sprintcare\t0.4053797413793105\n",
            "sw_help\t0.09423904761904765\n",
            "tacobellteam\t0.07128780487804878\n",
            "tesco\t0.39908451443569537\n",
            "tfl\t0.24261739130434784\n",
            "tmobilehelp\t0.448582967032967\n",
            "twittersupport\t0.5945588235294119\n",
            "uber_support\t0.3844615101289144\n",
            "upshelp\t0.2970203488372091\n",
            "uscellularcares\t0.20582500000000004\n",
            "verizonsupport\t0.19403411764705877\n",
            "virginamerica\t0.07045652173913043\n",
            "virginatlantic\t0.133775\n",
            "virgintrains\t0.10269277566539925\n",
            "vmucare\t0.27787333333333325\n",
            "walmart\t0.53125\n",
            "xboxsupport\t0.21889087136929444\n",
            "yahoocare\t0.017524999999999995\n",
            "Removing temp directory /tmp/trab2.root.20211104.013927.970603...\n"
          ]
        }
      ]
    },
    {
      "cell_type": "code",
      "metadata": {
        "id": "4vQneQhpUXBc",
        "colab": {
          "base_uri": "https://localhost:8080/"
        },
        "outputId": "5af6a383-b0ee-4690-a054-93948bad0a79"
      },
      "source": [
        "!python trab2.py -r local \"/content/drive/My Drive/twitter_cs/twcs_clean.csv.gz\" "
      ],
      "execution_count": 66,
      "outputs": [
        {
          "output_type": "stream",
          "name": "stdout",
          "text": [
            "No configs found; falling back on auto-configuration\n",
            "No configs specified for local runner\n",
            "Creating temp directory /tmp/trab2.root.20211104.015258.012568\n",
            "Running step 1 of 1...\n",
            "tcmalloc: large alloc 2067750912 bytes == 0x560383576000 @  0x7fc5e1e3e1e7 0x560381e67718 0x560381e665a1 0x7fc5e181cbf7 0x560381e6702a\n",
            "job output is in /tmp/trab2.root.20211104.015258.012568/output\n",
            "Streaming final output from /tmp/trab2.root.20211104.015258.012568/output...\n",
            "adobecare\t0.3738690632247648\n",
            "airasiasupport\t0.35531852833424754\n",
            "airbnbhelp\t0.4719709971830961\n",
            "airtel_care\t0.5125115271733871\n",
            "alaskaair\t0.3277007221182133\n",
            "aldiuk\t0.4461229356667411\n",
            "amazonhelp\t0.20070675989171965\n",
            "americanair\t0.366910825807849\n",
            "applesupport\t0.43707453303385935\n",
            "arbyscares\t0.3454461134453776\n",
            "argoshelpers\t0.1905811894200779\n",
            "ask_progressive\t0.4415361111111109\n",
            "ask_spectrum\t0.4077915081206631\n",
            "ask_wellsfargo\t0.5098603457376647\n",
            "askamex\t0.3340277073428465\n",
            "askciti\t0.5837064935064907\n",
            "askdsc\t0.17663952380952377\n",
            "askebay\t0.3491372083419353\n",
            "asklyft\t0.28850213396562874\n",
            "askpanera\t0.5389097073850428\n",
            "askpapajohns\t0.2973082906857745\n",
            "askpaypal\t0.44631018764383057\n",
            "askplaystation\t0.24082055712640157\n",
            "askrbc\t0.49944025717111784\n",
            "askrobinhood\t0.2974525462962962\n",
            "asksalesforce\t0.35905971830985933\n",
            "askseagate\t0.17462550860719864\n",
            "asktarget\t0.5866988576184088\n",
            "hoteltonightcx\t0.3742085526315789\n",
            "hpsupport\t0.6110491666666691\n",
            "hulu_support\t0.24398616495976638\n",
            "idea_cares\t0.2469272386161364\n",
            "ihgservice\t0.41282917139614017\n",
            "jackbox\t0.05855488721804512\n",
            "jetblue\t0.22415057356608442\n",
            "keybank_help\t0.4701333333333328\n",
            "kfc_uki_help\t-0.050081359961959206\n",
            "kimpton\t0.4911697535474236\n",
            "londonmidland\t0.021098299618880007\n",
            "marksandspencer\t0.39467517385257495\n",
            "mcdonalds\t0.490342863882991\n",
            "mediatemplehelp\t0.3576429508196719\n",
            "microsofthelps\t0.41082874203821873\n",
            "moo\t0.4017423809523805\n",
            "morrisons\t0.33611953387319893\n",
            "mtnc_care\t0.08666556122448976\n",
            "nationalrailenq\t-0.008257493249324926\n",
            "neweggservice\t0.3024575532900831\n",
            "nikesupport\t0.1906465397923872\n",
            "nortonsupport\t0.23312466434609594\n",
            "o2\t0.24251065877127975\n",
            "officesupport\t0.3004325688073394\n",
            "oppocarein\t0.4543918088737199\n",
            "pandorasupport\t0.23272061361457388\n",
            "pearsonsupport\t0.2505028537455411\n",
            "asktigogh\t0.32948461538461593\n",
            "askvirginmoney\t0.47877647702406967\n",
            "askvisa\t0.1411177715091678\n",
            "asurioncares\t0.32412391991570066\n",
            "att\t0.4983775268817188\n",
            "atviassist\t0.27827834560907094\n",
            "awssupport\t0.4073776811594204\n",
            "azuresupport\t0.3016193126239251\n",
            "bofa_help\t0.4307117243554386\n",
            "boostcare\t0.3345542447629551\n",
            "british_airways\t0.24221455331903394\n",
            "carlsjr\t0.30876122448979587\n",
            "centurylinkhelp\t0.5443202578268882\n",
            "chasesupport\t0.5153180115764451\n",
            "chipotletweets\t0.2065768627660131\n",
            "comcastcares\t0.46504172746812344\n",
            "coxhelp\t0.3233345375906376\n",
            "dellcares\t0.35168736881559015\n",
            "delta\t0.351126902231776\n",
            "doordash_help\t0.3821786843769776\n",
            "dropboxsupport\t0.40811991938193054\n",
            "dunkindonuts\t0.38929124031007833\n",
            "glocare\t0.37850805326568887\n",
            "godaddyhelp\t0.28475307888040713\n",
            "googleplaymusic\t0.41515024875621875\n",
            "greggsofficial\t0.105516762494471\n",
            "gwrhelp\t0.05174150485437067\n",
            "hiltonhelp\t0.5527333733493391\n",
            "postmates_help\t0.19791019127316234\n",
            "safaricom_care\t0.18318530820426862\n",
            "sainsburys\t0.2509256549881846\n",
            "scsupport\t0.5076964635063959\n",
            "sizehelpteam\t0.36287807017543905\n",
            "southwestair\t0.4122123891361995\n",
            "spotifycares\t0.24739484802958014\n",
            "sprintcare\t0.36571711272953933\n",
            "sw_help\t-0.004447616711634422\n",
            "tacobellteam\t0.02886215090641753\n",
            "tesco\t0.36288121743186996\n",
            "tfl\t0.2147176103432905\n",
            "tmobilehelp\t0.43502973744789125\n",
            "twittersupport\t0.6029214728682178\n",
            "uber_support\t0.3572263710680217\n",
            "upshelp\t0.3138095246113383\n",
            "uscellularcares\t0.15723024638912472\n",
            "verizonsupport\t0.16893982522542683\n",
            "virginamerica\t0.22178880994671477\n",
            "virginatlantic\t0.18096778601204308\n",
            "virgintrains\t0.12247313872811535\n",
            "vmucare\t0.26077994207096306\n",
            "walmart\t0.5494675747256917\n",
            "xboxsupport\t0.25615335342264417\n",
            "yahoocare\t0.1654979028697572\n",
            "Removing temp directory /tmp/trab2.root.20211104.015258.012568...\n"
          ]
        }
      ]
    },
    {
      "cell_type": "code",
      "metadata": {
        "id": "Qwj1jY1Yl0gT"
      },
      "source": [
        "drive.flush_and_unmount()"
      ],
      "execution_count": 41,
      "outputs": []
    }
  ]
}