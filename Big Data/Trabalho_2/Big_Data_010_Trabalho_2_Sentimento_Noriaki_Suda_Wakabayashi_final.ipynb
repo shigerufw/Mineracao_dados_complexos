{
  "cells": [
    {
      "cell_type": "markdown",
      "metadata": {
        "colab_type": "text",
        "id": "view-in-github"
      },
      "source": [
        "<a href=\"https://colab.research.google.com/github/esuda/mineiracao_dados_complexos/blob/master/Big%20Data/Big_Data_010_Trabalho_2_Sentimento_Noriaki_Suda_Wakabayashi_final.ipynb\" target=\"_parent\"><img src=\"https://colab.research.google.com/assets/colab-badge.svg\" alt=\"Open In Colab\"/></a>"
      ]
    },
    {
      "cell_type": "markdown",
      "metadata": {},
      "source": [
        "# Integrantes do Grupo\n",
        "\n",
        "### - Daniel Noriaki Kurosawa\n",
        "### - Eric Uyemura Suda\n",
        "### - Fernando Shigeru Wakabayashi"
      ]
    },
    {
      "cell_type": "markdown",
      "metadata": {
        "id": "1pkxSQ7daQk0"
      },
      "source": [
        "# Pacote de dados\n",
        "\n",
        "\n",
        "*   Abra o link do pacote de dados: https://tinyurl.com/bd10-tweets\n",
        "*   Selecione a opção \"Adicionar Atalho ao Drive\""
      ]
    },
    {
      "cell_type": "code",
      "execution_count": 1,
      "metadata": {
        "colab": {
          "base_uri": "https://localhost:8080/"
        },
        "id": "42wAmUtHclQi",
        "outputId": "60a662e9-326d-4500-f4c4-75fc128a143b"
      },
      "outputs": [
        {
          "name": "stdout",
          "output_type": "stream",
          "text": [
            "Collecting mrjob\n",
            "  Downloading mrjob-0.7.4-py2.py3-none-any.whl (439 kB)\n",
            "\u001b[?25l\r\u001b[K     |▊                               | 10 kB 27.1 MB/s eta 0:00:01\r\u001b[K     |█▌                              | 20 kB 27.7 MB/s eta 0:00:01\r\u001b[K     |██▎                             | 30 kB 11.5 MB/s eta 0:00:01\r\u001b[K     |███                             | 40 kB 9.0 MB/s eta 0:00:01\r\u001b[K     |███▊                            | 51 kB 5.2 MB/s eta 0:00:01\r\u001b[K     |████▌                           | 61 kB 5.6 MB/s eta 0:00:01\r\u001b[K     |█████▏                          | 71 kB 5.4 MB/s eta 0:00:01\r\u001b[K     |██████                          | 81 kB 6.1 MB/s eta 0:00:01\r\u001b[K     |██████▊                         | 92 kB 5.6 MB/s eta 0:00:01\r\u001b[K     |███████▌                        | 102 kB 5.0 MB/s eta 0:00:01\r\u001b[K     |████████▏                       | 112 kB 5.0 MB/s eta 0:00:01\r\u001b[K     |█████████                       | 122 kB 5.0 MB/s eta 0:00:01\r\u001b[K     |█████████▊                      | 133 kB 5.0 MB/s eta 0:00:01\r\u001b[K     |██████████▍                     | 143 kB 5.0 MB/s eta 0:00:01\r\u001b[K     |███████████▏                    | 153 kB 5.0 MB/s eta 0:00:01\r\u001b[K     |████████████                    | 163 kB 5.0 MB/s eta 0:00:01\r\u001b[K     |████████████▊                   | 174 kB 5.0 MB/s eta 0:00:01\r\u001b[K     |█████████████▍                  | 184 kB 5.0 MB/s eta 0:00:01\r\u001b[K     |██████████████▏                 | 194 kB 5.0 MB/s eta 0:00:01\r\u001b[K     |███████████████                 | 204 kB 5.0 MB/s eta 0:00:01\r\u001b[K     |███████████████▋                | 215 kB 5.0 MB/s eta 0:00:01\r\u001b[K     |████████████████▍               | 225 kB 5.0 MB/s eta 0:00:01\r\u001b[K     |█████████████████▏              | 235 kB 5.0 MB/s eta 0:00:01\r\u001b[K     |██████████████████              | 245 kB 5.0 MB/s eta 0:00:01\r\u001b[K     |██████████████████▋             | 256 kB 5.0 MB/s eta 0:00:01\r\u001b[K     |███████████████████▍            | 266 kB 5.0 MB/s eta 0:00:01\r\u001b[K     |████████████████████▏           | 276 kB 5.0 MB/s eta 0:00:01\r\u001b[K     |████████████████████▉           | 286 kB 5.0 MB/s eta 0:00:01\r\u001b[K     |█████████████████████▋          | 296 kB 5.0 MB/s eta 0:00:01\r\u001b[K     |██████████████████████▍         | 307 kB 5.0 MB/s eta 0:00:01\r\u001b[K     |███████████████████████         | 317 kB 5.0 MB/s eta 0:00:01\r\u001b[K     |███████████████████████▉        | 327 kB 5.0 MB/s eta 0:00:01\r\u001b[K     |████████████████████████▋       | 337 kB 5.0 MB/s eta 0:00:01\r\u001b[K     |█████████████████████████▍      | 348 kB 5.0 MB/s eta 0:00:01\r\u001b[K     |██████████████████████████      | 358 kB 5.0 MB/s eta 0:00:01\r\u001b[K     |██████████████████████████▉     | 368 kB 5.0 MB/s eta 0:00:01\r\u001b[K     |███████████████████████████▋    | 378 kB 5.0 MB/s eta 0:00:01\r\u001b[K     |████████████████████████████▎   | 389 kB 5.0 MB/s eta 0:00:01\r\u001b[K     |█████████████████████████████   | 399 kB 5.0 MB/s eta 0:00:01\r\u001b[K     |█████████████████████████████▉  | 409 kB 5.0 MB/s eta 0:00:01\r\u001b[K     |██████████████████████████████▋ | 419 kB 5.0 MB/s eta 0:00:01\r\u001b[K     |███████████████████████████████▎| 430 kB 5.0 MB/s eta 0:00:01\r\u001b[K     |████████████████████████████████| 439 kB 5.0 MB/s \n",
            "\u001b[?25hRequirement already satisfied: nltk in /usr/local/lib/python3.7/dist-packages (3.2.5)\n",
            "Collecting twython\n",
            "  Downloading twython-3.9.1-py3-none-any.whl (33 kB)\n",
            "Requirement already satisfied: PyYAML>=3.10 in /usr/local/lib/python3.7/dist-packages (from mrjob) (3.13)\n",
            "Requirement already satisfied: six in /usr/local/lib/python3.7/dist-packages (from nltk) (1.15.0)\n",
            "Requirement already satisfied: requests-oauthlib>=0.4.0 in /usr/local/lib/python3.7/dist-packages (from twython) (1.3.0)\n",
            "Requirement already satisfied: requests>=2.1.0 in /usr/local/lib/python3.7/dist-packages (from twython) (2.23.0)\n",
            "Requirement already satisfied: certifi>=2017.4.17 in /usr/local/lib/python3.7/dist-packages (from requests>=2.1.0->twython) (2021.5.30)\n",
            "Requirement already satisfied: urllib3!=1.25.0,!=1.25.1,<1.26,>=1.21.1 in /usr/local/lib/python3.7/dist-packages (from requests>=2.1.0->twython) (1.24.3)\n",
            "Requirement already satisfied: idna<3,>=2.5 in /usr/local/lib/python3.7/dist-packages (from requests>=2.1.0->twython) (2.10)\n",
            "Requirement already satisfied: chardet<4,>=3.0.2 in /usr/local/lib/python3.7/dist-packages (from requests>=2.1.0->twython) (3.0.4)\n",
            "Requirement already satisfied: oauthlib>=3.0.0 in /usr/local/lib/python3.7/dist-packages (from requests-oauthlib>=0.4.0->twython) (3.1.1)\n",
            "Installing collected packages: twython, mrjob\n",
            "Successfully installed mrjob-0.7.4 twython-3.9.1\n"
          ]
        }
      ],
      "source": [
        "!pip install mrjob nltk twython"
      ]
    },
    {
      "cell_type": "code",
      "execution_count": 2,
      "metadata": {
        "colab": {
          "base_uri": "https://localhost:8080/"
        },
        "id": "1P8u-xDBcyhv",
        "outputId": "e2e81363-9d93-4a16-b5df-776fe76c536b"
      },
      "outputs": [
        {
          "name": "stdout",
          "output_type": "stream",
          "text": [
            "Mounted at /content/drive\n"
          ]
        }
      ],
      "source": [
        "from google.colab import drive\n",
        "drive.mount('/content/drive')"
      ]
    },
    {
      "cell_type": "code",
      "execution_count": 3,
      "metadata": {
        "colab": {
          "base_uri": "https://localhost:8080/"
        },
        "id": "vxVkFwFOYV5G",
        "outputId": "5f0e4e20-b9f5-4a5c-bbce-450a7db7c756"
      },
      "outputs": [
        {
          "name": "stdout",
          "output_type": "stream",
          "text": [
            "negative-words.txt  sample_clean_larger.csv\ttwcs_clean.csv\n",
            "positive-words.txt  sample_clean_larger.csv.gz\ttwcs_clean.csv.gz\n",
            "sample_clean.csv    sample.csv\t\t\ttwcs.csv\n"
          ]
        }
      ],
      "source": [
        "!ls \"/content/drive/My Drive/twitter_cs\""
      ]
    },
    {
      "cell_type": "code",
      "execution_count": 4,
      "metadata": {
        "colab": {
          "base_uri": "https://localhost:8080/"
        },
        "id": "AIJDLpzvY-l5",
        "outputId": "d11f582d-d666-41f0-8371-89543b3de0bb"
      },
      "outputs": [
        {
          "name": "stdout",
          "output_type": "stream",
          "text": [
            "tweet_id,author_id,inbound,created_at,text,response_tweet_id,in_response_to_tweet_id\r\n",
            "119237,105834,True,Wed Oct 11 06:55:44 +0000 2017,@AppleSupport causing the reply to be disregarded and the tapped notification under the keyboard is opened😡😡😡,119236,\r\n",
            "119238,ChaseSupport,False,Wed Oct 11 13:25:49 +0000 2017,\"@105835 Your business means a lot to us. Please DM your name  zip code and additional details about your concern. ^RR https://t.co/znUu1VJn9r\",,119239\r\n",
            "119239,105835,True,Wed Oct 11 13:00:09 +0000 2017,@76328 I really hope you all change but I'm sure you won't! Because you don't have to!,119238,\r\n",
            "119240,VirginTrains,False,Tue Oct 10 15:16:08 +0000 2017,\"@105836 LiveChat is online at the moment - https://t.co/SY94VtU8Kq or contact 03331 031 031 option 1  4  3 (Leave a message) to request a call back\",119241,119242\r\n",
            "119241,105836,True,Tue Oct 10 15:17:21 +0000 2017,@VirginTrains see attached error message. I've tried leaving a voicemail several times in the past week https://t.co/NxVZjlYx1k,119243,119240\r\n",
            "119243,VirginTrains,False,Tue Oct 10 15:25:14 +0000 2017,\"@105836 Have you tried from another device  Miriam ^MM\",119244,119241\r\n",
            "119244,105836,True,Tue Oct 10 15:26:44 +0000 2017,\"@VirginTrains yep  I've tried laptop too several times over the past week and again today. I've tried different browsers too\",119245,119243\r\n",
            "119245,VirginTrains,False,Tue Oct 10 15:33:22 +0000 2017,\"@105836 It's working OK from here  Miriam. Does this link help https://t.co/0m2mpH15eh ? ^MM\",,119244\r\n",
            "119242,105836,True,Tue Oct 10 15:09:00 +0000 2017,@VirginTrains I still haven't heard &amp; the number I'm directed to by phone is a dead end &amp; the live chat doesn't work. Can someone call me?,119240,119246\r\n"
          ]
        }
      ],
      "source": [
        "!cat \"/content/drive/My Drive/twitter_cs/sample_clean.csv\" | head"
      ]
    },
    {
      "cell_type": "code",
      "execution_count": 5,
      "metadata": {
        "colab": {
          "base_uri": "https://localhost:8080/"
        },
        "id": "antgULJUdK25",
        "outputId": "ac33f4de-06d2-4776-e1e7-d76793c640e4"
      },
      "outputs": [
        {
          "name": "stdout",
          "output_type": "stream",
          "text": [
            "Writing trab2.py\n"
          ]
        }
      ],
      "source": [
        "%%file trab2.py\n",
        "\n",
        "from mrjob.job import MRJob\n",
        "from mrjob.step import MRStep\n",
        "from mrjob.protocol import TextProtocol\n",
        "import nltk\n",
        "from nltk.sentiment import SentimentIntensityAnalyzer\n",
        "import re\n",
        "import logging\n",
        "\n",
        "class Sentiment(MRJob):\n",
        "\n",
        "  OUTPUT_PROTOCOL = TextProtocol  \n",
        "  \n",
        "  def steps(self):\n",
        "        return [\n",
        "            MRStep(mapper_init=self.mapper_init,\n",
        "            mapper=self.mapper,\n",
        "            combiner=self.combiner,\n",
        "            reducer=self.reducer),\n",
        "            MRStep(reducer=self.reducer_order)\n",
        "        ]\n",
        "\n",
        "  def mapper_init(self):\n",
        "    nltk.download('vader_lexicon', quiet=True)\n",
        "    self.sentiment = SentimentIntensityAnalyzer()\n",
        "\n",
        "  def mapper(self, _, line):\n",
        "    try:\n",
        "\n",
        "      tweet_id, author_id, inbound, created_at, text, response_tweet_id, in_response_to_tweet_id = line.split(\",\")\n",
        "\n",
        "      author_id = author_id.lower().strip()\n",
        "      flag_author = bool(re.match(\"^[0-9]+$\", author_id))\n",
        "\n",
        "      if inbound == \"True\":\n",
        "        raise ValueError(\"Inbound\") \n",
        "\n",
        "      elif author_id == \"author_id\":\n",
        "        raise ValueError(\"Primeira Linha\")\n",
        "\n",
        "      elif flag_author == True:\n",
        "        raise ValueError(\"Author\")\n",
        "\n",
        "      polaridade = self.sentiment.polarity_scores(text)['compound']\n",
        "\n",
        "      yield author_id, (polaridade, 1)\n",
        "\n",
        "    except ValueError as error:\n",
        "      logging.warning(error.args)\n",
        "      logging.warning(\"linha descartada: \"+line)\n",
        "      pass\n",
        "\n",
        "  def combiner(self, key, values):\n",
        "    try:\n",
        "      polaridade_sum = 0\n",
        "      quantidade = 0\n",
        "      for value in values:\n",
        "        polaridade_sum += value[0]\n",
        "        quantidade += value[1]\n",
        "    \n",
        "      yield key, (polaridade_sum, quantidade)\n",
        "    \n",
        "    except:\n",
        "      logging.warning(\"Falha Combiner\")     \n",
        "      pass\n",
        "\n",
        "  def reducer(self, key, values):\n",
        "    try:\n",
        "      polaridade_sum = 0\n",
        "      quantidade = 0\n",
        "      for value in values:\n",
        "        polaridade_sum += value[0]\n",
        "        quantidade += value[1]\n",
        "      quantity = polaridade_sum/quantidade\n",
        "      yield None, (quantity, key)\n",
        "\n",
        "    except:\n",
        "      logging.warning(\"Falha reducer\")     \n",
        "      pass\n",
        "  \n",
        "  def reducer_order(self, quantity, keys):\n",
        "    try:\n",
        "      for quantity, key in sorted(keys):\n",
        "        yield key, \"{:.4f}\".format(quantity).zfill(6)\n",
        "    except:\n",
        "      logging.warning(\"Falha reducer 2\")\n",
        "\n",
        "if __name__ == '__main__':\n",
        "    logging.basicConfig(filename=\"log_trabalho2.txt\",level=logging.INFO)\n",
        "    Sentiment.run()"
      ]
    },
    {
      "cell_type": "code",
      "execution_count": 6,
      "metadata": {
        "colab": {
          "base_uri": "https://localhost:8080/"
        },
        "id": "BygVmz6JuJLL",
        "outputId": "90482848-d8e1-4e3b-f860-062fa9309cb9"
      },
      "outputs": [
        {
          "name": "stdout",
          "output_type": "stream",
          "text": [
            "No configs found; falling back on auto-configuration\n",
            "No configs specified for inline runner\n",
            "Creating temp directory /tmp/trab2.root.20211107.124931.824878\n",
            "Running step 1 of 2...\n",
            "Running step 2 of 2...\n",
            "job output is in /tmp/trab2.root.20211107.124931.824878/output\n",
            "Streaming final output from /tmp/trab2.root.20211107.124931.824878/output...\n",
            "ask_spectrum\t-0.2732\n",
            "comcastcares\t-0.1217\n",
            "virgintrains\t0.1710\n",
            "british_airways\t0.2015\n",
            "sprintcare\t0.2263\n",
            "upshelp\t0.2263\n",
            "chasesupport\t0.3182\n",
            "tesco\t0.4806\n",
            "spotifycares\t0.5123\n",
            "applesupport\t0.5644\n",
            "southwestair\t0.6114\n",
            "hpsupport\t0.6369\n",
            "o2\t0.7783\n",
            "Removing temp directory /tmp/trab2.root.20211107.124931.824878...\n"
          ]
        }
      ],
      "source": [
        "!python trab2.py \"/content/drive/My Drive/twitter_cs/sample_clean.csv\" "
      ]
    },
    {
      "cell_type": "code",
      "execution_count": 8,
      "metadata": {
        "colab": {
          "base_uri": "https://localhost:8080/"
        },
        "id": "8ncCInbTtOwz",
        "outputId": "dc83ab6e-6180-446d-d233-209309a2ebfc"
      },
      "outputs": [
        {
          "data": {
            "text/plain": [
              "author_id\n",
              "Ask_Spectrum      -0.273200\n",
              "comcastcares      -0.121700\n",
              "VirginTrains       0.171025\n",
              "British_Airways    0.201500\n",
              "UPSHelp            0.226300\n",
              "sprintcare         0.226300\n",
              "ChaseSupport       0.318200\n",
              "Tesco              0.480625\n",
              "SpotifyCares       0.512325\n",
              "AppleSupport       0.564415\n",
              "SouthwestAir       0.611400\n",
              "HPSupport          0.636900\n",
              "O2                 0.778300\n",
              "Name: compound, dtype: float64"
            ]
          },
          "execution_count": 8,
          "metadata": {},
          "output_type": "execute_result"
        }
      ],
      "source": [
        "# Sanity Check pra ver se esta agrupando certo\n",
        "import pandas as pd\n",
        "import nltk\n",
        "from nltk.sentiment import SentimentIntensityAnalyzer\n",
        "nltk.download('vader_lexicon', quiet=True)\n",
        "analyzer = SentimentIntensityAnalyzer()\n",
        "\n",
        "df = pd.read_csv(\"/content/drive/My Drive/twitter_cs/sample_clean.csv\" )\n",
        "\n",
        "df[\"test\"] = df.author_id.str.match(\"^[0-9]+$\")\n",
        "\n",
        "df['compound'] = [analyzer.polarity_scores(x)['compound'] for x in df['text']]\n",
        "\n",
        "df[df[\"test\"]==False].filter([\"author_id\", \"compound\"]).groupby(\"author_id\")[\"compound\"].mean().sort_values()"
      ]
    },
    {
      "cell_type": "code",
      "execution_count": null,
      "metadata": {
        "id": "t0MAk5Czg_YK"
      },
      "outputs": [],
      "source": [
        "!cat log_trabalho2.txt"
      ]
    },
    {
      "cell_type": "code",
      "execution_count": null,
      "metadata": {
        "id": "FC3onBh8hHl-"
      },
      "outputs": [],
      "source": [
        "!rm log_trabalho2.txt"
      ]
    },
    {
      "cell_type": "code",
      "execution_count": 9,
      "metadata": {
        "colab": {
          "base_uri": "https://localhost:8080/"
        },
        "id": "RDGaqJcRT_vx",
        "outputId": "4574cb61-7014-45b5-8baa-e417c2c9bb52"
      },
      "outputs": [
        {
          "name": "stdout",
          "output_type": "stream",
          "text": [
            "No configs found; falling back on auto-configuration\n",
            "No configs specified for inline runner\n",
            "Creating temp directory /tmp/trab2.root.20211107.125541.754139\n",
            "Running step 1 of 2...\n",
            "Running step 2 of 2...\n",
            "job output is in /tmp/trab2.root.20211107.125541.754139/output\n",
            "Streaming final output from /tmp/trab2.root.20211107.125541.754139/output...\n",
            "jackbox\t0.0000\n",
            "yahoocare\t0.0175\n",
            "nationalrailenq\t0.0204\n",
            "kfc_uki_help\t0.0440\n",
            "greggsofficial\t0.0455\n",
            "mtnc_care\t0.0573\n",
            "virginamerica\t0.0705\n",
            "tacobellteam\t0.0713\n",
            "londonmidland\t0.0846\n",
            "pandorasupport\t0.0927\n",
            "sw_help\t0.0942\n",
            "gwrhelp\t0.0982\n",
            "virgintrains\t0.1027\n",
            "virginatlantic\t0.1338\n",
            "safaricom_care\t0.1571\n",
            "askvisa\t0.1717\n",
            "chipotletweets\t0.1730\n",
            "verizonsupport\t0.1940\n",
            "dunkindonuts\t0.2022\n",
            "amazonhelp\t0.2028\n",
            "uscellularcares\t0.2058\n",
            "argoshelpers\t0.2067\n",
            "askrobinhood\t0.2154\n",
            "xboxsupport\t0.2189\n",
            "nikesupport\t0.2245\n",
            "sainsburys\t0.2304\n",
            "spotifycares\t0.2370\n",
            "atviassist\t0.2412\n",
            "tfl\t0.2426\n",
            "askpapajohns\t0.2443\n",
            "askplaystation\t0.2459\n",
            "boostcare\t0.2464\n",
            "idea_cares\t0.2560\n",
            "jetblue\t0.2560\n",
            "postmates_help\t0.2591\n",
            "british_airways\t0.2649\n",
            "askdsc\t0.2655\n",
            "o2\t0.2759\n",
            "asurioncares\t0.2761\n",
            "vmucare\t0.2779\n",
            "mediatemplehelp\t0.2809\n",
            "alaskaair\t0.2845\n",
            "upshelp\t0.2970\n",
            "keybank_help\t0.3000\n",
            "nortonsupport\t0.3040\n",
            "asklyft\t0.3107\n",
            "azuresupport\t0.3123\n",
            "morrisons\t0.3153\n",
            "pearsonsupport\t0.3167\n",
            "askamex\t0.3209\n",
            "askebay\t0.3214\n",
            "hulu_support\t0.3217\n",
            "godaddyhelp\t0.3296\n",
            "adobecare\t0.3368\n",
            "asksalesforce\t0.3447\n",
            "dellcares\t0.3468\n",
            "delta\t0.3524\n",
            "asktigogh\t0.3585\n",
            "hoteltonightcx\t0.3612\n",
            "aldiuk\t0.3645\n",
            "coxhelp\t0.3659\n",
            "sizehelpteam\t0.3700\n",
            "americanair\t0.3750\n",
            "hiltonhelp\t0.3806\n",
            "arbyscares\t0.3813\n",
            "uber_support\t0.3845\n",
            "marksandspencer\t0.3867\n",
            "glocare\t0.3882\n",
            "ask_progressive\t0.3919\n",
            "microsofthelps\t0.3984\n",
            "tesco\t0.3991\n",
            "airasiasupport\t0.4033\n",
            "dropboxsupport\t0.4049\n",
            "ihgservice\t0.4049\n",
            "sprintcare\t0.4054\n",
            "awssupport\t0.4084\n",
            "southwestair\t0.4091\n",
            "oppocarein\t0.4124\n",
            "askpaypal\t0.4139\n",
            "bofa_help\t0.4155\n",
            "ask_spectrum\t0.4260\n",
            "applesupport\t0.4385\n",
            "askseagate\t0.4406\n",
            "tmobilehelp\t0.4486\n",
            "googleplaymusic\t0.4508\n",
            "scsupport\t0.4515\n",
            "neweggservice\t0.4550\n",
            "comcastcares\t0.4737\n",
            "att\t0.4827\n",
            "kimpton\t0.4898\n",
            "doordash_help\t0.4937\n",
            "askpanera\t0.4997\n",
            "ask_wellsfargo\t0.5134\n",
            "mcdonalds\t0.5147\n",
            "airbnbhelp\t0.5176\n",
            "walmart\t0.5312\n",
            "chasesupport\t0.5334\n",
            "airtel_care\t0.5359\n",
            "centurylinkhelp\t0.5370\n",
            "askrbc\t0.5376\n",
            "asktarget\t0.5853\n",
            "twittersupport\t0.5946\n",
            "carlsjr\t0.5950\n",
            "askciti\t0.6313\n",
            "moo\t0.6456\n",
            "hpsupport\t0.6458\n",
            "askvirginmoney\t0.6464\n",
            "Removing temp directory /tmp/trab2.root.20211107.125541.754139...\n"
          ]
        }
      ],
      "source": [
        "!python trab2.py \"/content/drive/My Drive/twitter_cs/sample_clean_larger.csv.gz\" "
      ]
    },
    {
      "cell_type": "code",
      "execution_count": 10,
      "metadata": {
        "colab": {
          "base_uri": "https://localhost:8080/"
        },
        "id": "4vQneQhpUXBc",
        "outputId": "1b4dab6d-4ce1-4ba3-fb8d-0d04bf1852eb"
      },
      "outputs": [
        {
          "name": "stdout",
          "output_type": "stream",
          "text": [
            "No configs found; falling back on auto-configuration\n",
            "No configs specified for inline runner\n",
            "Creating temp directory /tmp/trab2.root.20211107.125641.722705\n",
            "Running step 1 of 2...\n",
            "Running step 2 of 2...\n",
            "job output is in /tmp/trab2.root.20211107.125641.722705/output\n",
            "Streaming final output from /tmp/trab2.root.20211107.125641.722705/output...\n",
            "kfc_uki_help\t-0.0501\n",
            "nationalrailenq\t-0.0083\n",
            "sw_help\t-0.0044\n",
            "londonmidland\t0.0211\n",
            "tacobellteam\t0.0289\n",
            "gwrhelp\t0.0517\n",
            "jackbox\t0.0586\n",
            "mtnc_care\t0.0867\n",
            "greggsofficial\t0.1055\n",
            "virgintrains\t0.1225\n",
            "askvisa\t0.1411\n",
            "uscellularcares\t0.1572\n",
            "yahoocare\t0.1655\n",
            "verizonsupport\t0.1689\n",
            "askseagate\t0.1746\n",
            "askdsc\t0.1766\n",
            "virginatlantic\t0.1810\n",
            "safaricom_care\t0.1832\n",
            "argoshelpers\t0.1906\n",
            "nikesupport\t0.1906\n",
            "postmates_help\t0.1979\n",
            "amazonhelp\t0.2007\n",
            "chipotletweets\t0.2066\n",
            "tfl\t0.2147\n",
            "virginamerica\t0.2218\n",
            "jetblue\t0.2242\n",
            "pandorasupport\t0.2327\n",
            "nortonsupport\t0.2331\n",
            "askplaystation\t0.2408\n",
            "british_airways\t0.2422\n",
            "o2\t0.2425\n",
            "hulu_support\t0.2440\n",
            "idea_cares\t0.2469\n",
            "spotifycares\t0.2474\n",
            "pearsonsupport\t0.2505\n",
            "sainsburys\t0.2509\n",
            "xboxsupport\t0.2562\n",
            "vmucare\t0.2608\n",
            "atviassist\t0.2783\n",
            "godaddyhelp\t0.2848\n",
            "asklyft\t0.2885\n",
            "askpapajohns\t0.2973\n",
            "askrobinhood\t0.2975\n",
            "officesupport\t0.3004\n",
            "azuresupport\t0.3016\n",
            "neweggservice\t0.3025\n",
            "carlsjr\t0.3088\n",
            "upshelp\t0.3138\n",
            "coxhelp\t0.3233\n",
            "asurioncares\t0.3241\n",
            "alaskaair\t0.3277\n",
            "asktigogh\t0.3295\n",
            "askamex\t0.3340\n",
            "boostcare\t0.3346\n",
            "morrisons\t0.3361\n",
            "arbyscares\t0.3454\n",
            "askebay\t0.3491\n",
            "delta\t0.3511\n",
            "dellcares\t0.3517\n",
            "airasiasupport\t0.3553\n",
            "uber_support\t0.3572\n",
            "mediatemplehelp\t0.3576\n",
            "asksalesforce\t0.3591\n",
            "sizehelpteam\t0.3629\n",
            "tesco\t0.3629\n",
            "sprintcare\t0.3657\n",
            "americanair\t0.3669\n",
            "adobecare\t0.3739\n",
            "hoteltonightcx\t0.3742\n",
            "glocare\t0.3785\n",
            "doordash_help\t0.3822\n",
            "dunkindonuts\t0.3893\n",
            "marksandspencer\t0.3947\n",
            "moo\t0.4017\n",
            "awssupport\t0.4074\n",
            "ask_spectrum\t0.4078\n",
            "dropboxsupport\t0.4081\n",
            "microsofthelps\t0.4108\n",
            "southwestair\t0.4122\n",
            "ihgservice\t0.4128\n",
            "googleplaymusic\t0.4152\n",
            "bofa_help\t0.4307\n",
            "tmobilehelp\t0.4350\n",
            "applesupport\t0.4371\n",
            "ask_progressive\t0.4415\n",
            "aldiuk\t0.4461\n",
            "askpaypal\t0.4463\n",
            "oppocarein\t0.4544\n",
            "comcastcares\t0.4650\n",
            "keybank_help\t0.4701\n",
            "airbnbhelp\t0.4720\n",
            "askvirginmoney\t0.4788\n",
            "mcdonalds\t0.4903\n",
            "kimpton\t0.4912\n",
            "att\t0.4984\n",
            "askrbc\t0.4994\n",
            "scsupport\t0.5077\n",
            "ask_wellsfargo\t0.5099\n",
            "airtel_care\t0.5125\n",
            "chasesupport\t0.5153\n",
            "askpanera\t0.5389\n",
            "centurylinkhelp\t0.5443\n",
            "walmart\t0.5495\n",
            "hiltonhelp\t0.5527\n",
            "askciti\t0.5837\n",
            "asktarget\t0.5867\n",
            "twittersupport\t0.6029\n",
            "hpsupport\t0.6110\n",
            "Removing temp directory /tmp/trab2.root.20211107.125641.722705...\n"
          ]
        }
      ],
      "source": [
        "!python trab2.py \"/content/drive/My Drive/twitter_cs/twcs_clean.csv.gz\" "
      ]
    },
    {
      "cell_type": "code",
      "execution_count": 1,
      "metadata": {
        "colab": {
          "base_uri": "https://localhost:8080/",
          "height": 174
        },
        "id": "Qwj1jY1Yl0gT",
        "outputId": "7d6e95d5-c9b4-40d2-b8c1-e5dc9fa6ad86"
      },
      "outputs": [
        {
          "ename": "NameError",
          "evalue": "ignored",
          "output_type": "error",
          "traceback": [
            "\u001b[0;31m---------------------------------------------------------------------------\u001b[0m",
            "\u001b[0;31mNameError\u001b[0m                                 Traceback (most recent call last)",
            "\u001b[0;32m<ipython-input-1-7e7fc67cc157>\u001b[0m in \u001b[0;36m<module>\u001b[0;34m()\u001b[0m\n\u001b[0;32m----> 1\u001b[0;31m \u001b[0mdrive\u001b[0m\u001b[0;34m.\u001b[0m\u001b[0mflush_and_unmount\u001b[0m\u001b[0;34m(\u001b[0m\u001b[0;34m)\u001b[0m\u001b[0;34m\u001b[0m\u001b[0;34m\u001b[0m\u001b[0m\n\u001b[0m",
            "\u001b[0;31mNameError\u001b[0m: name 'drive' is not defined"
          ]
        }
      ],
      "source": [
        "drive.flush_and_unmount()"
      ]
    }
  ],
  "metadata": {
    "colab": {
      "collapsed_sections": [],
      "include_colab_link": true,
      "name": "Big Data 010 - Trabalho 2 - Sentimento - Template.ipynb",
      "provenance": []
    },
    "kernelspec": {
      "display_name": "Python 3",
      "name": "python3"
    }
  },
  "nbformat": 4,
  "nbformat_minor": 0
}
